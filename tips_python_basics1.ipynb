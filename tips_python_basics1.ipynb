{
 "cells": [
  {
   "cell_type": "code",
   "execution_count": 1,
   "metadata": {},
   "outputs": [],
   "source": [
    "#Language Fundamentals\n",
    "\n",
    "###################basic\n",
    "#variables\n",
    "#arithmetic operators\n",
    "#logical operators\n",
    "#boolean conditionals (chaining conditionals)\n",
    "#control flow/structures (if, while, for)\n",
    "#primitive data types\n",
    "#functions\n",
    "#common string/date methods\n",
    "#file input/output\n",
    "#modules\n",
    "\n",
    "\n",
    "########################intermediate\n",
    "#OOP (classes, objects, encapsulation, abstrat=ction, inheritence, polymorphism, instance/static/class methods, etc)\n",
    "#data structures/algorithms (time/space complexity, big O)\n",
    "#sequences, collections, iterables\n",
    "#iterators\n",
    "#comprehensions (list, set, dictionary)\n",
    "#lambda functions, map, filter\n",
    "#collections module\n",
    "#generators\n",
    "#decorators\n",
    "#context managers\n",
    "#error handling\n",
    "#packing/unpacking\n",
    "#args, kwargs\n",
    "#PEP8 coding conventions\n",
    "\n",
    "\n",
    "########################advanced\n",
    "#multiprocessing/multithreading\n",
    "#unit tests (pytest)\n",
    "#debugging skills\n",
    "#organizing code: modules, layout\n",
    "\n",
    "\n",
    "\n",
    "########################project\n",
    "#web application development (e.g. Flask)\n",
    "#ORM - SQLAlchemy, data modelling, etc\n",
    "#using libraries: Pandas, Matplotlib, Numpy, SciPy, etc\n",
    "\n"
   ]
  },
  {
   "cell_type": "code",
   "execution_count": 2,
   "metadata": {},
   "outputs": [],
   "source": [
    "# assert sum([ 2, 3, 5]) == 10, \"Should be 10\"  "
   ]
  },
  {
   "cell_type": "code",
   "execution_count": 3,
   "metadata": {},
   "outputs": [
    {
     "name": "stdout",
     "output_type": "stream",
     "text": [
      "Weird\n"
     ]
    }
   ],
   "source": [
    "import math\n",
    "import os\n",
    "import random\n",
    "import re\n",
    "import sys\n",
    "\n",
    "#if __name__ == '__main__':\n",
    "#    n = int(input().strip())\n",
    "\n",
    "n = 10 #input()\n",
    "\n",
    "if n%2 != 0: #odd\n",
    "    print(\"Weird\")    \n",
    "else:\n",
    "    if n in range(2, 6):\n",
    "        print(\"Not Weird\")\n",
    "    elif n in range(6, 21):\n",
    "        print(\"Weird\")\n",
    "    elif n > 20:\n",
    "        print(\"Not Weird\")                "
   ]
  },
  {
   "cell_type": "code",
   "execution_count": 4,
   "metadata": {},
   "outputs": [
    {
     "name": "stdout",
     "output_type": "stream",
     "text": [
      "range(3, 8, 2)\n",
      "[3, 5, 7]\n"
     ]
    }
   ],
   "source": [
    "a=range(3, 8, 2)\n",
    "print(a) #range(3, 8, 2)\n",
    "print(list(a)) #[3, 5, 7]"
   ]
  },
  {
   "cell_type": "code",
   "execution_count": 5,
   "metadata": {},
   "outputs": [
    {
     "data": {
      "text/plain": [
       "False"
      ]
     },
     "execution_count": 5,
     "metadata": {},
     "output_type": "execute_result"
    }
   ],
   "source": [
    "5 in range(3)"
   ]
  },
  {
   "cell_type": "code",
   "execution_count": 6,
   "metadata": {},
   "outputs": [
    {
     "name": "stdout",
     "output_type": "stream",
     "text": [
      "9876543210"
     ]
    }
   ],
   "source": [
    "#print in reverse\n",
    "#i=10\n",
    "for i in range(10):\n",
    "    print(9-i, end='')\n",
    "    #i+=1"
   ]
  },
  {
   "cell_type": "code",
   "execution_count": 7,
   "metadata": {},
   "outputs": [
    {
     "name": "stdout",
     "output_type": "stream",
     "text": [
      "String?  False\n",
      "String?  False\n",
      "Type?  <class 'list'>\n",
      "Input:   [1, 3, 2, 4, 9, 6]\n",
      "Output:  [6, 9, 4, 2, 3, 1] /over"
     ]
    }
   ],
   "source": [
    "#In Python, sequence is the generic term for a group of items with a deterministic ordering (includes string, list, tuple). \n",
    "#compare with collection, which is unordered e.g. sets and dictionaries (BTW, dicts are ordered since Python 3.7??)\n",
    "#Other sequences are byte sequences, byte arrays, and range objects\n",
    "#sequence operations: \n",
    "#   concatenate (+), repeat (*), \n",
    "#   membership (in), \n",
    "#   indexing and slicing (take out a part of a sequence from the sequence)\n",
    "#sequence functions: \n",
    "#   len(mySeq), \n",
    "#   mySeq.index(x) returns the index of the first occurrence of x in mySeq, \n",
    "#   min(mySeq) and max(mySeq) return the smallest and largest elements lexicographically, \n",
    "#   mySeq.count(x) returns the number of occurrences of x in mySeq\n",
    "\n",
    "\n",
    "# function to reverse a sequence (string, list, tuple)\n",
    "#input='abcdef' #string\n",
    "input=[1,3,2,4,9,6] #array\n",
    "#input=1,3,2,4,9,6, #tuple\n",
    "\n",
    "if type(input) is str: output = ''\n",
    "else: output = []\n",
    "print('String? ', type(input) is str)\n",
    "print('String? ', isinstance(input, str))\n",
    "print('Type? ', type(input))\n",
    "for i in input:\n",
    "    if type(input) is str:\n",
    "        #output += i #forward order #for a list, u would use lst.append(i)\n",
    "        output = i+output #reverse order #for a list, u would use lst.insert(0, i)\n",
    "    else:\n",
    "        #output += i #forward order #for a list, u would use lst.append(i)\n",
    "        output.insert(0, i) #output = i+output #reverse order #for a list, u would use lst.insert(0, i)\n",
    "\n",
    "print('Input:  ', input)\n",
    "print('Output: ', output, end=' /over')\n"
   ]
  },
  {
   "cell_type": "code",
   "execution_count": 8,
   "metadata": {},
   "outputs": [
    {
     "name": "stdout",
     "output_type": "stream",
     "text": [
      "aaaaaaaaaaaaaa True\n",
      "bbbbbbbbbbbbbb True\n",
      "b'\\x00\\x00\\x00\\x00'\n",
      "b'\\x04\\x02\\x01'\n",
      "b'Hey'\n",
      "bytearray(b'\\x00\\x00\\x00\\x00')\n",
      "bytearray(b'\\x01\\x02\\x03\\x04')\n",
      "bytearray(b'Hola!')\n",
      "4, 6, 8, 10, 12, 14, "
     ]
    }
   ],
   "source": [
    "input='abcd'\n",
    "print('aaaaaaaaaaaaaa', type(input) is str)\n",
    "print('bbbbbbbbbbbbbb', isinstance(input, (list, str)))\n",
    "\n",
    "###byte sequences - immutable\n",
    "#create a byte sequence of a given size\n",
    "print(bytes(4)) #b'\\x00\\x00\\x00\\x00'\n",
    "\n",
    "#iterables can be converted into byte sequence\n",
    "print( bytes([4,2,1]) )  #b'\\x04\\x02\\x01'\n",
    "\n",
    "#For strings, we have to provide the encoding in the second parameter.\n",
    "print(bytes('Hey', 'utf=8')) #b'Hey'\n",
    "\n",
    "\n",
    "###byte arrays - mutable\n",
    "#Byte arrays are similar to bytes sequence. The only difference here is that byte arrays are mutable while bytes sequences are immutable. \n",
    "# So, it also returns the bytes object the same way.\n",
    "print( bytearray(4))\n",
    "print( bytearray([1, 2, 3, 4]))\n",
    "print( bytearray('Hola!', 'utf-8'))\n",
    "\n",
    "\n",
    "###range sequence\n",
    "#range() is a built-in function in Python that returns us a range object. \n",
    "# The range object is nothing but a sequence of integers. It generates the integers within the specified start and stop range.\n",
    "for i in range(4,16,2):\n",
    "  print(i, end=', ') #4, 6, 8, 10, 12, 14,\n"
   ]
  },
  {
   "cell_type": "code",
   "execution_count": 9,
   "metadata": {},
   "outputs": [
    {
     "name": "stdout",
     "output_type": "stream",
     "text": [
      "8791651845936\n",
      "8791651846000\n",
      "8791651846000\n",
      "True\n",
      "True\n",
      "<class 'int'>\n",
      "True\n",
      "True\n",
      "True\n",
      "True\n"
     ]
    }
   ],
   "source": [
    "a=5\n",
    "print(id(a)) #8791642146608\n",
    "a=7\n",
    "print(id(a)) #8791642146672\n",
    "b=7\n",
    "print(id(b)) #8791642146672\n",
    "print(a == b) #True\n",
    "print(a is b) #True\n",
    "print(type(b)) #<class 'int'>\n",
    "print(type(b) is int)\n",
    "print(isinstance(b, int)) #True\n",
    "\n",
    "print(type('input') is str) #True\n",
    "print(isinstance('input', str)) #True\n"
   ]
  },
  {
   "cell_type": "code",
   "execution_count": 10,
   "metadata": {},
   "outputs": [
    {
     "data": {
      "text/plain": [
       "[5, 6, 3, 2, 4, 1]"
      ]
     },
     "execution_count": 10,
     "metadata": {},
     "output_type": "execute_result"
    }
   ],
   "source": [
    "import random\n",
    "#rnd = random.randint(2, 100) #ransom int\n",
    "#rnd = random.uniform(2, 100) #ransom float\n",
    "mylist=[1,2,3,4,5,6]\n",
    "random.shuffle(mylist)\n",
    "mylist\n",
    "\n",
    "#type(range(10))"
   ]
  },
  {
   "cell_type": "code",
   "execution_count": 11,
   "metadata": {},
   "outputs": [
    {
     "name": "stdout",
     "output_type": "stream",
     "text": [
      "a =  [1, 2, 3, 4, 5, 6, 7]\n",
      "b =  {1, 2, 3, 4, 5, 6, 7}\n",
      "c =  {1: 'Dummy', 2: 'Dummy', 3: 'Dummy', 4: 'Dummy', 5: 'Dummy', 6: 'Dummy', 7: 'Dummy'}\n"
     ]
    }
   ],
   "source": [
    "#comprehensions - generating a container object from another container???\n",
    "x = [1,2,3,4,5,6,7]\n",
    "a = [x for x in x] #list comprehension\n",
    "b = {x for x in x} #set comprehension\n",
    "c = {x:'Dummy' for x in x} #dictionary comprehension\n",
    "\n",
    "print('a = ', a)\n",
    "print('b = ', b)\n",
    "print('c = ', c)\n"
   ]
  },
  {
   "cell_type": "code",
   "execution_count": 12,
   "metadata": {},
   "outputs": [
    {
     "name": "stdout",
     "output_type": "stream",
     "text": [
      "<generator object <genexpr> at 0x0000000004EF40B0>\n",
      "1, 4, 4, 4, 16, 36, "
     ]
    }
   ],
   "source": [
    "x = [1,2,2,2,4,6]\n",
    "\n",
    "def square():\n",
    "    for i in x:\n",
    "        yield(i*i) #generator function\n",
    "\n",
    "sq = square() #returns generator\n",
    "#the following also returns a generator - note the change from square brackets (list comprehension) to brackets\n",
    "sq = (i*i for i in x)\n",
    "\n",
    "print(sq)\n",
    "print(next(sq), end=', ')\n",
    "print(next(sq), end=', ')\n",
    "print(next(sq), end=', ')\n",
    "print(next(sq), end=', ')\n",
    "print(next(sq), end=', ')\n",
    "print(next(sq), end=', ')\n",
    "#print(next(sq), end=', ') #StopIteration error\n",
    "\n",
    "\n"
   ]
  },
  {
   "cell_type": "code",
   "execution_count": 13,
   "metadata": {},
   "outputs": [
    {
     "name": "stdout",
     "output_type": "stream",
     "text": [
      "101, 103, 107, 109, 113, 127, 131, 137, 139, 149, 151, 157, 163, 167, 173, 179, 181, 191, 193, 197, 199, \n",
      "len: 21\n",
      "[101, 103, 107, 109, 113, 127, 131, 137, 139, 149, 151, 157, 163, 167, 173, 179, 181, 191, 193, 197, 199]\n"
     ]
    }
   ],
   "source": [
    "#function to find prime numbers between 100 and 200\n",
    "\n",
    "data_range = range(100, 200)\n",
    "for num in data_range:\n",
    "    if all([num%i != 0 for i in range(2, num)]):\n",
    "        print(num, end=', ')\n",
    "\n",
    "#list comprehension way\n",
    "primes = [num for num in data_range if all([num%i != 0 for i in range(2, num)])]\n",
    "print('')\n",
    "print(f'len: {len(primes)}')\n",
    "print(primes)\n"
   ]
  },
  {
   "cell_type": "code",
   "execution_count": 14,
   "metadata": {},
   "outputs": [
    {
     "name": "stdout",
     "output_type": "stream",
     "text": [
      "[93, 43, 45, 28, 197, 22, 161]\n",
      "[197, 161, 93, 45, 43, 28, 22]\n"
     ]
    }
   ],
   "source": [
    "#function to sort a list\n",
    "\n",
    "import random\n",
    "start=2\n",
    "stop=200\n",
    "limit=7\n",
    "#sort list in descrnding order\n",
    "data_list = [random.randint(start, stop) for i in range(limit)] #[2, 5, 1, 4, 8, 9]\n",
    "print(data_list)\n",
    "#data_list.sort(reverse=True) #sort does inplace\n",
    "#print(data_list)\n",
    "sorted_list = []\n",
    "while data_list:\n",
    "    maximum = data_list[0]\n",
    "    for i in data_list:\n",
    "        if i > maximum:\n",
    "            maximum = i\n",
    "    sorted_list.append(maximum)\n",
    "    data_list.remove(maximum)\n",
    "\n",
    "print(sorted_list)\n"
   ]
  },
  {
   "cell_type": "code",
   "execution_count": 15,
   "metadata": {},
   "outputs": [
    {
     "data": {
      "text/plain": [
       "['a', 'y', 'bb', 'cc', 'aaa']"
      ]
     },
     "execution_count": 15,
     "metadata": {},
     "output_type": "execute_result"
    }
   ],
   "source": [
    "#sort by string length and lexicographical order\n",
    "\n",
    "a_list = [\"y\", \"aaa\", \"cc\", \"bb\", \"a\"]\n",
    "new_list = sorted(a_list, key=lambda x: (len(x), x)) #['a', 'y', 'bb', 'cc', 'aaa']\n",
    "new_list"
   ]
  },
  {
   "cell_type": "code",
   "execution_count": 16,
   "metadata": {},
   "outputs": [
    {
     "name": "stdout",
     "output_type": "stream",
     "text": [
      "0, 1, 1, 2, 3, 5, 8, 13, 21, 34, \n",
      " 1, 0\n",
      " 2, 1\n",
      " 3, 1\n",
      " 4, 2\n",
      " 5, 3\n",
      " 6, 5\n",
      " 7, 8\n",
      " 8, 13\n",
      " 9, 21\n",
      "10, 34\n",
      "11, 55\n",
      "12, 89\n",
      "13, 144\n",
      "14, 233\n",
      "15, 377\n",
      "16, 610\n",
      "17, 987\n",
      "18, 1,597\n",
      "19, 2,584\n",
      "20, 4,181\n",
      "21, 6,765\n",
      "22, 10,946\n",
      "23, 17,711\n",
      "24, 28,657\n",
      "25, 46,368\n",
      "26, 75,025\n",
      "27, 121,393\n",
      "28, 196,418\n",
      "29, 317,811\n",
      "30, 514,229\n",
      "31, 832,040\n",
      "32, 1,346,269\n",
      "33, 2,178,309\n",
      "34, 3,524,578\n",
      "35, 5,702,887\n",
      "36, 9,227,465\n",
      "37, 14,930,352\n",
      "38, 24,157,817\n",
      "39, 39,088,169\n",
      "40, 63,245,986\n",
      "41, 102,334,155\n",
      "42, 165,580,141\n",
      "43, 267,914,296\n",
      "44, 433,494,437\n",
      "45, 701,408,733\n",
      "46, 1,134,903,170\n",
      "47, 1,836,311,903\n",
      "48, 2,971,215,073\n",
      "49, 4,807,526,976\n",
      "50, 7,778,742,049\n",
      "51, 12,586,269,025\n",
      "52, 20,365,011,074\n",
      "53, 32,951,280,099\n",
      "54, 53,316,291,173\n",
      "55, 86,267,571,272\n",
      "56, 139,583,862,445\n",
      "57, 225,851,433,717\n",
      "58, 365,435,296,162\n",
      "59, 591,286,729,879\n",
      "60, 956,722,026,041\n",
      "61, 1,548,008,755,920\n",
      "62, 2,504,730,781,961\n",
      "63, 4,052,739,537,881\n",
      "64, 6,557,470,319,842\n",
      "65, 10,610,209,857,723\n",
      "66, 17,167,680,177,565\n",
      "67, 27,777,890,035,288\n",
      "68, 44,945,570,212,853\n",
      "69, 72,723,460,248,141\n",
      "70, 117,669,030,460,994\n",
      "71, 190,392,490,709,135\n",
      "72, 308,061,521,170,129\n",
      "73, 498,454,011,879,264\n",
      "74, 806,515,533,049,393\n",
      "75, 1,304,969,544,928,657\n",
      "76, 2,111,485,077,978,050\n",
      "77, 3,416,454,622,906,707\n",
      "78, 5,527,939,700,884,757\n",
      "79, 8,944,394,323,791,464\n",
      "80, 14,472,334,024,676,221\n",
      "81, 23,416,728,348,467,685\n",
      "82, 37,889,062,373,143,906\n",
      "83, 61,305,790,721,611,591\n",
      "84, 99,194,853,094,755,497\n",
      "85, 160,500,643,816,367,088\n",
      "86, 259,695,496,911,122,585\n",
      "87, 420,196,140,727,489,673\n",
      "88, 679,891,637,638,612,258\n",
      "89, 1,100,087,778,366,101,931\n",
      "90, 1,779,979,416,004,714,189\n",
      "91, 2,880,067,194,370,816,120\n",
      "92, 4,660,046,610,375,530,309\n",
      "93, 7,540,113,804,746,346,429\n",
      "94, 12,200,160,415,121,876,738\n",
      "95, 19,740,274,219,868,223,167\n",
      "96, 31,940,434,634,990,099,905\n",
      "97, 51,680,708,854,858,323,072\n",
      "98, 83,621,143,489,848,422,977\n",
      "99, 135,301,852,344,706,746,049\n",
      "100, 218,922,995,834,555,169,026\n",
      "101, 354,224,848,179,261,915,075\n",
      "102, 573,147,844,013,817,084,101\n",
      "103, 927,372,692,193,078,999,176\n",
      "104, 1,500,520,536,206,896,083,277\n",
      "105, 2,427,893,228,399,975,082,453\n",
      "106, 3,928,413,764,606,871,165,730\n",
      "107, 6,356,306,993,006,846,248,183\n",
      "108, 10,284,720,757,613,717,413,913\n",
      "109, 16,641,027,750,620,563,662,096\n",
      "110, 26,925,748,508,234,281,076,009\n",
      "111, 43,566,776,258,854,844,738,105\n",
      "112, 70,492,524,767,089,125,814,114\n",
      "113, 114,059,301,025,943,970,552,219\n",
      "114, 184,551,825,793,033,096,366,333\n",
      "115, 298,611,126,818,977,066,918,552\n",
      "116, 483,162,952,612,010,163,284,885\n",
      "117, 781,774,079,430,987,230,203,437\n",
      "118, 1,264,937,032,042,997,393,488,322\n",
      "119, 2,046,711,111,473,984,623,691,759\n",
      "120, 3,311,648,143,516,982,017,180,081\n",
      "121, 5,358,359,254,990,966,640,871,840\n",
      "122, 8,670,007,398,507,948,658,051,921\n",
      "123, 14,028,366,653,498,915,298,923,761\n",
      "124, 22,698,374,052,006,863,956,975,682\n",
      "125, 36,726,740,705,505,779,255,899,443\n",
      "126, 59,425,114,757,512,643,212,875,125\n",
      "127, 96,151,855,463,018,422,468,774,568\n",
      "128, 155,576,970,220,531,065,681,649,693\n",
      "129, 251,728,825,683,549,488,150,424,261\n",
      "130, 407,305,795,904,080,553,832,073,954\n",
      "131, 659,034,621,587,630,041,982,498,215\n",
      "132, 1,066,340,417,491,710,595,814,572,169\n",
      "133, 1,725,375,039,079,340,637,797,070,384\n",
      "134, 2,791,715,456,571,051,233,611,642,553\n",
      "135, 4,517,090,495,650,391,871,408,712,937\n",
      "136, 7,308,805,952,221,443,105,020,355,490\n",
      "137, 11,825,896,447,871,834,976,429,068,427\n",
      "138, 19,134,702,400,093,278,081,449,423,917\n",
      "139, 30,960,598,847,965,113,057,878,492,344\n"
     ]
    }
   ],
   "source": [
    "#fibonacci series: each number is the sum of the previous two numbers\n",
    "#0, 1, 1, 2, 3, 5, 8, 13, 21, ...\n",
    "\n",
    "#using ordinary function - AMAZINGLY TOO SLOW EVEN FOR VERY SMALL N such as 100 !!!!!!!!\n",
    "def fibonacci(n):\n",
    "    if n==0: return 0\n",
    "    if n==1: return 1\n",
    "    return (fibonacci(n-1) + fibonacci(n-2))\n",
    "\n",
    "for i in range(10):\n",
    "    print (fibonacci(i), end=', ')\n",
    "\n",
    "\n",
    "#alternative version using generator - AMAZINGLY TOO FAST EVEN FOR VERY LARGE N such as 34000000000000000000000000000 !!!!!!!!\n",
    "def fib():\n",
    "    a, b = 0, 1\n",
    "    while True:\n",
    "        yield a\n",
    "        a, b = b, a+b\n",
    "\n",
    "print()\n",
    "for i, f in enumerate(fib(), start=1):\n",
    "    if f > 34_000_000_000_000_000_000_000_000_000:\n",
    "        break\n",
    "\n",
    "    print(f'{i:2d}, {f:,d}', end='\\n')"
   ]
  },
  {
   "cell_type": "code",
   "execution_count": null,
   "metadata": {},
   "outputs": [],
   "source": []
  },
  {
   "cell_type": "code",
   "execution_count": 17,
   "metadata": {},
   "outputs": [
    {
     "data": {
      "text/plain": [
       "{3, 4}"
      ]
     },
     "execution_count": 17,
     "metadata": {},
     "output_type": "execute_result"
    }
   ],
   "source": [
    "#print set of duplicates in a list\n",
    "\n",
    "data_list = [3, 2, 3, 3, 4, 5, 4]\n",
    "duplicate_set = set([i for i in data_list if data_list.count(i)>1])\n",
    "duplicate_set"
   ]
  },
  {
   "cell_type": "code",
   "execution_count": 18,
   "metadata": {},
   "outputs": [
    {
     "name": "stdout",
     "output_type": "stream",
     "text": [
      "this\n",
      "is\n",
      "a\n",
      "sentence\n",
      "Number of words:  4\n"
     ]
    }
   ],
   "source": [
    "#print words in a given sentence\n",
    "words = 'this is a sentence'\n",
    "\n",
    "word_array = words.split()\n",
    "for word in word_array:\n",
    "    print(word)\n",
    "\n",
    "print(f'Number of words: {len(word_array): 2d}')"
   ]
  },
  {
   "cell_type": "code",
   "execution_count": 19,
   "metadata": {},
   "outputs": [
    {
     "name": "stdout",
     "output_type": "stream",
     "text": [
      "82807664\n",
      "82807408\n",
      "82807408\n",
      "8791651846480\n",
      "8791651847184\n",
      "abc 30851696\n",
      "abcw 82871024\n",
      "True\n",
      "True\n",
      "True\n",
      "False\n"
     ]
    }
   ],
   "source": [
    "#an object has ID, type and value\n",
    "\n",
    "a='abcdef'\n",
    "b='123456'\n",
    "c=b\n",
    "d=22\n",
    "\n",
    "print(id(a)) #memory ID\n",
    "print(id(b))\n",
    "print(id(c))\n",
    "print(id(d))\n",
    "d=44\n",
    "print(id(d))\n",
    "\n",
    "\n",
    "# mutable types can change inplace - list, set, dictionary - e.g. list.append\n",
    "# immutable types can only change when given a new variable (new object) - tuple, string, number - e.g. string1 = string1 + \"abc\". Here the two string1 variables are different objects\n",
    "s='abc'\n",
    "print(s, id(s)) \n",
    "s+='w'\n",
    "print(s, id(s)) #s is a new object cos string is immutable. this id is different from the above one\n",
    "\n",
    "# the above argument makes a lot of sense\n",
    "\n",
    "\n",
    "#copying and updating mutable object\n",
    "l1=[1,2,3]\n",
    "l2=l1\n",
    "print(l2 is l1) #True\n",
    "l2.append(9) #update mutable object\n",
    "print(l2 is l1) #True\n",
    "\n",
    "#copying and updating immutable object\n",
    "l1='abc'\n",
    "l2=l1\n",
    "print(l2 is l1) #True\n",
    "l2 += 'extra' #update immutable object\n",
    "print(l2 is l1) #False - when you try to update an immutable object, a new object is created\n"
   ]
  },
  {
   "cell_type": "code",
   "execution_count": 20,
   "metadata": {},
   "outputs": [
    {
     "name": "stdout",
     "output_type": "stream",
     "text": [
      "[1, 4, 9, 16] 82640640\n",
      "[1, 4, 9, 16] 81507776\n",
      "[1, 4, 9, 16] 82307712\n",
      "[1, 3, 4]\n"
     ]
    }
   ],
   "source": [
    "# map function - apply the same function to each element in a sequence\n",
    "# e.g. square each element of a list\n",
    "l1 = [1, 2, 3, 4]\n",
    "squares = list(map(lambda x: x**2, l1)) #[1, 4, 9, 16] - note that map returns a map object, so convert to list\n",
    "print(squares, id(squares))\n",
    "#list comprehension altrenative\n",
    "squares = [i**2 for i in l1] #new squares object\n",
    "print(squares, id(squares))\n",
    "\n",
    "#storing lambda in a variable\n",
    "sq = lambda x: x**2 #lambda function\n",
    "squares = list(map(sq, l1))\n",
    "print(squares, id(squares))\n",
    "\n",
    "l3 = ['1', '3', '4', '']\n",
    "print(list(map(int, [i for i in l3 if i])))"
   ]
  },
  {
   "cell_type": "code",
   "execution_count": 21,
   "metadata": {},
   "outputs": [
    {
     "data": {
      "text/plain": [
       "13"
      ]
     },
     "execution_count": 21,
     "metadata": {},
     "output_type": "execute_result"
    }
   ],
   "source": [
    "'''\n",
    "Python’s reduce() operates on any iterable—not just lists — and performs the following steps:\n",
    "\n",
    "    Apply a function (or callable) to the first two items in an iterable and generate a partial result.\n",
    "    Use that partial result, together with the third item in the iterable, to generate another partial result.\n",
    "    Repeat the process until the iterable is exhausted and then return a single cumulative value, not list like in the case of map.\n",
    "'''\n",
    "\n",
    "'''\n",
    "The idea behind Python’s reduce() is to take an existing function, apply it cumulatively to all the items in an iterable, and generate a single final value. \n",
    "In general, Python’s reduce() is handy for processing iterables without writing explicit for loops. \n",
    "Since reduce() is written in C, its internal loop can be faster than an explicit Python for loop.\n",
    "'''\n",
    "\n",
    "#sum of a series\n",
    "from functools import reduce\n",
    "\n",
    "li1 = [7, 1, 2, 3]\n",
    "sum = reduce(lambda x, y: x+y, li1)\n",
    "sum\n"
   ]
  },
  {
   "cell_type": "code",
   "execution_count": 22,
   "metadata": {},
   "outputs": [
    {
     "data": {
      "text/plain": [
       "24"
      ]
     },
     "execution_count": 22,
     "metadata": {},
     "output_type": "execute_result"
    }
   ],
   "source": [
    "#reduce contd\n",
    "\n",
    "from functools import reduce\n",
    "numbers = [1, 2, 3, 4]\n",
    "reduce(lambda a, b: a * b, numbers)"
   ]
  },
  {
   "cell_type": "code",
   "execution_count": 23,
   "metadata": {},
   "outputs": [
    {
     "name": "stdout",
     "output_type": "stream",
     "text": [
      "61248 82873648\n",
      "61248 82817584\n"
     ]
    }
   ],
   "source": [
    "# The filter() function filters the given sequence with the help of a function that tests each element in the sequence to be true or not. \n",
    "# syntax: filter(function, sequence). Sequences are list, tuple, string\n",
    "# extract digits from string\n",
    "string = '6abc12e4fgh8'\n",
    "digits = ''.join(filter(lambda i: i.isdigit(), string))\n",
    "print(digits, id(digits))\n",
    "#list comprehension altrenative\n",
    "digits = ''.join([i for i in list(string) if i.isdigit()]) #works the same\n",
    "print(digits, id(digits))\n"
   ]
  },
  {
   "cell_type": "code",
   "execution_count": 24,
   "metadata": {},
   "outputs": [],
   "source": [
    "# Context managers\n",
    "# Context managers allow you to allocate and release resources precisely when you want to. The most widely used example of context managers is the with statement.\n",
    "\n",
    "\"\"\"\n",
    "THe code below is equivalent to:\n",
    "file = open('some_file', 'w')\n",
    "try:\n",
    "    file.write('Hola!')\n",
    "finally:\n",
    "    file.close()\n",
    "\"\"\"\n",
    "\n",
    "with open('D:/Temp/try.txt', 'w') as f:\n",
    "    f.write('My file ...')    "
   ]
  },
  {
   "cell_type": "code",
   "execution_count": 25,
   "metadata": {},
   "outputs": [],
   "source": [
    "with open('D:/Temp/try.txt', 'a') as f:\n",
    "    f.write(' .... again ... My file ... \\nqqqqqqqqqqqq\\rrrrrrrrrrrr')"
   ]
  },
  {
   "cell_type": "code",
   "execution_count": 26,
   "metadata": {},
   "outputs": [
    {
     "name": "stdout",
     "output_type": "stream",
     "text": [
      "['M', 'y', ' ', 'f', 'i', 'l', 'e', ' ', '.', '.', '.', ' ', '.', '.', '.', '.', ' ', 'a', 'g', 'a', 'i', 'n', ' ', '.', '.', '.', ' ', 'M', 'y', ' ', 'f', 'i', 'l', 'e', ' ', '.', '.', '.', ' ', '\\n', 'q', 'q', 'q', 'q', 'q', 'q', 'q', 'q', 'q', 'q', 'q', 'q', '\\n', 'r', 'r', 'r', 'r', 'r', 'r', 'r', 'r', 'r', 'r', 'r']\n",
      "['My', 'file', '...', '....', 'again', '...', 'My', 'file', '...', 'qqqqqqqqqqqq', 'rrrrrrrrrrr']\n",
      "My file ... .... again ... My file ... \n",
      "qqqqqqqqqqqq\n",
      "rrrrrrrrrrr\n",
      "y file ... .... again ... My file ... \n",
      "qqqqqqqqqqqq\n",
      "rrrrrrrrrrr\n",
      "My FILE ... .... again ... My FILE ... \n",
      "qqqqqqqqqqqq\n",
      "rrrrrrrrrrr\n"
     ]
    }
   ],
   "source": [
    "with open('D:/Temp/try.txt', 'r') as f:\n",
    "    data = f.read()\n",
    "\n",
    "print(list(data))\n",
    "print(data.split())\n",
    "print(data)\n",
    "print(data.strip('M')) #strips character at the beginning or end only\n",
    "print(data.replace('file', 'FILE'))\n"
   ]
  },
  {
   "cell_type": "code",
   "execution_count": 27,
   "metadata": {},
   "outputs": [
    {
     "name": "stdout",
     "output_type": "stream",
     "text": [
      "There are 3 lines\n",
      "There are 3 lines\n",
      "My file ... .... again ... My file ... \n",
      "\n",
      "qqqqqqqqqqqq\n",
      "\n",
      "rrrrrrrrrrr\n"
     ]
    }
   ],
   "source": [
    "with open('D:/Temp/try.txt', 'r') as f:\n",
    "    data = f.readlines()\n",
    "\n",
    "print(f'There are {len(data)} lines')\n",
    "print('There are %d lines' % (len(data)))\n",
    "\n",
    "for line in data:\n",
    "    print(line)"
   ]
  },
  {
   "cell_type": "code",
   "execution_count": 28,
   "metadata": {},
   "outputs": [
    {
     "data": {
      "text/plain": [
       "(3, 5, 6)"
      ]
     },
     "execution_count": 28,
     "metadata": {},
     "output_type": "execute_result"
    }
   ],
   "source": [
    "a=(3,)+(5,6) #.append(4)\n",
    "a"
   ]
  },
  {
   "cell_type": "code",
   "execution_count": 29,
   "metadata": {},
   "outputs": [
    {
     "name": "stdout",
     "output_type": "stream",
     "text": [
      "1\n",
      "[999, 1]\n",
      "2\n",
      "[999, 1, 2]\n",
      "3\n",
      "[999, 1, 2, 3]\n",
      "4\n",
      "[999, 1, 2, 3, 4]\n",
      "82601088 82601088 82601088 82601088\n",
      "True\n"
     ]
    }
   ],
   "source": [
    "# Python BAD Practices To Avoid\n",
    "# never use a mutable object (e.g. list) as a default parameter \n",
    "def append_number(num, numbers=[999]): #this would be okay if numbers was immutable like tuple, string, number\n",
    "    numbers.append(num)\n",
    "    print(num)\n",
    "    print(numbers)\n",
    "    return numbers #it is the same object being returned all the time\n",
    "\n",
    "a = append_number(1) #[99, 1]\n",
    "b = append_number(2) #[99, 1, 2] - this is weird. the list object numbers already has element 1 since list is mutable. numbers is not being recreated at each function call. it is just being updated since it is mutable.\n",
    "c = append_number(3) #[999, 1, 2, 3] #keeps the previous value of numbers object\n",
    "d = append_number(4) #[999, 1, 2, 3, 4] #keeps the previous value of numbers object\n",
    "print(id(a), id(b), id(c), id(d)) #87772032 87772032 87772032 87772032\n",
    "print(a is b is c is d) #True\n",
    "\n",
    "       "
   ]
  },
  {
   "cell_type": "code",
   "execution_count": null,
   "metadata": {},
   "outputs": [],
   "source": []
  },
  {
   "cell_type": "code",
   "execution_count": 30,
   "metadata": {},
   "outputs": [
    {
     "name": "stdout",
     "output_type": "stream",
     "text": [
      "8791651845936\n",
      "8791651846000\n",
      "8791651846000\n",
      "True\n",
      "True\n",
      "<class 'int'>\n",
      "True\n",
      "True\n"
     ]
    }
   ],
   "source": [
    "a=5\n",
    "print(id(a)) #8791642146608\n",
    "a=7\n",
    "print(id(a)) #8791642146672\n",
    "b=7\n",
    "print(id(b)) #8791642146672\n",
    "print(a == b) #True\n",
    "print(a is b) #True\n",
    "print(type(b)) #<class 'int'>\n",
    "print(type(b) is int)\n",
    "print(isinstance(b, int)) #True\n"
   ]
  },
  {
   "cell_type": "code",
   "execution_count": 31,
   "metadata": {},
   "outputs": [
    {
     "name": "stdout",
     "output_type": "stream",
     "text": [
      "2\n"
     ]
    }
   ],
   "source": [
    "from collections import namedtuple\n",
    "\n",
    "# Use a list of strings as field names\n",
    "\n",
    "Point = namedtuple(\"Point\", [\"x\", \"y\"])\n",
    "\n",
    "point = Point(2, 4)\n",
    "#Point(x=2, y=4)\n",
    "\n",
    "# Access the coordinates\n",
    "print(point.x)\n"
   ]
  },
  {
   "cell_type": "code",
   "execution_count": 32,
   "metadata": {},
   "outputs": [
    {
     "name": "stdout",
     "output_type": "stream",
     "text": [
      "defaultdict(<class 'int'>, {'this': 2, 'is': 1, 'my': 2, 'list': 1, 'of': 1, 'words,': 1, 'or': 1})\n",
      "[('is', 1), ('list', 1), ('my', 2), ('of', 1), ('or', 1), ('this', 2), ('words,', 1)]\n",
      "[('words,', 1), ('this', 2), ('or', 1), ('of', 1), ('my', 2), ('list', 1), ('is', 1)]\n",
      "[('this', 2), ('my', 2), ('is', 1), ('list', 1), ('of', 1), ('words,', 1), ('or', 1)]\n",
      "Counter({'this': 2, 'my': 2, 'is': 1, 'list': 1, 'of': 1, 'words,': 1, 'or': 1})\n"
     ]
    }
   ],
   "source": [
    "#some subclasses of collections module: defaultdict, Counter, namedtuple, OrderedDict, \n",
    "words = \"this is my list of words, or my this\"\n",
    "\n",
    "#using defaultdict to count\n",
    "from collections import defaultdict\n",
    "\n",
    "#print(defaultdict(lambda: 0))\n",
    "#print(defaultdict(int))\n",
    "\n",
    "counter = defaultdict(int)\n",
    "\n",
    "for word in words.split():\n",
    "    counter[word] += 1\n",
    "\n",
    "print(counter)\n",
    "print(sorted(counter.items()))\n",
    "#can lambda take more than one parameter?\n",
    "print(sorted(counter.items(), key=lambda x: x[0], reverse=True))\n",
    "print(sorted(counter.items(), key=lambda x: x[1], reverse=True))\n",
    "#print(sorted(counter.items(), key=lambda x, y: y, reverse=True))\n",
    "\n",
    "#using Counter to count\n",
    "from collections import Counter\n",
    "print(Counter(words.split()))\n",
    "\n"
   ]
  },
  {
   "cell_type": "code",
   "execution_count": 33,
   "metadata": {},
   "outputs": [
    {
     "data": {
      "text/plain": [
       "{'name': ['aa', 'orama']}"
      ]
     },
     "execution_count": 33,
     "metadata": {},
     "output_type": "execute_result"
    }
   ],
   "source": [
    "#dict setdefault\n",
    "\n",
    "d = {'name': ['aa']} #{}\n",
    "d.setdefault('name', []).append('orama')\n",
    "d"
   ]
  },
  {
   "cell_type": "code",
   "execution_count": 34,
   "metadata": {},
   "outputs": [
    {
     "name": "stdout",
     "output_type": "stream",
     "text": [
      "childhood -> 0-9\n",
      "adolescence -> 9-18\n",
      "adulthood -> 18-65\n",
      "old -> +65\n"
     ]
    }
   ],
   "source": [
    "from collections import OrderedDict\n",
    "#ma not be necessary since Python 3.7 since dict is already ordered by default\n",
    "\n",
    "life_stages = {} #dict() #OrderedDict()\n",
    "\n",
    "life_stages[\"childhood\"] = \"0-9\"\n",
    "life_stages[\"adolescence\"] = \"9-18\"\n",
    "life_stages[\"adulthood\"] = \"18-65\"\n",
    "life_stages[\"old\"] = \"+65\"\n",
    "\n",
    "for stage, years in life_stages.items():\n",
    "    print(stage, \"->\", years)"
   ]
  },
  {
   "cell_type": "code",
   "execution_count": null,
   "metadata": {},
   "outputs": [],
   "source": []
  },
  {
   "cell_type": "code",
   "execution_count": 35,
   "metadata": {},
   "outputs": [
    {
     "name": "stdout",
     "output_type": "stream",
     "text": [
      "True\n",
      "False\n",
      "['John Doe johndoe@mydomain.com admin', 'John Smith johnsmith@mydomain.com user']\n",
      "Search:  False\n",
      "Search:  [False, False]\n"
     ]
    }
   ],
   "source": [
    "#very useful ... membership operators using multiple conditions (any/all)\n",
    "\n",
    "#any([True, False]) - True\n",
    "#all([True, False]) - False\n",
    "\n",
    "person_list_dict = [\n",
    "    {\n",
    "        \"name\": \"John Doe\",\n",
    "        \"email\": \"johndoe@mydomain.com\",\n",
    "        \"role\": \"admin\"\n",
    "    },\n",
    "    {\n",
    "        \"name\": \"John Smith\",\n",
    "        \"email\": \"johnsmith@mydomain.com\",\n",
    "        \"role\": \"user\"\n",
    "    }\n",
    "]\n",
    "\n",
    "#example - does any person have admin role?\n",
    "print(any([person['role'] == 'admin' for person in person_list_dict]))\n",
    "\n",
    "#example - do all persons have admin role?\n",
    "print(all([person['role'] == 'admin' for person in person_list_dict]))\n",
    "\n",
    "search_text='doe adn'\n",
    "person_record = [' '.join(person.values()) for person in person_list_dict]\n",
    "print(person_record)\n",
    "#does search_text appear in all/any person \n",
    "print('Search: ', all(search_text.lower() in record.lower() for record in person_record))\n",
    "#does search_text appear for each person\n",
    "print('Search: ', [all(r.lower() in record.lower() for r in search_text.split()) for record in person_record])\n",
    "#print('Search: ', all(record.contains(search_text, case=False).any() for record in person_record))\n"
   ]
  },
  {
   "cell_type": "code",
   "execution_count": 36,
   "metadata": {},
   "outputs": [
    {
     "data": {
      "text/plain": [
       "False"
      ]
     },
     "execution_count": 36,
     "metadata": {},
     "output_type": "execute_result"
    }
   ],
   "source": [
    "#Container data structures: list, tuple, set, dictionary (collections???)\n",
    "#primitive data structures: numbers, string, \n",
    "\n",
    "a='qqqqqqqqqcc'\n",
    "#a.contains('s') -- doesnt work - AttributeError: 'str' object has no attribute 'contains'\n",
    "'s' in a #False\n",
    "'s' in 'sssssdddd' #True\n",
    "'s' in ['dd', 's'] #True\n",
    "'s' in ['dd', 'ss'] #False\n"
   ]
  },
  {
   "cell_type": "code",
   "execution_count": 37,
   "metadata": {},
   "outputs": [
    {
     "name": "stdout",
     "output_type": "stream",
     "text": [
      "{1, 2, 3, 4}\n",
      "{'a': 3, 'b': 1, 'c': 4, 'd': 2}\n",
      "[3, 1, 4, 2]\n"
     ]
    }
   ],
   "source": [
    "#testing ordering\n",
    "\n",
    "#set\n",
    "v1 = set()\n",
    "v1.add(3)\n",
    "v1.add(1)\n",
    "v1.add(4)\n",
    "v1.add(2)\n",
    "print(v1) #{1, 2, 3, 4} - not in order of entry (set is not ordered)\n",
    "\n",
    "#dict\n",
    "v1 = {}\n",
    "v1['a'] = 3\n",
    "v1['b'] = 1\n",
    "v1['c'] = 4\n",
    "v1['d'] = 2\n",
    "print(v1) #{'a': 3, 'b': 1, 'c': 4, 'd': 2} - in order of entry (dict is ordered since Python 3.7??, no need to use OrderedDict from Collections module anymore)\n",
    "\n",
    "#list\n",
    "v1 = []\n",
    "v1.append(3)\n",
    "v1.append(1)\n",
    "v1.append(4)\n",
    "v1.append(2)\n",
    "print(v1) #[3, 1, 4, 2] - in order of entry (list is ordered)\n",
    "\n"
   ]
  },
  {
   "cell_type": "code",
   "execution_count": 38,
   "metadata": {},
   "outputs": [
    {
     "data": {
      "text/plain": [
       "{'x': [0, 0.5]}"
      ]
     },
     "execution_count": 38,
     "metadata": {},
     "output_type": "execute_result"
    }
   ],
   "source": [
    "domain=dict(x=[0, 0.5])\n",
    "domain"
   ]
  },
  {
   "cell_type": "code",
   "execution_count": 39,
   "metadata": {},
   "outputs": [
    {
     "name": "stdout",
     "output_type": "stream",
     "text": [
      "[('a', 'aaa', '1'), ('b', 'bbb', '2'), ('c', 'ccc', '3')]\n",
      "v1=a, v2=aaa, v3=1\n",
      "v1=b, v2=bbb, v3=2\n",
      "v1=c, v2=ccc, v3=3\n"
     ]
    }
   ],
   "source": [
    "#zipping lists - creating a new list with tuples of corresponding elements\n",
    "\n",
    "ls1 = ['a', 'b', 'c']\n",
    "ls2 = ['aaa', 'bbb', 'ccc']\n",
    "ls3 = ['1', '2', '3']\n",
    "\n",
    "zip_list = list(zip(ls1, ls2, ls3)) #expect a list of tuples #[('a', 'aaa', '1'), ('b', 'bbb', '2'), ('c', 'ccc', '3')]\n",
    "print(zip_list)\n",
    "\n",
    "for v1, v2, v3 in zip_list:\n",
    "    print(f'v1={v1}, v2={v2}, v3={v3}')"
   ]
  },
  {
   "cell_type": "code",
   "execution_count": 40,
   "metadata": {},
   "outputs": [
    {
     "data": {
      "text/plain": [
       "7"
      ]
     },
     "execution_count": 40,
     "metadata": {},
     "output_type": "execute_result"
    }
   ],
   "source": [
    "#ternary operator/condition\n",
    "\n",
    "x = 13; y = 7\n",
    "minimum = x if x<y else y\n",
    "minimum"
   ]
  },
  {
   "cell_type": "code",
   "execution_count": 41,
   "metadata": {},
   "outputs": [
    {
     "name": "stdout",
     "output_type": "stream",
     "text": [
      "1\n",
      "[2, 3]\n",
      "[1, 2, 3, 4]\n",
      "{'age': 10, 'name': 'aaa', 'gender': 'male'}\n",
      "{'age': 10, 'name': 'aaa', 'gender': 'male'}\n",
      "{'age': 10, 'name': 'aaa', 'gender': 'male', 'aaa': 111, 'bbb': 'ccc'}\n"
     ]
    }
   ],
   "source": [
    "#unpacking iterables such as list/tuple/dicts\n",
    "#iterable is a group of objects that we can iterate or loop over using a For loop\n",
    "#callable is any object that uses double parenthesis i.e. () - e.g. function\n",
    "\n",
    "###Unpacking\n",
    "a, b, c = (1, 2, 3) #also works for list [1,2,3]\n",
    "a, b, _ = (1, 2, 3) #ignore 3rd item (i.e. 3)\n",
    "a, b, *c = (1, 2, 3, 4, 5) #c is [3, 4, 5]\n",
    "a, b, *c, d = (1, 2, 3, 4, 5) #c is [3, 4]\n",
    "a, b, *_ = (1, 2, 3, 4, 5) #ignore [3, 4, 5]\n",
    "*e, = (1, 2, 3, 4, 5) #e is [1, 2, 3, 4, 5] - note the comma on left hand side\n",
    "*f, = 'abcdefgh' #f is ['a', 'b', 'c', 'd', 'e', 'f', 'g', 'h'] - note the comma on left hand side\n",
    "\n",
    "#list\n",
    "q, *w = [1,2,3]\n",
    "print(q) #1\n",
    "print(w) #[2, 3]\n",
    "\n",
    "###Packing - collecting objects\n",
    "#packing operator for list, tuples (*)\n",
    "*ls1, = [1,2,3,4]\n",
    "print(ls1) #1 2 3 4\n",
    "\n",
    "#packing operator for dicts (**)\n",
    "d1 = {'age': 10, 'name': 'aaa', 'gender': 'male'}\n",
    "d2 = {'aaa': 111, 'bbb': 'ccc'}\n",
    "print(d1)\n",
    "print({**d1})\n",
    "print({**d1, **d2}) #merge two dicts using the unpacking operator"
   ]
  },
  {
   "cell_type": "code",
   "execution_count": 42,
   "metadata": {},
   "outputs": [
    {
     "name": "stdout",
     "output_type": "stream",
     "text": [
      "6\n",
      "600\n",
      "24\n",
      "810\n",
      "80000\n"
     ]
    }
   ],
   "source": [
    "\n",
    "#unpacking continued (inside a callable, a function in this case)\n",
    "#  * for dicts (args)\n",
    "\n",
    "def multiply(a, b):\n",
    "    return a*b\n",
    "\n",
    "p1 = multiply(2, 3)\n",
    "print(p1)\n",
    "\n",
    "numbers = [20, 30]\n",
    "p1 = multiply(*numbers) #pack numbers to make 20, 30\n",
    "print(p1)\n",
    "\n",
    "###if we use numbers = [2, 3, 4] above, it throws error: multiply() takes 2 positional arguments but 3 were given (OBVIOUS!!!)\n",
    "#solve this by packing the list in the function\n",
    "\n",
    "def multiply1(*args):  #args and kwargs are argument collectors in tuple and dict respectively. Unpack them here using * and ** respectively.\n",
    "    #print('Type of args is tuple', type(args) is tuple) #always tuple\n",
    "    prod = 1\n",
    "    for i in args: #treat args parameter as an iterable\n",
    "        prod *= i\n",
    "    return prod\n",
    "\n",
    "numbers = [2, 3, 4] #now we can pass any number of arguments\n",
    "p1 = multiply1(*numbers) #unpack numbers to make 2, 3\n",
    "print(p1)\n",
    "\n",
    "print(multiply1(9, 9, 10))\n",
    "print(multiply1(2, 5, 10, 20, 40))\n"
   ]
  },
  {
   "cell_type": "code",
   "execution_count": 43,
   "metadata": {},
   "outputs": [
    {
     "name": "stdout",
     "output_type": "stream",
     "text": [
      "<class 'function'>\n",
      "name = aaa\n",
      "args = ('bbb',)\n",
      "kwargs = {'kw1': '001', 'kw2': '002'}\n"
     ]
    }
   ],
   "source": [
    "#unpacking continued (inside a callable, a function in this case)\n",
    "#  ** for dicts (kwargs)\n",
    "\n",
    "def func(name, *args, **kwargs):  #args and kwargs are argument collectors in tuple and dict respectively. Pack them here using * and ** respectively.\n",
    "    #print('Type of kwargs is dict', type(kwargs) is dict) #args iscalways tuple\n",
    "    if kwargs: #keyword argument\n",
    "        return f'kwargs = {kwargs}'\n",
    "    if args: #positional argument\n",
    "        return f'args = {args}'\n",
    "\n",
    "    return f'name = {name}' #required argument\n",
    "\n",
    "print(type(func)) #<class 'function>\n",
    "#func() #func() missing 1 required positional argument: 'name'\n",
    "print(func('aaa')) #\n",
    "print(func('aaa', 'bbb'))\n",
    "print(func('aaa', 'bbb', 111, kw1='001', kw2='002'))\n"
   ]
  },
  {
   "cell_type": "code",
   "execution_count": 44,
   "metadata": {},
   "outputs": [
    {
     "name": "stdout",
     "output_type": "stream",
     "text": [
      "{'name': 'John Doe', 'email': 'johndoe@mydomain.com', 'role': 'admin'}\n",
      "{'name': 'John Smith', 'email': 'johnsmith@mydomain.com', 'role': 'user'}\n",
      "{'name': 'John Doe', 'email': 'johndoe@mydomain.com', 'role': 'admin'}\n",
      "{'name': 'John Smith', 'email': 'johnsmith@mydomain.com', 'role': 'user'}\n"
     ]
    }
   ],
   "source": [
    "# pickling and unpickling\n",
    "# In the context of data storage, serialization is the process of translating data structures or object state into a format that can be stored (for example, in a file or memory buffer) or transmitted and reconstructed later.\n",
    "# pickle (python-specific) and json are used to serialize and deserialize\n",
    "\n",
    "import pickle\n",
    "\n",
    "person_list_dict = [\n",
    "    {\n",
    "        \"name\": \"John Doe\",\n",
    "        \"email\": \"johndoe@mydomain.com\",\n",
    "        \"role\": \"admin\"\n",
    "    },\n",
    "    {\n",
    "        \"name\": \"John Smith\",\n",
    "        \"email\": \"johnsmith@mydomain.com\",\n",
    "        \"role\": \"user\"\n",
    "    }\n",
    "]\n",
    "\n",
    "#dump the data to file\n",
    "with open('sample.txt', 'wb') as f:\n",
    "    pickle.dump(person_list_dict, f)\n",
    "\n",
    "#load the data from file\n",
    "with open('sample.txt', 'rb') as f:\n",
    "    data = pickle.load(f)\n",
    "\n",
    "for d in data:\n",
    "    print(d)\n",
    "\n",
    "\n",
    "#dump the data to memory\n",
    "data1 = pickle.dumps(person_list_dict)\n",
    "\n",
    "#load the data from memory\n",
    "data2 = pickle.loads(data1)\n",
    "\n",
    "for d in data2:\n",
    "    print(d)\n",
    "    #pass"
   ]
  },
  {
   "cell_type": "code",
   "execution_count": 45,
   "metadata": {},
   "outputs": [
    {
     "name": "stdout",
     "output_type": "stream",
     "text": [
      "True\n",
      "True\n",
      "True\n",
      "***************\n",
      "False\n",
      "True\n",
      "False\n"
     ]
    }
   ],
   "source": [
    "#identity vs equality\n",
    "a = 5\n",
    "b = 5\n",
    "#a and b are identical objects\n",
    "\n",
    "print(id(a) == id(b)) #True\n",
    "print(a == b) #True\n",
    "print(a is b) #True\n",
    "\n",
    "print('***************')\n",
    "\n",
    "a1 = [2, 3, 5]\n",
    "b1 = [2, 3, 5]\n",
    "#a1 and b1 are not identical objects\n",
    "\n",
    "print(id(a1) == id(b1)) #True\n",
    "print(a1 == b1) #True\n",
    "print(a1 is b1) #True"
   ]
  },
  {
   "cell_type": "code",
   "execution_count": 46,
   "metadata": {},
   "outputs": [],
   "source": [
    "#instance method, class method, static method\n",
    "\n",
    "from werkzeug.security import check_password_hash, generate_password_hash\n",
    "from sqlalchemy import event\n",
    "from datetime import datetime, date\n",
    "import enum\n",
    "#from flask_sqlalchemy import SQLAlchemy\n",
    "#db = SQLAlchemy()\n",
    "#from . import db #import db from this project (__init__)\n",
    "from sqlalchemy.ext.hybrid import hybrid_property\n",
    "#from etoolbox import socketio\n",
    "#from .tasks import sendEmail\n",
    "from flask_login import UserMixin\n",
    "\n",
    "class User:\n",
    "    max_users = 100\n",
    "    \n",
    "    def __init__(self, id, email, password, name, logged_in, last_active):\n",
    "        pass\n",
    "\n",
    "    #overriding methods\n",
    "    def __str__(self):\n",
    "        return self.name + ' - ' + self.email\n",
    "\n",
    "    def __eq__(self, other):\n",
    "        return self.email == other.email\n",
    "    \n",
    "    #the regular method or instance method is the most common - all those which have self\n",
    "    #class method - not dependant on self, can access or modify class attributes/state that applies to all instances. Used to create Factory Methods, which return class objects just like constructor\n",
    "    @classmethod\n",
    "    def reset_passwords(cls, name, email, new_max_users):\n",
    "        #try this: cls.max_users = new_max_users #sets for all instances\n",
    "        return cls(cls.name, cls.email)\n",
    "\n",
    "    #static method - not dependant on self, cannot access or modify class attributes. Used to create utility-type functions.\n",
    "    @staticmethod\n",
    "    def set_password(pwd):\n",
    "        return generate_password_hash(pwd, method='sha256')\n",
    "\n",
    "    @staticmethod\n",
    "    def verify_password(pwd1, pwd2):\n",
    "        return check_password_hash(pwd1, pwd2)"
   ]
  },
  {
   "cell_type": "code",
   "execution_count": 47,
   "metadata": {},
   "outputs": [
    {
     "name": "stdout",
     "output_type": "stream",
     "text": [
      " qwqwqwq\n",
      "    \n",
      "2.5 <class 'float'>\n",
      "2 <class 'int'>\n"
     ]
    }
   ],
   "source": [
    "def func():\n",
    "    \"\"\" qwqwqwq\n",
    "    \"\"\"\n",
    "    pass\n",
    "\n",
    "print(func.__doc__)\n",
    "\n",
    "a = 2\n",
    "b = 5\n",
    "c=b/a\n",
    "d=b//a #floor division\n",
    "print(c, type(c))\n",
    "print(d, type(d))"
   ]
  },
  {
   "cell_type": "code",
   "execution_count": 48,
   "metadata": {},
   "outputs": [
    {
     "name": "stdout",
     "output_type": "stream",
     "text": [
      "859724464\n",
      "16.36424422264099\n"
     ]
    }
   ],
   "source": [
    "# test efficiency of list and generator\n",
    "# generator is a way to efficiently use memory by yielding result one at a time\n",
    "# where memory is not an issue, list is preferred (more efficient)\n",
    "\n",
    "import sys, time\n",
    "\n",
    "n = 100_000_000 #1_000_000_000 - this hangs\n",
    "t1 = time.time() \n",
    "l1 = [x for x in range(n)] #list\n",
    "for i in l1:\n",
    "    a=i\n",
    "\n",
    "print(sys.getsizeof(l1))\n",
    "t2 = time.time() \n",
    "print(t2-t1) #for n=100_000_000: 16.0 secs, memory 859724464 Bytes\n",
    "\n"
   ]
  },
  {
   "cell_type": "code",
   "execution_count": 49,
   "metadata": {},
   "outputs": [
    {
     "name": "stdout",
     "output_type": "stream",
     "text": [
      "112\n",
      "17.96525263786316\n"
     ]
    }
   ],
   "source": [
    "import sys, time\n",
    "\n",
    "n = 100_000_000 #1_000_000_000 - this hangs\n",
    "\n",
    "t3 = time.time() \n",
    "g1 = (x for x in range(n)) #generator - loads lazily\n",
    "for i in g1:\n",
    "    a=i\n",
    "\n",
    "print(sys.getsizeof(g1))\n",
    "t4 = time.time() \n",
    "print(t4-t3) #for n=100_000_000: 14.1 secs, memory 112 Bytes\n"
   ]
  },
  {
   "cell_type": "code",
   "execution_count": 50,
   "metadata": {},
   "outputs": [
    {
     "data": {
      "text/plain": [
       "2"
      ]
     },
     "execution_count": 50,
     "metadata": {},
     "output_type": "execute_result"
    }
   ],
   "source": [
    "#ternary coperator/condition\n",
    "\n",
    "l1 = [1,2,3,4,5,6,7,8]\n",
    "even = [i if i%2 !=0 else None for i in l1]\n",
    "even\n",
    "\n",
    "\n",
    "a= 2 if True else 6\n",
    "a\n"
   ]
  },
  {
   "cell_type": "code",
   "execution_count": 51,
   "metadata": {},
   "outputs": [
    {
     "name": "stdout",
     "output_type": "stream",
     "text": [
      "str\n"
     ]
    }
   ],
   "source": [
    "#dir\n",
    "#The dir() function returns a list of attributes and methods of an object\n",
    "\n",
    "obj = 'abcd' # [1, 2, 3]\n",
    "print(obj.__class__.__name__)\n",
    "#print(dir(obj))\n",
    "#print(dir(obj.__class__))\n",
    "\n",
    "#print('\\nReturn Value from empty dir()')\n",
    "#print(dir())\n",
    "\n"
   ]
  },
  {
   "cell_type": "code",
   "execution_count": 52,
   "metadata": {},
   "outputs": [
    {
     "data": {
      "text/plain": [
       "'<span style=\"font-size: 16px; text-align: center; width: 100%;\">GDAL Processing <span style=\"font-size: 12px; color: blue;\">(FIELDS: D_06_ID, DNAME_2006, DNAME_2010, SUBREGION, COUNTRY)</span></span><br/><br/><table border=\\'1\\' style=\\'border-collapse: collapse; width: 100%;\\'><caption>GDAL Processing</caption><thead class=\\'highlight\\'><tr><th>#</th><th>Server Name</th><th> Server Type</th><th> Server Age</th></tr></thead>TESOTESOTESOTESOTESOTESOTESOTESOACHOLIACHOLIACHOLIACHOLILANGOLANGOACHOLIACHOLIACHOLILANGOLANGOLANGOTESOTESOTESOLANGOLANGOLANGO</table>'"
      ]
     },
     "execution_count": 52,
     "metadata": {},
     "output_type": "execute_result"
    }
   ],
   "source": [
    "def run_gdal():\n",
    "    from osgeo import gdal, ogr, osr\n",
    "    from datetime import datetime\n",
    "\n",
    "    now = datetime.now()\n",
    "\n",
    "    try:\n",
    "        filename = r'D:\\SMC Operational Center\\data\\uganda_districts2010.shp'\n",
    "        layer_name = filename[:-4].split('\\\\')[-1] # get the layer name\n",
    "        \n",
    "        ds = ogr.Open(filename)\n",
    "        lyr=ds.GetLayer(0)\n",
    "        #lyr.SetAttributeFilter ( \"SUBREGION in ('LANGO', 'ACHOLI')\" ) #feature selection\n",
    "        sql = f\"SELECT * FROM {layer_name} WHERE SUBREGION in ('LANGO', 'ACHOLI', 'TESO')\"\n",
    "        lyr = ds.ExecuteSQL(sql)\n",
    "        #lyr.SetSpatialFilterRect ( -14, 37, 38, 72) #filter by geographical extent (W, E, N, S)\n",
    "\n",
    "        #get fields\n",
    "        fields = []\n",
    "        layer_definition = lyr.GetLayerDefn()\n",
    "        for i in range(layer_definition.GetFieldCount()):\n",
    "            fields.append(layer_definition.GetFieldDefn(i).GetName())\n",
    "\n",
    "        results = f'<span style=\"font-size: 16px; text-align: center; width: 100%;\">GDAL Processing <span style=\"font-size: 12px; color: blue;\">(FIELDS: {\", \".join(fields)})</span></span><br/><br/>'\n",
    "        results += \"<table border='1' style='border-collapse: collapse; width: 100%;'>\"\n",
    "        results += \"<caption>GDAL Processing</caption>\"\n",
    "        results += \"<thead class='highlight'>\"\n",
    "        results += \"<tr><th>#</th><th>Server Name</th><th> Server Type</th><th> Server Age</th></tr>\"\n",
    "        results += \"</thead>\"\n",
    "\n",
    "        for i, feat in enumerate(lyr, start=1):\n",
    "            results += feat.GetField('SUBREGION') # += \"<tr><td>\" + f\"{i:2d}\" + \"</td><td>\" + feat.GetField('SUBREGION') + \"</td><td>\" + f\"{feat.GetGeometryRef().GetArea():.2f}\" + \"</td><td>\" + feat.GetFieldAsString ( \"SUBREGION\") + \"</td></tr>\"\n",
    "            #print(feat.GetField('SUBREGION')) #print(\"<tr><td>\" + f\"{i:2d}\" + \"</td><td>\" + feat.GetField('SUBREGION') + \"</td><td>\" + f\"{feat.GetGeometryRef().GetArea():.2f}\" + \"</td><td>\" + feat.GetFieldAsString ( \"SUBREGION\") + \"</td></tr>\")\n",
    "            #the_geometry = feat.GetGeometryRef()\n",
    "            #the_geometry.ExportToKML()            \n",
    "\n",
    "        results += \"</table>\"\n",
    "\n",
    "        \"\"\"\n",
    "        #list the methods that start with uppercase\n",
    "        for m in dir ( the_geometry ):\n",
    "            if m[0].isupper():\n",
    "                #print(m)\n",
    "                pass\n",
    "        \"\"\"\n",
    "\n",
    "        result = []\n",
    "        result.append({'aHtml':results, 'now':now})  \n",
    "        #print('qqqqqqqqqqqq', json.dumps(result))      \n",
    "        #return json.dumps(result)  \n",
    "        return results\n",
    "    except Exception as e:\n",
    "        print(f'xxxxxxxxx {e} yyyyyyyyyyyy, Line No: {sys.exc_info()[2].tb_lineno}')\n",
    "        message = getattr(e, 'message', str(e))\n",
    "        #flash(getattr(e, 'message', str(e)))\n",
    "\n",
    "\n",
    "run_gdal()\n"
   ]
  },
  {
   "cell_type": "code",
   "execution_count": 53,
   "metadata": {},
   "outputs": [],
   "source": [
    "# National park information, separated by TABs\n",
    "\n",
    "from osgeo import gdal, ogr, osr\n",
    "\n",
    "parks = \"\"\"Dartmoor national park\\t-3.904\\t50.58\n",
    "New forest national park\\t-1.595\\t50.86\n",
    "Exmoor national park\\t-3.651\\t51.14\n",
    "Pembrokeshire coast national park\\t-4.694\\t51.64\n",
    "Brecon beacons national park\\t-3.432\\t51.88\n",
    "Pembrokeshire coast national park\\t-4.79\\t51.99\n",
    "Norfolk and suffolk broads\\t1.569\\t52.62\n",
    "Snowdonia national park\\t-3.898\\t52.9\n",
    "Peak district national park\\t-1.802\\t53.3\n",
    "Yorkshire dales national park\\t-2.157\\t54.23\n",
    "North yorkshire moors national park\\t-0.8855\\t54.37\n",
    "Lake district national park\\t-3.084\\t54.47\n",
    "Galloway forest park\\t-4.171\\t54.87\n",
    "Northumberland national park\\t-2.228\\t55.28\n",
    "Loch lomond and the trossachs national park\\t-4.593\\t56.24\n",
    "Tay forest park\\t-4.025\\t56.59\n",
    "Cairngorms national park\\t-3.545\\t57.08\"\"\"\n",
    "\n",
    "# See if the file exists from a previous run of this snippet\n",
    "if os.path.exists ( \"parks.json\"):\n",
    "    # It does exist, so remove it\n",
    "    os.remove ( \"parks.json\" )\n",
    "\n",
    "# We need the output projection to bet set to Lat/Long\n",
    "latlong = osr.SpatialReference()\n",
    "latlong.ImportFromEPSG( 4326 )\n",
    "\n",
    "# Invoke the GeoJSON driver\n",
    "drv = ogr.GetDriverByName( 'GeoJSON' )\n",
    "# This is the output filename\n",
    "dst_ds = drv.CreateDataSource( 'parks.json' )\n",
    "# This is a single layer dataset. The layer needs to be of points\n",
    "# and needs to have the WGS84 projection, which we defined above\n",
    "dst_layer = dst_ds.CreateLayer('', srs =latlong , \\\n",
    "                               geom_type=ogr.wkbPoint )\n",
    "\n",
    "# We just need a field with the Park's name, and its type is a String\n",
    "field_defn=ogr.FieldDefn( 'name', ogr.OFTString )\n",
    "dst_layer.CreateField( field_defn )\n",
    "\n",
    "\n",
    "# Algorithm is as follows:\n",
    "# 1. Loop over lines\n",
    "# 2. Split line into park name, longitude, latitude\n",
    "# 3. Create WKT of the point\n",
    "# 4. Set the attribute name to name of park\n",
    "# 5. Clean up\n",
    "\n",
    "for park_id, line in enumerate( parks.split( \"\\n\" ) ):\n",
    "    # Get the relevant information\n",
    "    park_name, lon, lat = line.split(\"\\t\")\n",
    "    # Create a geogrpahical representation of the current park\n",
    "    wkt = \"POINT ( %f %f )\" % ( float(lon), float(lat) )\n",
    "    # Create a feature, using the attributes/fields that are\n",
    "    # required for this layer\n",
    "    feat = ogr.Feature(feature_def=dst_layer.GetLayerDefn())\n",
    "    # Feed the WKT into a geometry\n",
    "    p = ogr.CreateGeometryFromWkt( wkt )\n",
    "    # Feed the geometry into a WKT\n",
    "    feat.SetGeometryDirectly( p )\n",
    "    # Set the name field to its value\n",
    "    feat.SetField ( \"name\", park_name )\n",
    "    # Attach the feature to the layer\n",
    "    dst_layer.CreateFeature( feat )\n",
    "    # Clean up\n",
    "    feat.Destroy()\n",
    "\n",
    "# Close file\n",
    "dst_ds = None"
   ]
  },
  {
   "cell_type": "code",
   "execution_count": 54,
   "metadata": {},
   "outputs": [
    {
     "data": {
      "image/png": "[encoded data removed]",
      "text/plain": [
       "<Figure size 432x288 with 1 Axes>"
      ]
     },
     "metadata": {
      "needs_background": "light"
     },
     "output_type": "display_data"
    }
   ],
   "source": [
    "import matplotlib.pyplot as plt\n",
    "import matplotlib.path as mpath\n",
    "import matplotlib.patches as mpatches\n",
    "import numpy as np\n",
    "\n",
    "filename = r'D:\\SMC Operational Center\\data\\uganda_districts2010.shp'\n",
    "\n",
    "# Extract first layer of features from shapefile using OGR\n",
    "ds = ogr.Open(filename)\n",
    "lyr = ds.GetLayer(0)\n",
    "\n",
    "\n",
    "# Prepare figure\n",
    "plt.ioff()\n",
    "plt.subplot(1,1,1)\n",
    "ax = plt.gca()\n",
    "\n",
    "\n",
    "paths = []\n",
    "lyr.ResetReading()\n",
    "\n",
    "#lyr.SetAttributeFilter ( \" NAME = 'ANGOLA' \")\n",
    "ax.set_xlim(11, 24.5 )\n",
    "ax.set_ylim(-20, -2)\n",
    "# Read all features in layer and store as paths\n",
    "\n",
    "for feat in lyr:\n",
    "\n",
    "    for geom in feat.GetGeometryRef():\n",
    "        envelope = np.array( geom.GetEnvelope() )\n",
    "        # check if geom is polygon\n",
    "        if geom.GetGeometryType() == ogr.wkbPolygon:\n",
    "            codes = []\n",
    "            all_x = []\n",
    "            all_y = []\n",
    "            for i in range(geom.GetGeometryCount()):\n",
    "                # Read ring geometry and create path\n",
    "                r = geom.GetGeometryRef(i)\n",
    "                x = [r.GetX(j) for j in range(r.GetPointCount())]\n",
    "                y = [r.GetY(j) for j in range(r.GetPointCount())]\n",
    "                # skip boundary between individual rings\n",
    "                codes += [mpath.Path.MOVETO] + \\\n",
    "                             (len(x)-1)*[mpath.Path.LINETO]\n",
    "                all_x += x\n",
    "                all_y += y\n",
    "            path = mpath.Path(np.column_stack((all_x,all_y)), codes)\n",
    "            paths.append(path)\n",
    "    # Add paths as patches to axes\n",
    "    for path in paths:\n",
    "        patch = mpatches.PathPatch(path, \\\n",
    "                facecolor='0.8', edgecolor='black')\n",
    "        ax.add_patch(patch)\n",
    "\n",
    "\n",
    "\n",
    "ax.set_aspect(1.0)\n",
    "plt.show()"
   ]
  },
  {
   "cell_type": "code",
   "execution_count": 55,
   "metadata": {},
   "outputs": [],
   "source": [
    "# import requests\n",
    "\n",
    "# url = \"https://webhooks.mongodb-stitch.com/api/client/v2.0/app/covid-19-qppza/service/REST-API/incoming_webhook/metadata\"\n",
    "\n",
    "# payload={}\n",
    "# headers = {}\n",
    "\n",
    "# response = requests.request(\"GET\", url, headers=headers, data=payload)\n",
    "\n",
    "# print(response.text)\n"
   ]
  },
  {
   "cell_type": "code",
   "execution_count": null,
   "metadata": {},
   "outputs": [],
   "source": []
  },
  {
   "cell_type": "code",
   "execution_count": 56,
   "metadata": {},
   "outputs": [],
   "source": [
    "# print(type(response.text))"
   ]
  },
  {
   "cell_type": "code",
   "execution_count": 57,
   "metadata": {},
   "outputs": [],
   "source": [
    "# import requests\n",
    "\n",
    "# url = \"https://webhooks.mongodb-stitch.com/api/client/v2.0/app/covid-19-qppza/service/REST-API/incoming_webhook/us_only?min_date=2020-04-27T00:00:00.000Z&max_date=2020-04-27T00:00:00.000Z&hide_fields=_id, date, country, combined_name, fips, uid\"\n",
    "\n",
    "# payload={}\n",
    "# headers = {}\n",
    "\n",
    "# response = requests.request(\"GET\", url, headers=headers, data=payload)\n",
    "\n",
    "# print(response.text)\n"
   ]
  },
  {
   "cell_type": "code",
   "execution_count": 58,
   "metadata": {},
   "outputs": [],
   "source": [
    "# import requests\n",
    "\n",
    "# url = \"https://webhooks.mongodb-stitch.com/api/client/v2.0/app/covid-19-qppza/service/REST-API/incoming_webhook/countries_summary?country=France&min_date=2020-04-22T00:00:00.000Z&max_date=2020-04-27T00:00:00.000Z\"\n",
    "\n",
    "# payload={}\n",
    "# headers = {}\n",
    "\n",
    "# response = requests.request(\"GET\", url, headers=headers, data=payload)\n",
    "# response = response.json()\n",
    "\n",
    "# print(response)\n",
    "\n",
    "   \n"
   ]
  },
  {
   "cell_type": "code",
   "execution_count": 59,
   "metadata": {},
   "outputs": [],
   "source": [
    "\n",
    "# with open(\"covid.txt\", \"w\") as f:\n",
    "#     f.write(str(response))\n"
   ]
  },
  {
   "cell_type": "code",
   "execution_count": 60,
   "metadata": {},
   "outputs": [],
   "source": [
    "# import json, requests\n",
    "# import pandas as pd\n",
    "# \"\"\"\n",
    "# with open(\"covid.txt\", \"r\") as f:\n",
    "#     covid = f.read()\n",
    "\n",
    "# covid = json.dumps(covid)\n",
    "# \"\"\"\n",
    "# covid = {\"a\": [1,2,3,4], \"b\": [11,22,22,22]}\n",
    "# df = pd.DataFrame(covid)\n",
    "\n",
    "# response = requests.get(\"http://api.open-notify.org/astros.json\")\n",
    "# df = pd.DataFrame(response.json()[\"people\"])\n",
    "# df\n",
    "# #response.json()[\"people\"]\n"
   ]
  },
  {
   "cell_type": "code",
   "execution_count": 61,
   "metadata": {},
   "outputs": [],
   "source": [
    "# import pandas as pd\n",
    "# df = pd.read_csv('../df.csv')\n",
    "# df\n",
    "# ndex = ['Category', 'Institution', 'Gender', 'Nationality', 'Position']\n",
    "# columns = ['Disability', 'Selectfield7', 'Selectfield8', 'Selectfield9', 'Selectfield10']\n",
    "# # index = ['Category']\n",
    "# # columns = ['Nationality']\n",
    "# values_matrix=['version']\n",
    "# aggfunc_matrix='count'\n",
    "# report = df.pivot_table(\n",
    "#     index=index,\n",
    "#     columns=columns,\n",
    "#     values=values_matrix, #[i.strip() for i in values_matrix.split(',')],\n",
    "#     aggfunc=aggfunc_matrix,\n",
    "#     fill_value=0,\n",
    "#     dropna=True,\n",
    "#     #margins=True,\n",
    "#     #margins_name='Total'\n",
    "# )\n",
    "\n"
   ]
  },
  {
   "cell_type": "code",
   "execution_count": 62,
   "metadata": {},
   "outputs": [],
   "source": [
    "# #report.columns.dropna\n",
    "# #report.columns=[s1 + str(s2) for (s1,s2) in report.columns.tolist()]\n",
    "# #report.reset_index(inplace=True)\n",
    "# report.columns = [' '.join(col).strip() for col in report.columns.values]\n",
    "# #report.drop(columns=None, inplace=True)\n",
    "# #report = report.droplevel(0, axis=1) #.reset_index()\n",
    "# print(report.index.names)\n",
    "# print(report.columns.names)\n",
    "# print(report)"
   ]
  },
  {
   "cell_type": "code",
   "execution_count": 63,
   "metadata": {},
   "outputs": [
    {
     "data": {
      "text/plain": [
       "('Sub Total', '', '', '', '')"
      ]
     },
     "execution_count": 63,
     "metadata": {},
     "output_type": "execute_result"
    }
   ],
   "source": [
    "subTtotalLabel1 = ('Sub Total', '', '', '', '')\n",
    "n_spaces = ['', ]*4\n",
    "#n_spaces = n_spaces.replace(' \" ' , \" \")\n",
    "subTtotalLabel = ['Sub Total']\n",
    "for i in range(4):\n",
    "    subTtotalLabel.append('')\n",
    "\n",
    "tuple(subTtotalLabel)"
   ]
  },
  {
   "cell_type": "code",
   "execution_count": 64,
   "metadata": {},
   "outputs": [
    {
     "name": "stdout",
     "output_type": "stream",
     "text": [
      "Original array:\n",
      "\n",
      "Dataframe - table style and border around the table and not around the rows:\n"
     ]
    },
    {
     "data": {
      "text/html": [
       "<style type=\"text/css\">\n",
       "#T_14a65_  {\n",
       "  border: 4px solid red;\n",
       "}\n",
       "</style>\n",
       "<table id=\"T_14a65_\">\n",
       "  <thead>\n",
       "    <tr>\n",
       "      <th class=\"blank level0\" >&nbsp;</th>\n",
       "      <th class=\"col_heading level0 col0\" >A</th>\n",
       "      <th class=\"col_heading level0 col1\" >B</th>\n",
       "      <th class=\"col_heading level0 col2\" >C</th>\n",
       "      <th class=\"col_heading level0 col3\" >D</th>\n",
       "      <th class=\"col_heading level0 col4\" >E</th>\n",
       "    </tr>\n",
       "  </thead>\n",
       "  <tbody>\n",
       "    <tr>\n",
       "      <th id=\"T_14a65_level0_row0\" class=\"row_heading level0 row0\" >0</th>\n",
       "      <td id=\"T_14a65_row0_col0\" class=\"data row0 col0\" >1.000000</td>\n",
       "      <td id=\"T_14a65_row0_col1\" class=\"data row0 col1\" >1.329212</td>\n",
       "      <td id=\"T_14a65_row0_col2\" class=\"data row0 col2\" >nan</td>\n",
       "      <td id=\"T_14a65_row0_col3\" class=\"data row0 col3\" >-0.316280</td>\n",
       "      <td id=\"T_14a65_row0_col4\" class=\"data row0 col4\" >-0.990810</td>\n",
       "    </tr>\n",
       "    <tr>\n",
       "      <th id=\"T_14a65_level0_row1\" class=\"row_heading level0 row1\" >1</th>\n",
       "      <td id=\"T_14a65_row1_col0\" class=\"data row1 col0\" >2.000000</td>\n",
       "      <td id=\"T_14a65_row1_col1\" class=\"data row1 col1\" >-1.070816</td>\n",
       "      <td id=\"T_14a65_row1_col2\" class=\"data row1 col2\" >-1.438713</td>\n",
       "      <td id=\"T_14a65_row1_col3\" class=\"data row1 col3\" >0.564417</td>\n",
       "      <td id=\"T_14a65_row1_col4\" class=\"data row1 col4\" >0.295722</td>\n",
       "    </tr>\n",
       "    <tr>\n",
       "      <th id=\"T_14a65_level0_row2\" class=\"row_heading level0 row2\" >2</th>\n",
       "      <td id=\"T_14a65_row2_col0\" class=\"data row2 col0\" >3.000000</td>\n",
       "      <td id=\"T_14a65_row2_col1\" class=\"data row2 col1\" >-1.626404</td>\n",
       "      <td id=\"T_14a65_row2_col2\" class=\"data row2 col2\" >0.219565</td>\n",
       "      <td id=\"T_14a65_row2_col3\" class=\"data row2 col3\" >0.678805</td>\n",
       "      <td id=\"T_14a65_row2_col4\" class=\"data row2 col4\" >1.889273</td>\n",
       "    </tr>\n",
       "    <tr>\n",
       "      <th id=\"T_14a65_level0_row3\" class=\"row_heading level0 row3\" >3</th>\n",
       "      <td id=\"T_14a65_row3_col0\" class=\"data row3 col0\" >4.000000</td>\n",
       "      <td id=\"T_14a65_row3_col1\" class=\"data row3 col1\" >0.961538</td>\n",
       "      <td id=\"T_14a65_row3_col2\" class=\"data row3 col2\" >0.104011</td>\n",
       "      <td id=\"T_14a65_row3_col3\" class=\"data row3 col3\" >nan</td>\n",
       "      <td id=\"T_14a65_row3_col4\" class=\"data row3 col4\" >0.850229</td>\n",
       "    </tr>\n",
       "    <tr>\n",
       "      <th id=\"T_14a65_level0_row4\" class=\"row_heading level0 row4\" >4</th>\n",
       "      <td id=\"T_14a65_row4_col0\" class=\"data row4 col0\" >5.000000</td>\n",
       "      <td id=\"T_14a65_row4_col1\" class=\"data row4 col1\" >nan</td>\n",
       "      <td id=\"T_14a65_row4_col2\" class=\"data row4 col2\" >1.057737</td>\n",
       "      <td id=\"T_14a65_row4_col3\" class=\"data row4 col3\" >0.165562</td>\n",
       "      <td id=\"T_14a65_row4_col4\" class=\"data row4 col4\" >0.515018</td>\n",
       "    </tr>\n",
       "    <tr>\n",
       "      <th id=\"T_14a65_level0_row5\" class=\"row_heading level0 row5\" >5</th>\n",
       "      <td id=\"T_14a65_row5_col0\" class=\"data row5 col0\" >6.000000</td>\n",
       "      <td id=\"T_14a65_row5_col1\" class=\"data row5 col1\" >-1.336936</td>\n",
       "      <td id=\"T_14a65_row5_col2\" class=\"data row5 col2\" >0.562861</td>\n",
       "      <td id=\"T_14a65_row5_col3\" class=\"data row5 col3\" >1.392855</td>\n",
       "      <td id=\"T_14a65_row5_col4\" class=\"data row5 col4\" >-0.063328</td>\n",
       "    </tr>\n",
       "    <tr>\n",
       "      <th id=\"T_14a65_level0_row6\" class=\"row_heading level0 row6\" >6</th>\n",
       "      <td id=\"T_14a65_row6_col0\" class=\"data row6 col0\" >7.000000</td>\n",
       "      <td id=\"T_14a65_row6_col1\" class=\"data row6 col1\" >0.121668</td>\n",
       "      <td id=\"T_14a65_row6_col2\" class=\"data row6 col2\" >1.207603</td>\n",
       "      <td id=\"T_14a65_row6_col3\" class=\"data row6 col3\" >-0.002040</td>\n",
       "      <td id=\"T_14a65_row6_col4\" class=\"data row6 col4\" >1.627796</td>\n",
       "    </tr>\n",
       "    <tr>\n",
       "      <th id=\"T_14a65_level0_row7\" class=\"row_heading level0 row7\" >7</th>\n",
       "      <td id=\"T_14a65_row7_col0\" class=\"data row7 col0\" >8.000000</td>\n",
       "      <td id=\"T_14a65_row7_col1\" class=\"data row7 col1\" >0.354493</td>\n",
       "      <td id=\"T_14a65_row7_col2\" class=\"data row7 col2\" >1.037528</td>\n",
       "      <td id=\"T_14a65_row7_col3\" class=\"data row7 col3\" >-0.385684</td>\n",
       "      <td id=\"T_14a65_row7_col4\" class=\"data row7 col4\" >0.519818</td>\n",
       "    </tr>\n",
       "    <tr>\n",
       "      <th id=\"T_14a65_level0_row8\" class=\"row_heading level0 row8\" >8</th>\n",
       "      <td id=\"T_14a65_row8_col0\" class=\"data row8 col0\" >9.000000</td>\n",
       "      <td id=\"T_14a65_row8_col1\" class=\"data row8 col1\" >1.686583</td>\n",
       "      <td id=\"T_14a65_row8_col2\" class=\"data row8 col2\" >-1.325963</td>\n",
       "      <td id=\"T_14a65_row8_col3\" class=\"data row8 col3\" >1.428984</td>\n",
       "      <td id=\"T_14a65_row8_col4\" class=\"data row8 col4\" >-2.089354</td>\n",
       "    </tr>\n",
       "    <tr>\n",
       "      <th id=\"T_14a65_level0_row9\" class=\"row_heading level0 row9\" >9</th>\n",
       "      <td id=\"T_14a65_row9_col0\" class=\"data row9 col0\" >10.000000</td>\n",
       "      <td id=\"T_14a65_row9_col1\" class=\"data row9 col1\" >-0.129820</td>\n",
       "      <td id=\"T_14a65_row9_col2\" class=\"data row9 col2\" >0.631523</td>\n",
       "      <td id=\"T_14a65_row9_col3\" class=\"data row9 col3\" >-0.586538</td>\n",
       "      <td id=\"T_14a65_row9_col4\" class=\"data row9 col4\" >nan</td>\n",
       "    </tr>\n",
       "  </tbody>\n",
       "</table>\n"
      ],
      "text/plain": [
       "<pandas.io.formats.style.Styler at 0x4eebac0>"
      ]
     },
     "execution_count": 64,
     "metadata": {},
     "output_type": "execute_result"
    }
   ],
   "source": [
    "import pandas as pd\n",
    "import numpy as np\n",
    "np.random.seed(24)\n",
    "df = pd.DataFrame({'A': np.linspace(1, 10, 10)})\n",
    "df = pd.concat([df, pd.DataFrame(np.random.randn(10, 4), columns=list('BCDE'))],\n",
    "               axis=1)\n",
    "df.iloc[0, 2] = np.nan\n",
    "df.iloc[3, 3] = np.nan\n",
    "df.iloc[4, 1] = np.nan\n",
    "df.iloc[9, 4] = np.nan\n",
    "print(\"Original array:\")\n",
    "#print(df)\n",
    "print(\"\\nDataframe - table style and border around the table and not around the rows:\")\n",
    "df.style.set_table_styles([{'selector':'','props':[('border','4px solid red')]}])"
   ]
  },
  {
   "cell_type": "code",
   "execution_count": 65,
   "metadata": {},
   "outputs": [
    {
     "data": {
      "text/html": [
       "<style type=\"text/css\">\n",
       "#T_f8300_  {\n",
       "  border: 10px solid yellow;\n",
       "  backbround-color: red;\n",
       "}\n",
       "</style>\n",
       "<table id=\"T_f8300_\">\n",
       "  <thead>\n",
       "    <tr>\n",
       "      <th class=\"blank level0\" >&nbsp;</th>\n",
       "      <th class=\"col_heading level0 col0\" >name</th>\n",
       "      <th class=\"col_heading level0 col1\" >runs</th>\n",
       "    </tr>\n",
       "  </thead>\n",
       "  <tbody>\n",
       "    <tr>\n",
       "      <th id=\"T_f8300_level0_row0\" class=\"row_heading level0 row0\" >0</th>\n",
       "      <td id=\"T_f8300_row0_col0\" class=\"data row0 col0\" >Tendulkar</td>\n",
       "      <td id=\"T_f8300_row0_col1\" class=\"data row0 col1\" >18426</td>\n",
       "    </tr>\n",
       "    <tr>\n",
       "      <th id=\"T_f8300_level0_row1\" class=\"row_heading level0 row1\" >1</th>\n",
       "      <td id=\"T_f8300_row1_col0\" class=\"data row1 col0\" >Sangakkara</td>\n",
       "      <td id=\"T_f8300_row1_col1\" class=\"data row1 col1\" >14234</td>\n",
       "    </tr>\n",
       "    <tr>\n",
       "      <th id=\"T_f8300_level0_row2\" class=\"row_heading level0 row2\" >2</th>\n",
       "      <td id=\"T_f8300_row2_col0\" class=\"data row2 col0\" >Ponting</td>\n",
       "      <td id=\"T_f8300_row2_col1\" class=\"data row2 col1\" >13704</td>\n",
       "    </tr>\n",
       "    <tr>\n",
       "      <th id=\"T_f8300_level0_row3\" class=\"row_heading level0 row3\" >3</th>\n",
       "      <td id=\"T_f8300_row3_col0\" class=\"data row3 col0\" >Jayasurya</td>\n",
       "      <td id=\"T_f8300_row3_col1\" class=\"data row3 col1\" >13430</td>\n",
       "    </tr>\n",
       "    <tr>\n",
       "      <th id=\"T_f8300_level0_row4\" class=\"row_heading level0 row4\" >4</th>\n",
       "      <td id=\"T_f8300_row4_col0\" class=\"data row4 col0\" >Jayawardene</td>\n",
       "      <td id=\"T_f8300_row4_col1\" class=\"data row4 col1\" >12650</td>\n",
       "    </tr>\n",
       "    <tr>\n",
       "      <th id=\"T_f8300_level0_row5\" class=\"row_heading level0 row5\" >5</th>\n",
       "      <td id=\"T_f8300_row5_col0\" class=\"data row5 col0\" >Kohli</td>\n",
       "      <td id=\"T_f8300_row5_col1\" class=\"data row5 col1\" >11867</td>\n",
       "    </tr>\n",
       "    <tr>\n",
       "      <th id=\"T_f8300_level0_row6\" class=\"row_heading level0 row6\" >6</th>\n",
       "      <td id=\"T_f8300_row6_col0\" class=\"data row6 col0\" >Haq</td>\n",
       "      <td id=\"T_f8300_row6_col1\" class=\"data row6 col1\" >11739</td>\n",
       "    </tr>\n",
       "    <tr>\n",
       "      <th id=\"T_f8300_level0_row7\" class=\"row_heading level0 row7\" >7</th>\n",
       "      <td id=\"T_f8300_row7_col0\" class=\"data row7 col0\" >Kallis</td>\n",
       "      <td id=\"T_f8300_row7_col1\" class=\"data row7 col1\" >11579</td>\n",
       "    </tr>\n",
       "    <tr>\n",
       "      <th id=\"T_f8300_level0_row8\" class=\"row_heading level0 row8\" >8</th>\n",
       "      <td id=\"T_f8300_row8_col0\" class=\"data row8 col0\" >Ganguly</td>\n",
       "      <td id=\"T_f8300_row8_col1\" class=\"data row8 col1\" >11363</td>\n",
       "    </tr>\n",
       "    <tr>\n",
       "      <th id=\"T_f8300_level0_row9\" class=\"row_heading level0 row9\" >9</th>\n",
       "      <td id=\"T_f8300_row9_col0\" class=\"data row9 col0\" >Dravid</td>\n",
       "      <td id=\"T_f8300_row9_col1\" class=\"data row9 col1\" >10889</td>\n",
       "    </tr>\n",
       "  </tbody>\n",
       "</table>\n"
      ],
      "text/plain": [
       "<pandas.io.formats.style.Styler at 0x143dca90>"
      ]
     },
     "execution_count": 65,
     "metadata": {},
     "output_type": "execute_result"
    }
   ],
   "source": [
    "# import the module\n",
    "import pandas as pd\n",
    "\n",
    "# create a DataFrame\n",
    "ODI_runs = {'name': ['Tendulkar', 'Sangakkara', 'Ponting',\n",
    "\t\t\t\t\t'Jayasurya', 'Jayawardene', 'Kohli',\n",
    "\t\t\t\t\t'Haq', 'Kallis', 'Ganguly', 'Dravid'],\n",
    "\t\t\t'runs': [18426, 14234, 13704, 13430, 12650,\n",
    "\t\t\t\t\t11867, 11739, 11579, 11363, 10889]}\n",
    "df = pd.DataFrame(ODI_runs)\n",
    "\n",
    "# making a yellow border\n",
    "df.style.set_table_styles([{'selector' : '','props' : [('border','10px solid yellow'), ('backbround-color', 'red')]}])\n"
   ]
  },
  {
   "cell_type": "code",
   "execution_count": 66,
   "metadata": {},
   "outputs": [],
   "source": [
    "def clean_html(raw_html):\n",
    "    from lxml.html.clean import Cleaner\n",
    "    cleaner = Cleaner(remove_tags=[\"sup\"])\n",
    "    return cleaner.clean_html(raw_html) #.decode(\"utf-8\")"
   ]
  },
  {
   "cell_type": "code",
   "execution_count": 67,
   "metadata": {},
   "outputs": [
    {
     "name": "stdout",
     "output_type": "stream",
     "text": [
      "<table border=\"1\" class=\"dataframe\">\n",
      "  <thead>\n",
      "    <tr style=\"text-align: right;\">\n",
      "      <th></th>\n",
      "      <th>A</th>\n",
      "      <th>B</th>\n",
      "    </tr>\n",
      "  </thead>\n",
      "  <tbody>\n",
      "    <tr>\n",
      "      <th>a</th>\n",
      "      <td>1</td>\n",
      "      <td>2</td>\n",
      "    </tr>\n",
      "    <tr>\n",
      "      <th>b</th>\n",
      "      <td>3</td>\n",
      "      <td>4</td>\n",
      "    </tr>\n",
      "  </tbody>\n",
      "</table>\n",
      "  Unnamed: 0  A  B\n",
      "0          a  1  2\n",
      "1          b  3  4\n"
     ]
    }
   ],
   "source": [
    "import numpy as np\n",
    "import pandas as pd\n",
    "from IPython.display import display, HTML\n",
    "\n",
    "df = pd.DataFrame([[1, 2], [3, 4]], index=[\"a\", \"b\"], columns=[\"A\", \"B\"])\n",
    "\n",
    "style = df.style.set_table_styles(\n",
    "    [{\"selector\": \"\", \"props\": [(\"border\", \"1px solid grey\")]},\n",
    "      {\"selector\": \"tbody td\", \"props\": [(\"border\", \"1px solid grey\")]},\n",
    "     {\"selector\": \"th\", \"props\": [(\"border\", \"1px solid grey\")]}\n",
    "    ]\n",
    ")\n",
    "\n",
    "df = df.to_html() #.replace('<th></th>', '<th>-</th>')\n",
    "print(df)\n",
    "df = pd.read_html(df)[0]\n",
    "df.fillna(0, inplace = True)\n",
    "print(df)\n",
    "# remove_cols = [col for col in df.columns if 'Unnamed' in col]\n",
    "# df.drop(remove_cols, axis='columns', inplace=True)\n",
    "# for i, col in enumerate(df.columns.levels):\n",
    "#     columns = np.where(col.str.contains('Unnamed'), 'qqq', col)\n",
    "#     df.columns.set_levels(columns, level=i, inplace=True)\n",
    "\n",
    "#df.columns"
   ]
  },
  {
   "cell_type": "code",
   "execution_count": 68,
   "metadata": {},
   "outputs": [
    {
     "name": "stdout",
     "output_type": "stream",
     "text": [
      "Col1     object\n",
      "Col2     object\n",
      "Col3     object\n",
      "Col4     object\n",
      "Col5    float64\n",
      "Col6     object\n",
      "dtype: object\n",
      "aaaaaaaaaa False\n"
     ]
    },
    {
     "ename": "NameError",
     "evalue": "name 'format_df' is not defined",
     "output_type": "error",
     "traceback": [
      "\u001b[1;31m---------------------------------------------------------------------------\u001b[0m",
      "\u001b[1;31mNameError\u001b[0m                                 Traceback (most recent call last)",
      "\u001b[1;32m~\\AppData\\Local\\Temp/ipykernel_9220/996498926.py\u001b[0m in \u001b[0;36m<module>\u001b[1;34m\u001b[0m\n\u001b[0;32m     81\u001b[0m \u001b[1;33m\u001b[0m\u001b[0m\n\u001b[0;32m     82\u001b[0m \u001b[0mprint\u001b[0m\u001b[1;33m(\u001b[0m\u001b[1;34m'aaaaaaaaaa'\u001b[0m\u001b[1;33m,\u001b[0m \u001b[0mtype\u001b[0m\u001b[1;33m(\u001b[0m\u001b[0mreport\u001b[0m\u001b[1;33m)\u001b[0m \u001b[1;33m==\u001b[0m \u001b[0mpd\u001b[0m\u001b[1;33m.\u001b[0m\u001b[0mio\u001b[0m\u001b[1;33m.\u001b[0m\u001b[0mformats\u001b[0m\u001b[1;33m.\u001b[0m\u001b[0mstyle\u001b[0m\u001b[1;33m.\u001b[0m\u001b[0mStyler\u001b[0m\u001b[1;33m)\u001b[0m\u001b[1;33m\u001b[0m\u001b[1;33m\u001b[0m\u001b[0m\n\u001b[1;32m---> 83\u001b[1;33m \u001b[0mreport\u001b[0m \u001b[1;33m=\u001b[0m \u001b[0mformat_df\u001b[0m\u001b[1;33m(\u001b[0m\u001b[0mreport\u001b[0m\u001b[1;33m,\u001b[0m \u001b[0mcaption\u001b[0m\u001b[1;33m=\u001b[0m\u001b[1;34m''\u001b[0m\u001b[1;33m)\u001b[0m\u001b[1;33m\u001b[0m\u001b[1;33m\u001b[0m\u001b[0m\n\u001b[0m\u001b[0;32m     84\u001b[0m \u001b[0mprint\u001b[0m\u001b[1;33m(\u001b[0m\u001b[1;34m'bbbbbbbbbbb'\u001b[0m\u001b[1;33m,\u001b[0m \u001b[0mtype\u001b[0m\u001b[1;33m(\u001b[0m\u001b[0mreport\u001b[0m\u001b[1;33m)\u001b[0m \u001b[1;33m==\u001b[0m \u001b[0mpd\u001b[0m\u001b[1;33m.\u001b[0m\u001b[0mio\u001b[0m\u001b[1;33m.\u001b[0m\u001b[0mformats\u001b[0m\u001b[1;33m.\u001b[0m\u001b[0mstyle\u001b[0m\u001b[1;33m.\u001b[0m\u001b[0mStyler\u001b[0m\u001b[1;33m)\u001b[0m\u001b[1;33m\u001b[0m\u001b[1;33m\u001b[0m\u001b[0m\n\u001b[0;32m     85\u001b[0m \u001b[1;31m#report.background_gradient()\u001b[0m\u001b[1;33m\u001b[0m\u001b[1;33m\u001b[0m\u001b[1;33m\u001b[0m\u001b[0m\n",
      "\u001b[1;31mNameError\u001b[0m: name 'format_df' is not defined"
     ]
    }
   ],
   "source": [
    "import pandas as pd\n",
    "data = {'Col1': ['1', '11', '2', '3', '4']\n",
    "    , 'Col2': ['11', '22', '22', '13', '44']\n",
    "    , 'Col3': ['111', '22', '33', '333', '444']\n",
    "    , 'Col4': ['a', 'c', 'c', 'b', 'a']\n",
    "    , 'Col5': [1111, 2222, 3333, 4444, 5555]\n",
    "    , 'Col6': ['ua6', 'b61', 'a6', 'd6', 'b6']}\n",
    "df = pd.DataFrame.from_dict(data)\n",
    "#print(df)\n",
    "\n",
    "df['Col5'] = df['Col5'].astype(float) #.round(2)\n",
    "\n",
    "print(df.dtypes)\n",
    "#df = df.round(2)\n",
    "\n",
    "col1_str = df['Col1'].apply(lambda i: str(i))\n",
    "col4_joined = df['Col4'].str.cat(sep=', ', join='left')\n",
    "#df['Col5'] = df['Col4'].str.cat(col1_str, sep=', ', join='left')\n",
    "#df.index = [1, 2, 3, 4, 5]\n",
    "\n",
    "df1 = df['Col4'].cumsum()\n",
    "pd.DataFrame(df1)\n",
    "\n",
    "df.index = ['a', 'd', 'c', 'b', 'e']\n",
    "index = ['Col1', 'Col2', 'Col3']\n",
    "columns = ['Col4']\n",
    "\n",
    "# #df = df.sort_index(ascending=True)\n",
    "# df.set_index(index, inplace=True, drop=False)\n",
    "# #df.index\n",
    "# df = df.sort_index(ascending=True)\n",
    "# df\n",
    "\n",
    "# grouped = df.groupby(index)\n",
    "# for i, frame in grouped:\n",
    "#     print(i)\n",
    "#     print('-' * 5)\n",
    "#     print(frame.nlargest(3, 'Col1'), end='\\n\\n')\n",
    "\n",
    "report = df.groupby(index[0]).apply(lambda sub:\n",
    "    sub.pivot_table(\n",
    "    index=index,\n",
    "    columns=columns,\n",
    "    values=['Col5'],\n",
    "    aggfunc=[np.sum], # aggfunc_matrix,\n",
    "    fill_value='',\n",
    "    #dropna=True,\n",
    "    margins=True,\n",
    "    margins_name=f'SubTotal {sub.name}'\n",
    "    ).iloc[:, :-1] #remove pivot column subtotals\n",
    ").sort_index(axis=1)\n",
    "\n",
    "#row summaries\n",
    "number_levels = report.index.nlevels\n",
    "row_max = ['', 'Max']\n",
    "row_min = ['', 'Min']\n",
    "row_total = ['', 'Total']\n",
    "for _ in range(number_levels-2):\n",
    "    row_max.append('')\n",
    "    row_min.append('')\n",
    "    row_total.append('')\n",
    "\n",
    "report1 = report[~report.index.get_level_values(1).str.contains('Total')] #exclude totals\n",
    "\n",
    "report.loc[tuple(row_max)] = report1.max()\n",
    "report.loc[tuple(row_min)] = report1.min()\n",
    "report.loc[tuple(row_total)] = report1.sum()\n",
    "#column summaries\n",
    "report['ColumnMax'] = report.max(axis=1)[:-3]\n",
    "report['ColumnMin'] = report.drop(columns=['ColumnMax']).min(axis=1)[:-3]\n",
    "report['ColumnTotal'] = report.drop(columns=['ColumnMax', 'ColumnMin']).sum(axis=1)\n",
    "#cleanup\n",
    "report.index = report.index.droplevel(0)\n",
    "\n",
    "#cast all columns to numeric as it appears the pivot values are objects\n",
    "report = report.apply(pd.to_numeric) # convert all columns of DataFrame\n",
    "report.fillna('', inplace=True)\n",
    "#df['Col5'] = df['Col5'].astype(float) #.round(2)\n",
    "#pd.set_options('display.float_format','{:.5f}')\n",
    "report = report.round(3)\n",
    "\n",
    "print('aaaaaaaaaa', type(report) == pd.io.formats.style.Styler)\n",
    "report = format_df(report, caption='')\n",
    "print('bbbbbbbbbbb', type(report) == pd.io.formats.style.Styler)\n",
    "#report.background_gradient()\n",
    "\n",
    "\n",
    "import openpyxl\n",
    "report.to_excel('test.xlsx', engine='openpyxl')\n",
    "\n",
    "report"
   ]
  },
  {
   "cell_type": "code",
   "execution_count": null,
   "metadata": {},
   "outputs": [
    {
     "ename": "AttributeError",
     "evalue": "'Styler' object has no attribute 'loc'",
     "output_type": "error",
     "traceback": [
      "\u001b[1;31m---------------------------------------------------------------------------\u001b[0m",
      "\u001b[1;31mAttributeError\u001b[0m                            Traceback (most recent call last)",
      "\u001b[1;32m~\\AppData\\Local\\Temp/ipykernel_9528/2782864130.py\u001b[0m in \u001b[0;36m<module>\u001b[1;34m\u001b[0m\n\u001b[0;32m      1\u001b[0m \u001b[1;31m#report.iloc[:, -1:-3]\u001b[0m\u001b[1;33m\u001b[0m\u001b[1;33m\u001b[0m\u001b[1;33m\u001b[0m\u001b[0m\n\u001b[1;32m----> 2\u001b[1;33m \u001b[0mreport\u001b[0m\u001b[1;33m.\u001b[0m\u001b[0mloc\u001b[0m\u001b[1;33m[\u001b[0m\u001b[1;33m:\u001b[0m\u001b[1;33m,\u001b[0m \u001b[1;33m~\u001b[0m\u001b[0mreport\u001b[0m\u001b[1;33m.\u001b[0m\u001b[0mcolumns\u001b[0m\u001b[1;33m.\u001b[0m\u001b[0misin\u001b[0m\u001b[1;33m(\u001b[0m\u001b[1;33m[\u001b[0m\u001b[1;33m(\u001b[0m  \u001b[1;34m'ColumnMax'\u001b[0m\u001b[1;33m,\u001b[0m     \u001b[1;34m''\u001b[0m\u001b[1;33m,\u001b[0m  \u001b[1;34m''\u001b[0m\u001b[1;33m)\u001b[0m\u001b[1;33m,\u001b[0m\u001b[1;33m(\u001b[0m  \u001b[1;34m'ColumnMin'\u001b[0m\u001b[1;33m,\u001b[0m     \u001b[1;34m''\u001b[0m\u001b[1;33m,\u001b[0m  \u001b[1;34m''\u001b[0m\u001b[1;33m)\u001b[0m\u001b[1;33m]\u001b[0m\u001b[1;33m)\u001b[0m\u001b[1;33m]\u001b[0m\u001b[1;33m\u001b[0m\u001b[1;33m\u001b[0m\u001b[0m\n\u001b[0m\u001b[0;32m      3\u001b[0m \u001b[1;31m#report.loc[:, ~report.columns.get_loc_level.isin([(  'ColumnMax',     '',  '')])]\u001b[0m\u001b[1;33m\u001b[0m\u001b[1;33m\u001b[0m\u001b[1;33m\u001b[0m\u001b[0m\n\u001b[0;32m      4\u001b[0m \u001b[1;31m#report.columns.get_loc_level(['ColumnMax'])\u001b[0m\u001b[1;33m\u001b[0m\u001b[1;33m\u001b[0m\u001b[1;33m\u001b[0m\u001b[0m\n\u001b[0;32m      5\u001b[0m \u001b[0mreport\u001b[0m\u001b[1;33m.\u001b[0m\u001b[0mcolumns\u001b[0m\u001b[1;33m.\u001b[0m\u001b[0mget_loc_level\u001b[0m\u001b[1;33m(\u001b[0m\u001b[1;34m'ColumnMax'\u001b[0m\u001b[1;33m,\u001b[0m \u001b[0mlevel\u001b[0m\u001b[1;33m=\u001b[0m\u001b[1;36m0\u001b[0m\u001b[1;33m)\u001b[0m\u001b[1;33m\u001b[0m\u001b[1;33m\u001b[0m\u001b[0m\n",
      "\u001b[1;31mAttributeError\u001b[0m: 'Styler' object has no attribute 'loc'"
     ]
    }
   ],
   "source": [
    "#report.iloc[:, -1:-3]\n",
    "report.loc[:, ~report.columns.isin([(  'ColumnMax',     '',  ''),(  'ColumnMin',     '',  '')])]\n",
    "#report.loc[:, ~report.columns.get_loc_level.isin([(  'ColumnMax',     '',  '')])]\n",
    "#report.columns.get_loc_level(['ColumnMax'])\n",
    "report.columns.get_loc_level('ColumnMax', level=0)\n",
    "#report.loc[:, report.columns.get_loc_level('ColumnMin', level=0)]\n",
    "\n",
    "report.drop(['ColumnMax', 'ColumnMin'], axis=1, level=0, inplace=True)\n"
   ]
  },
  {
   "cell_type": "code",
   "execution_count": null,
   "metadata": {},
   "outputs": [
    {
     "data": {
      "text/html": [
       "<div>\n",
       "<style scoped>\n",
       "    .dataframe tbody tr th:only-of-type {\n",
       "        vertical-align: middle;\n",
       "    }\n",
       "\n",
       "    .dataframe tbody tr th {\n",
       "        vertical-align: top;\n",
       "    }\n",
       "\n",
       "    .dataframe thead th {\n",
       "        text-align: right;\n",
       "    }\n",
       "</style>\n",
       "<table border=\"1\" class=\"dataframe\">\n",
       "  <thead>\n",
       "    <tr style=\"text-align: right;\">\n",
       "      <th></th>\n",
       "      <th>Msg</th>\n",
       "    </tr>\n",
       "  </thead>\n",
       "  <tbody>\n",
       "    <tr>\n",
       "      <th>0</th>\n",
       "      <td>1 Orama Richard called function report_list...</td>\n",
       "    </tr>\n",
       "    <tr>\n",
       "      <th>1</th>\n",
       "      <td>2 Orama Richard called function report_list...</td>\n",
       "    </tr>\n",
       "    <tr>\n",
       "      <th>2</th>\n",
       "      <td>3 Orama Richard called function report_matr...</td>\n",
       "    </tr>\n",
       "    <tr>\n",
       "      <th>3</th>\n",
       "      <td>4 Orama Richard called function report_list...</td>\n",
       "    </tr>\n",
       "    <tr>\n",
       "      <th>4</th>\n",
       "      <td>5 Orama Richard called function report_list...</td>\n",
       "    </tr>\n",
       "    <tr>\n",
       "      <th>...</th>\n",
       "      <td>...</td>\n",
       "    </tr>\n",
       "    <tr>\n",
       "      <th>139</th>\n",
       "      <td>140 Orama Richard called function view_logs a...</td>\n",
       "    </tr>\n",
       "    <tr>\n",
       "      <th>140</th>\n",
       "      <td>141 Orama Richard called function view_logs a...</td>\n",
       "    </tr>\n",
       "    <tr>\n",
       "      <th>141</th>\n",
       "      <td>142 Orama Richard called function view_logs a...</td>\n",
       "    </tr>\n",
       "    <tr>\n",
       "      <th>142</th>\n",
       "      <td>143 Orama Richard called function view_logs a...</td>\n",
       "    </tr>\n",
       "    <tr>\n",
       "      <th>143</th>\n",
       "      <td></td>\n",
       "    </tr>\n",
       "  </tbody>\n",
       "</table>\n",
       "<p>144 rows × 1 columns</p>\n",
       "</div>"
      ],
      "text/plain": [
       "                                                   Msg\n",
       "0       1 Orama Richard called function report_list...\n",
       "1       2 Orama Richard called function report_list...\n",
       "2       3 Orama Richard called function report_matr...\n",
       "3       4 Orama Richard called function report_list...\n",
       "4       5 Orama Richard called function report_list...\n",
       "..                                                 ...\n",
       "139   140 Orama Richard called function view_logs a...\n",
       "140   141 Orama Richard called function view_logs a...\n",
       "141   142 Orama Richard called function view_logs a...\n",
       "142   143 Orama Richard called function view_logs a...\n",
       "143                                                   \n",
       "\n",
       "[144 rows x 1 columns]"
      ]
     },
     "execution_count": 214,
     "metadata": {},
     "output_type": "execute_result"
    }
   ],
   "source": [
    "aHtml = ''\n",
    "filename = f'static/logs/logging-general-text-2022-01-22.txt'\n",
    "with open(filename, 'r') as f:\n",
    "    for i, line in enumerate(f.readlines(), start=1):\n",
    "        # use <br/> since this is html\n",
    "        aHtml += f'{i:4d} {line}' + '{}'.format('<br/>')\n",
    "\n",
    "list_messages = aHtml.split('<br/>')\n",
    "# must get first element in list of dataframes\n",
    "df = pd.DataFrame(list_messages, columns=['Msg'])\n",
    "df"
   ]
  },
  {
   "cell_type": "code",
   "execution_count": null,
   "metadata": {},
   "outputs": [
    {
     "data": {
      "text/html": [
       "<div>\n",
       "<style scoped>\n",
       "    .dataframe tbody tr th:only-of-type {\n",
       "        vertical-align: middle;\n",
       "    }\n",
       "\n",
       "    .dataframe tbody tr th {\n",
       "        vertical-align: top;\n",
       "    }\n",
       "\n",
       "    .dataframe thead th {\n",
       "        text-align: right;\n",
       "    }\n",
       "</style>\n",
       "<table border=\"1\" class=\"dataframe\">\n",
       "  <thead>\n",
       "    <tr style=\"text-align: right;\">\n",
       "      <th></th>\n",
       "      <th>Col1</th>\n",
       "      <th>Col4</th>\n",
       "      <th>Col3</th>\n",
       "    </tr>\n",
       "  </thead>\n",
       "  <tbody>\n",
       "    <tr>\n",
       "      <th>0</th>\n",
       "      <td>a</td>\n",
       "      <td>aa</td>\n",
       "      <td>8.133333e+01</td>\n",
       "    </tr>\n",
       "    <tr>\n",
       "      <th>1</th>\n",
       "      <td></td>\n",
       "      <td>bb</td>\n",
       "      <td>-1.111111e+06</td>\n",
       "    </tr>\n",
       "    <tr>\n",
       "      <th>2</th>\n",
       "      <td>d</td>\n",
       "      <td>dd</td>\n",
       "      <td>3.330000e+02</td>\n",
       "    </tr>\n",
       "    <tr>\n",
       "      <th>3</th>\n",
       "      <td>e</td>\n",
       "      <td>bb</td>\n",
       "      <td>4.440000e+02</td>\n",
       "    </tr>\n",
       "  </tbody>\n",
       "</table>\n",
       "</div>"
      ],
      "text/plain": [
       "  Col1 Col4          Col3\n",
       "0    a   aa  8.133333e+01\n",
       "1        bb -1.111111e+06\n",
       "2    d   dd  3.330000e+02\n",
       "3    e   bb  4.440000e+02"
      ]
     },
     "execution_count": 327,
     "metadata": {},
     "output_type": "execute_result"
    }
   ],
   "source": [
    "# %ls c*.py\n",
    "import pandas as pd\n",
    "data = {'Col1': ['a', 'a', 'a', 'a', 'd', 'e'], 'Col2': [\n",
    "    11, '111111', 22, 22222, 13, -44], 'Col3': [111, 22, -1111111, 111, 333, 444], 'Col4': ['aa', 'aa', 'bb', 'aa', 'dd', 'bb']}\n",
    "df = pd.DataFrame.from_dict(data)\n",
    "report = df.pivot_table(\n",
    "    index=['Col1', 'Col4'],\n",
    ")\n",
    "#print(df)\n",
    "report.reset_index(inplace=True)\n",
    "#report.groupby((report['Col1'].shift() != report['Col1']).cumsum()).filter(lambda x: len(x) < 4)\n",
    "#report.groupby((report['Col1'].shift() != report['Col1']).cumsum()).filter(lambda x: len(x) < 4)\n",
    "report.loc[(report['Col1'].duplicated(keep='first')), 'Col1'] = ''\n",
    "#report.loc[(report['Col4'].duplicated(keep='first')), 'Col4'] = ''\n",
    "#report.loc[(report['Col4'].duplicated(keep='first')), 'Col4'] = ''\n",
    "\n",
    "report.loc[report['Col4'].shift() != report['Col4']]\n",
    "report"
   ]
  },
  {
   "cell_type": "code",
   "execution_count": null,
   "metadata": {},
   "outputs": [
    {
     "data": {
      "text/html": [
       "<div>\n",
       "<style scoped>\n",
       "    .dataframe tbody tr th:only-of-type {\n",
       "        vertical-align: middle;\n",
       "    }\n",
       "\n",
       "    .dataframe tbody tr th {\n",
       "        vertical-align: top;\n",
       "    }\n",
       "\n",
       "    .dataframe thead th {\n",
       "        text-align: right;\n",
       "    }\n",
       "</style>\n",
       "<table border=\"1\" class=\"dataframe\">\n",
       "  <thead>\n",
       "    <tr style=\"text-align: right;\">\n",
       "      <th></th>\n",
       "      <th></th>\n",
       "      <th>Sales</th>\n",
       "    </tr>\n",
       "    <tr>\n",
       "      <th>Region</th>\n",
       "      <th>Type</th>\n",
       "      <th></th>\n",
       "    </tr>\n",
       "  </thead>\n",
       "  <tbody>\n",
       "    <tr>\n",
       "      <th rowspan=\"3\" valign=\"top\">East</th>\n",
       "      <th>Children's Clothing</th>\n",
       "      <td>45849</td>\n",
       "    </tr>\n",
       "    <tr>\n",
       "      <th>Men's Clothing</th>\n",
       "      <td>51685</td>\n",
       "    </tr>\n",
       "    <tr>\n",
       "      <th>Women's Clothing</th>\n",
       "      <td>70229</td>\n",
       "    </tr>\n",
       "    <tr>\n",
       "      <th rowspan=\"3\" valign=\"top\">North</th>\n",
       "      <th>Children's Clothing</th>\n",
       "      <td>37306</td>\n",
       "    </tr>\n",
       "    <tr>\n",
       "      <th>Men's Clothing</th>\n",
       "      <td>39975</td>\n",
       "    </tr>\n",
       "    <tr>\n",
       "      <th>Women's Clothing</th>\n",
       "      <td>61419</td>\n",
       "    </tr>\n",
       "    <tr>\n",
       "      <th rowspan=\"3\" valign=\"top\">South</th>\n",
       "      <th>Children's Clothing</th>\n",
       "      <td>18570</td>\n",
       "    </tr>\n",
       "    <tr>\n",
       "      <th>Men's Clothing</th>\n",
       "      <td>18542</td>\n",
       "    </tr>\n",
       "    <tr>\n",
       "      <th>Women's Clothing</th>\n",
       "      <td>22203</td>\n",
       "    </tr>\n",
       "    <tr>\n",
       "      <th rowspan=\"3\" valign=\"top\">West</th>\n",
       "      <th>Children's Clothing</th>\n",
       "      <td>20182</td>\n",
       "    </tr>\n",
       "    <tr>\n",
       "      <th>Men's Clothing</th>\n",
       "      <td>19077</td>\n",
       "    </tr>\n",
       "    <tr>\n",
       "      <th>Women's Clothing</th>\n",
       "      <td>22217</td>\n",
       "    </tr>\n",
       "  </tbody>\n",
       "</table>\n",
       "</div>"
      ],
      "text/plain": [
       "                            Sales\n",
       "Region Type                      \n",
       "East   Children's Clothing  45849\n",
       "       Men's Clothing       51685\n",
       "       Women's Clothing     70229\n",
       "North  Children's Clothing  37306\n",
       "       Men's Clothing       39975\n",
       "       Women's Clothing     61419\n",
       "South  Children's Clothing  18570\n",
       "       Men's Clothing       18542\n",
       "       Women's Clothing     22203\n",
       "West   Children's Clothing  20182\n",
       "       Men's Clothing       19077\n",
       "       Women's Clothing     22217"
      ]
     },
     "execution_count": 248,
     "metadata": {},
     "output_type": "execute_result"
    }
   ],
   "source": [
    "import pandas as pd \n",
    "\n",
    "df = pd.read_excel('https://github.com/datagy/pivot_table_pandas/raw/master/sample_pivot.xlsx', parse_dates=['Date']) \n",
    "\n",
    "df.head()\n",
    "\n",
    "pivot = pd.pivot_table(df, index = ['Region', 'Type'], values = 'Sales', aggfunc = 'sum') \n",
    "pivot"
   ]
  },
  {
   "cell_type": "code",
   "execution_count": null,
   "metadata": {},
   "outputs": [
    {
     "name": "stderr",
     "output_type": "stream",
     "text": [
      "C:\\Users\\rorama\\AppData\\Local\\Temp/ipykernel_5476/1764561738.py:2: FutureWarning: Treating datetime data as categorical rather than numeric in `.describe` is deprecated and will be removed in a future version of pandas. Specify `datetime_is_numeric=True` to silence this warning and adopt the future behavior now.\n",
      "  df.describe(include='all')\n"
     ]
    },
    {
     "data": {
      "text/html": [
       "<div>\n",
       "<style scoped>\n",
       "    .dataframe tbody tr th:only-of-type {\n",
       "        vertical-align: middle;\n",
       "    }\n",
       "\n",
       "    .dataframe tbody tr th {\n",
       "        vertical-align: top;\n",
       "    }\n",
       "\n",
       "    .dataframe thead th {\n",
       "        text-align: right;\n",
       "    }\n",
       "</style>\n",
       "<table border=\"1\" class=\"dataframe\">\n",
       "  <thead>\n",
       "    <tr style=\"text-align: right;\">\n",
       "      <th></th>\n",
       "      <th>Date</th>\n",
       "      <th>Region</th>\n",
       "      <th>Type</th>\n",
       "      <th>Units</th>\n",
       "      <th>Sales</th>\n",
       "    </tr>\n",
       "  </thead>\n",
       "  <tbody>\n",
       "    <tr>\n",
       "      <th>0</th>\n",
       "      <td>2020-07-11</td>\n",
       "      <td>East</td>\n",
       "      <td>Children's Clothing</td>\n",
       "      <td>18.0</td>\n",
       "      <td>306</td>\n",
       "    </tr>\n",
       "    <tr>\n",
       "      <th>1</th>\n",
       "      <td>2020-09-23</td>\n",
       "      <td>North</td>\n",
       "      <td>Children's Clothing</td>\n",
       "      <td>14.0</td>\n",
       "      <td>448</td>\n",
       "    </tr>\n",
       "    <tr>\n",
       "      <th>2</th>\n",
       "      <td>2020-04-02</td>\n",
       "      <td>South</td>\n",
       "      <td>Women's Clothing</td>\n",
       "      <td>17.0</td>\n",
       "      <td>425</td>\n",
       "    </tr>\n",
       "    <tr>\n",
       "      <th>3</th>\n",
       "      <td>2020-02-28</td>\n",
       "      <td>East</td>\n",
       "      <td>Children's Clothing</td>\n",
       "      <td>26.0</td>\n",
       "      <td>832</td>\n",
       "    </tr>\n",
       "    <tr>\n",
       "      <th>4</th>\n",
       "      <td>2020-03-19</td>\n",
       "      <td>West</td>\n",
       "      <td>Women's Clothing</td>\n",
       "      <td>3.0</td>\n",
       "      <td>33</td>\n",
       "    </tr>\n",
       "    <tr>\n",
       "      <th>...</th>\n",
       "      <td>...</td>\n",
       "      <td>...</td>\n",
       "      <td>...</td>\n",
       "      <td>...</td>\n",
       "      <td>...</td>\n",
       "    </tr>\n",
       "    <tr>\n",
       "      <th>995</th>\n",
       "      <td>2020-02-11</td>\n",
       "      <td>East</td>\n",
       "      <td>Children's Clothing</td>\n",
       "      <td>35.0</td>\n",
       "      <td>735</td>\n",
       "    </tr>\n",
       "    <tr>\n",
       "      <th>996</th>\n",
       "      <td>2020-12-25</td>\n",
       "      <td>North</td>\n",
       "      <td>Men's Clothing</td>\n",
       "      <td>NaN</td>\n",
       "      <td>1155</td>\n",
       "    </tr>\n",
       "    <tr>\n",
       "      <th>997</th>\n",
       "      <td>2020-08-31</td>\n",
       "      <td>South</td>\n",
       "      <td>Men's Clothing</td>\n",
       "      <td>13.0</td>\n",
       "      <td>208</td>\n",
       "    </tr>\n",
       "    <tr>\n",
       "      <th>998</th>\n",
       "      <td>2020-08-23</td>\n",
       "      <td>South</td>\n",
       "      <td>Women's Clothing</td>\n",
       "      <td>17.0</td>\n",
       "      <td>493</td>\n",
       "    </tr>\n",
       "    <tr>\n",
       "      <th>999</th>\n",
       "      <td>2020-08-17</td>\n",
       "      <td>North</td>\n",
       "      <td>Women's Clothing</td>\n",
       "      <td>25.0</td>\n",
       "      <td>300</td>\n",
       "    </tr>\n",
       "  </tbody>\n",
       "</table>\n",
       "<p>1000 rows × 5 columns</p>\n",
       "</div>"
      ],
      "text/plain": [
       "          Date Region                 Type  Units  Sales\n",
       "0   2020-07-11   East  Children's Clothing   18.0    306\n",
       "1   2020-09-23  North  Children's Clothing   14.0    448\n",
       "2   2020-04-02  South     Women's Clothing   17.0    425\n",
       "3   2020-02-28   East  Children's Clothing   26.0    832\n",
       "4   2020-03-19   West     Women's Clothing    3.0     33\n",
       "..         ...    ...                  ...    ...    ...\n",
       "995 2020-02-11   East  Children's Clothing   35.0    735\n",
       "996 2020-12-25  North       Men's Clothing    NaN   1155\n",
       "997 2020-08-31  South       Men's Clothing   13.0    208\n",
       "998 2020-08-23  South     Women's Clothing   17.0    493\n",
       "999 2020-08-17  North     Women's Clothing   25.0    300\n",
       "\n",
       "[1000 rows x 5 columns]"
      ]
     },
     "execution_count": 261,
     "metadata": {},
     "output_type": "execute_result"
    }
   ],
   "source": [
    "df\n",
    "df.describe(include='all')\n",
    "df"
   ]
  },
  {
   "cell_type": "code",
   "execution_count": null,
   "metadata": {},
   "outputs": [
    {
     "data": {
      "text/plain": [
       "MultiIndex([( 'East', 'Children's Clothing'),\n",
       "            ( 'East',      'Men's Clothing'),\n",
       "            ( 'East',    'Women's Clothing'),\n",
       "            ('North', 'Children's Clothing'),\n",
       "            ('North',      'Men's Clothing'),\n",
       "            ('North',    'Women's Clothing'),\n",
       "            ('South', 'Children's Clothing'),\n",
       "            ('South',      'Men's Clothing'),\n",
       "            ('South',    'Women's Clothing'),\n",
       "            ( 'West', 'Children's Clothing'),\n",
       "            ( 'West',      'Men's Clothing'),\n",
       "            ( 'West',    'Women's Clothing')],\n",
       "           names=['Region', 'Type'])"
      ]
     },
     "execution_count": 251,
     "metadata": {},
     "output_type": "execute_result"
    }
   ],
   "source": [
    "pivot.style.format({'Sales':'${0:,.0f}'})\n",
    "def highlight_fifty(val): \n",
    "   color = 'red' if val > 50000 else 'black' \n",
    "   return 'color: %s' % color\n",
    "\n",
    "pivot_highlight = pivot.style.applymap(highlight_fifty).format({'Sales':'${0:,.0f}'}) \n",
    "pivot_highlight\n",
    "\n",
    "pivot.index"
   ]
  },
  {
   "cell_type": "code",
   "execution_count": null,
   "metadata": {},
   "outputs": [
    {
     "data": {
      "text/html": [
       "<div>\n",
       "<style scoped>\n",
       "    .dataframe tbody tr th:only-of-type {\n",
       "        vertical-align: middle;\n",
       "    }\n",
       "\n",
       "    .dataframe tbody tr th {\n",
       "        vertical-align: top;\n",
       "    }\n",
       "\n",
       "    .dataframe thead th {\n",
       "        text-align: right;\n",
       "    }\n",
       "</style>\n",
       "<table border=\"1\" class=\"dataframe\">\n",
       "  <thead>\n",
       "    <tr style=\"text-align: right;\">\n",
       "      <th></th>\n",
       "      <th>Sales</th>\n",
       "    </tr>\n",
       "    <tr>\n",
       "      <th>Region</th>\n",
       "      <th></th>\n",
       "    </tr>\n",
       "  </thead>\n",
       "  <tbody>\n",
       "    <tr>\n",
       "      <th>East</th>\n",
       "      <td>167763</td>\n",
       "    </tr>\n",
       "    <tr>\n",
       "      <th>North</th>\n",
       "      <td>138700</td>\n",
       "    </tr>\n",
       "    <tr>\n",
       "      <th>South</th>\n",
       "      <td>59315</td>\n",
       "    </tr>\n",
       "    <tr>\n",
       "      <th>West</th>\n",
       "      <td>61476</td>\n",
       "    </tr>\n",
       "  </tbody>\n",
       "</table>\n",
       "</div>"
      ],
      "text/plain": [
       "         Sales\n",
       "Region        \n",
       "East    167763\n",
       "North   138700\n",
       "South    59315\n",
       "West     61476"
      ]
     },
     "execution_count": 256,
     "metadata": {},
     "output_type": "execute_result"
    }
   ],
   "source": [
    "pivot = pd.pivot_table(df, index = 'Region', values = 'Sales', aggfunc = 'sum') \n",
    "pivot"
   ]
  },
  {
   "cell_type": "code",
   "execution_count": null,
   "metadata": {},
   "outputs": [
    {
     "name": "stdout",
     "output_type": "stream",
     "text": [
      "{\"title\": \"Invalid token: undefined\", \"description\": \"Please provide a valid Basic auth token\", \"link\": {\"text\": \"Documentation related to this error\", \"href\": \"https://d7networks.com/rest-pdf/\", \"rel\": \"help\"}}\n"
     ]
    }
   ],
   "source": [
    "import requests\n",
    "# # not working removed all keys - just redo this\n",
    "\n",
    "# url = \"https://...\"\n",
    "\n",
    "# payload = \"{\\r\\n    \\\"coding\\\": \\\"8\\\",\\r\\n    \\\"from\\\": \\\"SMSInfo\\\",\\r\\n    \\\"hex-content\\\": \\\"00480065006c006c006f\\\",\\r\\n    \\\"to\\\": 971562316353\\r\\n}\"\n",
    "# headers = {\n",
    "#     'content-type': \"application/json\",\n",
    "#     'authorization': \"undefined\",\n",
    "#     'host': \"d7sms.p.rapidapi.com\",\n",
    "#     'key': \"9999999\"\n",
    "#     }\n",
    "\n",
    "# response = requests.request(\"POST\", url, data=payload, headers=headers)\n",
    "\n",
    "# print(response.text)"
   ]
  }
 ],
 "metadata": {
  "interpreter": {
   "hash": "6b6b6f50dbd12861d825c46c9c57add235a796b3469b89c62f59ea2bbbb2f647"
  },
  "kernelspec": {
   "display_name": "Python 3.8.8 64-bit ('venv': venv)",
   "name": "python3"
  },
  "language_info": {
   "codemirror_mode": {
    "name": "ipython",
    "version": 3
   },
   "file_extension": ".py",
   "mimetype": "text/x-python",
   "name": "python",
   "nbconvert_exporter": "python",
   "pygments_lexer": "ipython3",
   "version": "3.8.8"
  },
  "orig_nbformat": 4
 },
 "nbformat": 4,
 "nbformat_minor": 2
}
