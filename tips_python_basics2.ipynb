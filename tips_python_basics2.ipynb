{
 "cells": [
  {
   "cell_type": "markdown",
   "metadata": {},
   "source": [
    "# Note: Anaconda is a free Python distribution for data science. Miniconda is a minimal distribution only containing Python and the conda package manager."
   ]
  },
  {
   "cell_type": "markdown",
   "metadata": {},
   "source": [
    "# <font color=blue><b>Lesson 1: data structures</b></font>\n",
    "\n",
    "# Data structures in Python: used for storing and manipulating data in a program\n",
    "\n",
    "\"Data structures\" is one of the foundations for any programming language. It would be pointless to dive into programming using a language without understanding the basics - including data tructures.\n",
    "\n",
    "- Primitive data structures: Integer, Float, String\n",
    "- Container data structures: List, Tuple, Dictionary, Set\n",
    "\n",
    "- Integer, Float, String, Tuple are immutable - cannot change once assigned\n",
    "- List, Dictionary, Set are mutable - can change after assignment\n",
    "\n",
    "String, List and Tuples are also called sequences.\n",
    "\n",
    "A thorough understanding of data structures before undertakig a programming project pays off. In practice, you will realize that you are dealing with data structures each and every time you code.\n"
   ]
  },
  {
   "cell_type": "markdown",
   "metadata": {},
   "source": [
    "## <font color=blue>1.1: Integer, Float, String</font>"
   ]
  },
  {
   "cell_type": "code",
   "execution_count": 1,
   "metadata": {},
   "outputs": [],
   "source": [
    "#Immutable - cannot change once assigned\n",
    "int1 = 15\n",
    "float1 = 10.3\n",
    "string1 = 'this is my string'"
   ]
  },
  {
   "cell_type": "markdown",
   "metadata": {},
   "source": [
    "## <font color=blue>1.2: Lists</font>"
   ]
  },
  {
   "cell_type": "code",
   "execution_count": 7,
   "metadata": {},
   "outputs": [
    {
     "ename": "NameError",
     "evalue": "name 'integer_list' is not defined",
     "output_type": "error",
     "traceback": [
      "\u001b[1;31m---------------------------------------------------------------------------\u001b[0m",
      "\u001b[1;31mNameError\u001b[0m                                 Traceback (most recent call last)",
      "\u001b[1;32m<ipython-input-7-18a419a2b324>\u001b[0m in \u001b[0;36m<module>\u001b[1;34m\u001b[0m\n\u001b[0;32m      7\u001b[0m \u001b[0mlist1\u001b[0m \u001b[1;33m=\u001b[0m \u001b[1;33m[\u001b[0m\u001b[1;36m1\u001b[0m\u001b[1;33m,\u001b[0m \u001b[1;36m2\u001b[0m\u001b[1;33m,\u001b[0m \u001b[1;36m3\u001b[0m\u001b[1;33m]\u001b[0m \u001b[1;31m#homogeneous\u001b[0m\u001b[1;33m\u001b[0m\u001b[1;33m\u001b[0m\u001b[0m\n\u001b[0;32m      8\u001b[0m \u001b[0mlist2\u001b[0m \u001b[1;33m=\u001b[0m \u001b[1;33m[\u001b[0m\u001b[1;34m\"string\"\u001b[0m\u001b[1;33m,\u001b[0m \u001b[1;36m0.1\u001b[0m\u001b[1;33m,\u001b[0m \u001b[1;32mTrue\u001b[0m\u001b[1;33m]\u001b[0m \u001b[1;31m#heterogeneous_list\u001b[0m\u001b[1;33m\u001b[0m\u001b[1;33m\u001b[0m\u001b[0m\n\u001b[1;32m----> 9\u001b[1;33m \u001b[0mlist3\u001b[0m \u001b[1;33m=\u001b[0m \u001b[1;33m[\u001b[0m \u001b[0minteger_list\u001b[0m\u001b[1;33m,\u001b[0m \u001b[0mheterogeneous_list\u001b[0m\u001b[1;33m,\u001b[0m \u001b[1;33m[\u001b[0m\u001b[1;33m]\u001b[0m \u001b[1;33m]\u001b[0m \u001b[1;31m#list of lists\u001b[0m\u001b[1;33m\u001b[0m\u001b[1;33m\u001b[0m\u001b[0m\n\u001b[0m\u001b[0;32m     10\u001b[0m \u001b[0mlist_length\u001b[0m \u001b[1;33m=\u001b[0m \u001b[0mlen\u001b[0m\u001b[1;33m(\u001b[0m\u001b[0mlist3\u001b[0m\u001b[1;33m)\u001b[0m \u001b[1;31m# equals 3\u001b[0m\u001b[1;33m\u001b[0m\u001b[1;33m\u001b[0m\u001b[0m\n\u001b[0;32m     11\u001b[0m \u001b[0mlist_sum\u001b[0m \u001b[1;33m=\u001b[0m \u001b[0msum\u001b[0m\u001b[1;33m(\u001b[0m\u001b[0mlist1\u001b[0m\u001b[1;33m)\u001b[0m \u001b[1;31m# equals 6\u001b[0m\u001b[1;33m\u001b[0m\u001b[1;33m\u001b[0m\u001b[0m\n",
      "\u001b[1;31mNameError\u001b[0m: name 'integer_list' is not defined"
     ]
    }
   ],
   "source": [
    "\n",
    "\"\"\"\n",
    "Lists (mutable, i.e. can change after assignment and definition). Similar to arrays in otehr languages.\n",
    "An ordered collection, a list is perhaps the most commonly used data structure in Python.\n",
    "\"\"\"\n",
    "\n",
    "list1 = [1, 2, 3] #homogeneous\n",
    "list2 = [\"string\", 0.1, True] #heterogeneous_list\n",
    "list3 = [ integer_list, heterogeneous_list, [] ] #list of lists\n",
    "list_length = len(list3) # equals 3\n",
    "list_sum = sum(list1) # equals 6\n"
   ]
  },
  {
   "cell_type": "markdown",
   "metadata": {},
   "source": [
    "## <font color=blue>1.3: Tuples</font>"
   ]
  },
  {
   "cell_type": "code",
   "execution_count": 4,
   "metadata": {},
   "outputs": [
    {
     "ename": "TypeError",
     "evalue": "'tuple' object does not support item assignment",
     "output_type": "error",
     "traceback": [
      "\u001b[1;31m---------------------------------------------------------------------------\u001b[0m",
      "\u001b[1;31mTypeError\u001b[0m                                 Traceback (most recent call last)",
      "\u001b[1;32m<ipython-input-4-72279f9e0c74>\u001b[0m in \u001b[0;36m<module>\u001b[1;34m\u001b[0m\n\u001b[0;32m     12\u001b[0m \u001b[1;33m\u001b[0m\u001b[0m\n\u001b[0;32m     13\u001b[0m \u001b[1;31m# tuple is immutable\u001b[0m\u001b[1;33m\u001b[0m\u001b[1;33m\u001b[0m\u001b[1;33m\u001b[0m\u001b[0m\n\u001b[1;32m---> 14\u001b[1;33m \u001b[0mtuple1\u001b[0m\u001b[1;33m[\u001b[0m\u001b[1;36m1\u001b[0m\u001b[1;33m]\u001b[0m \u001b[1;33m=\u001b[0m \u001b[1;36m3\u001b[0m \u001b[1;31m# TypeError: 'tuple' object does not support item assignment\u001b[0m\u001b[1;33m\u001b[0m\u001b[1;33m\u001b[0m\u001b[0m\n\u001b[0m",
      "\u001b[1;31mTypeError\u001b[0m: 'tuple' object does not support item assignment"
     ]
    }
   ],
   "source": [
    "\"\"\"\n",
    "Tuples (immutable i.e. cannot change after assignment and definition)\n",
    "Tuples are similar to lists apart from the fact that they are immutable\n",
    "\"\"\"\n",
    "\n",
    "list1 = [1, 2, 7]\n",
    "tuple1 = (1, 2, 6, 3)\n",
    "tuple1 = 1, 2, 6, 3 #same as above\n",
    "\n",
    "# list is mutable\n",
    "list1[2] = 9 # list1 is now [1, 2, 9]\n",
    "\n",
    "# tuple is immutable\n",
    "tuple1[1] = 3 # TypeError: 'tuple' object does not support item assignment\n"
   ]
  },
  {
   "cell_type": "markdown",
   "metadata": {},
   "source": [
    "## <font color=blue>1.4: Dictionaries</font>"
   ]
  },
  {
   "cell_type": "code",
   "execution_count": 4,
   "metadata": {},
   "outputs": [],
   "source": [
    "\"\"\"\n",
    "Dictionaries (mutable)\n",
    "Another fundamental data structure is a dictionary, which associates values with keys and\n",
    "allows you to quickly retrieve the value corresponding to a given key:\n",
    "\"\"\"\n",
    "\n",
    "dict1 = {} # Pythonic\n",
    "dict2 = dict() # less Pythonic\n",
    "user_grades = { \"user1\" : 80, \"user2\" : 95 } # dictionary literal\n",
    "#You can look up the value for a key using square brackets:\n",
    "user1_grade = user_grades[\"user1\"] # equals 80"
   ]
  },
  {
   "cell_type": "markdown",
   "metadata": {},
   "source": [
    "## <font color=blue>1.5: Sets</font>"
   ]
  },
  {
   "cell_type": "code",
   "execution_count": 6,
   "metadata": {},
   "outputs": [],
   "source": [
    "#Sets (mutable, fast operations - e.g.  membership test)\n",
    "# A set is an unordered collection of distinct elements. You cannot access it using index\n",
    "set1 = set()\n",
    "set1.add(1) # s is now { 1 }\n",
    "set1.add(2) # s is now { 1, 2 }\n",
    "set1.add(2) # s is still { 1, 2 }\n",
    "x = len(set1) # equals 2\n",
    "y = 2 in set1 # equals True - membership test\n",
    "z = 3 in set1 # equals False - membership test\n",
    "\n",
    "\n",
    "words = [\"a\",\"an\",\"at\"] + [\"hundreds_of_other_words\"] + [\"yet\", \"you\"]\n",
    "\"zip\" in words # False, but have to check every element\n",
    "stopwords_set = set(stopwords_list)\n",
    "\"zip\" in words # fast to check\n",
    "\n",
    "#another good use-case of set is to find the distinct items in a collection:\n",
    "item_list = [1, 2, 3, 1, 2, 3]\n",
    "num_items = len(item_list) # 6\n",
    "item_set = set(item_list) # {1, 2, 3}\n",
    "num_distinct_items = len(item_set) # 3\n",
    "distinct_item_list = list(item_set) # [1, 2, 3]\n",
    "#We’ll use sets much less frequently than dicts and lists."
   ]
  },
  {
   "cell_type": "markdown",
   "metadata": {},
   "source": [
    "# <font color=blue><b>Lesson 2: lambda, counter, unpack lists, sort, enumerate</b></font>"
   ]
  },
  {
   "cell_type": "code",
   "execution_count": 9,
   "metadata": {},
   "outputs": [
    {
     "data": {
      "text/plain": [
       "5"
      ]
     },
     "execution_count": 9,
     "metadata": {},
     "output_type": "execute_result"
    }
   ],
   "source": [
    "#lambda is an anonymus short function. can take multiple parameters, but has only one expression (statement) to execute.\n",
    "    \n",
    "#dont assign lambdas to variables like below. instead use a function def or pass parameters immediately at the end line in the example after.  \n",
    "full_name = lambda first, last: f'Full name: {first.upper()} {last.title()}'\n",
    "full_name('richard', 'orama') #'Full name: RICHARD Orama'\n",
    "\n",
    "#pass parameters immediately at the end - notice parenthesis on both\n",
    "(lambda first, last: f'Full name: {first.upper()} {last.title()}') ('richardd', 'orama') #'Full name: RICHARD Orama'\n",
    "(lambda x, y: x + y)(2, 3) #5\n"
   ]
  },
  {
   "cell_type": "code",
   "execution_count": 14,
   "metadata": {},
   "outputs": [
    {
     "name": "stdout",
     "output_type": "stream",
     "text": [
      "Counter({'Richard': 4, 'James': 2, 'Martin': 2, 'Patrick': 1, 'Peter': 1})\n",
      "[('Richard', 4), ('James', 2)]\n",
      "The occurrance of Richard is:  4\n"
     ]
    },
    {
     "data": {
      "text/plain": [
       "3"
      ]
     },
     "execution_count": 14,
     "metadata": {},
     "output_type": "execute_result"
    }
   ],
   "source": [
    "#Python Counter takes in input a list, tuple, dictionary, string, which are all iterable objects, and returns output that will have the count of each element.\n",
    "\n",
    "from collections import Counter\n",
    "list_names = ['Patrick', 'Richard', 'Richard', 'James', 'Martin', 'Peter', 'Richard', 'James', 'Richard', 'Martin']\n",
    "counts = Counter(list_names)\n",
    "print(counts) #Counter({'Richard': 4, 'James': 2, 'Martin': 2, 'Patrick': 1, 'Peter': 1})\n",
    "#print(dir(counts)) #see the list of available class methods/attributes\n",
    "print(counts.most_common(2)) #[('Richard', 4), ('James', 2)]\n",
    "print(\"The occurrance of Richard is: \" , counts['Richard']) #4\n",
    "\n",
    "aa=[1,2,3,4,4,4]\n",
    "Counter(aa) #Counter({1: 1, 2: 1, 3: 1, 4: 3})\n",
    "Counter(aa)[4] #3"
   ]
  },
  {
   "cell_type": "code",
   "execution_count": 18,
   "metadata": {},
   "outputs": [
    {
     "name": "stdout",
     "output_type": "stream",
     "text": [
      "1 2 [3, 4, 5, 6]\n",
      "1 2 [3, 4, 5]\n"
     ]
    }
   ],
   "source": [
    "#unpack (explode) list\n",
    "x, y = [1, 2] # x is 1, y is 2\n",
    "_, y = [1, 2] # y == 2, the first element is ignored becaise of _\n",
    "a, b, *c = [1, 2, 3, 4, 5, 6]\n",
    "print(a, b, c) #1 2 [3, 4, 5, 6], note that c is now [3, 4, 5, 6]\n",
    "a, b, *c, d = [1, 2, 3, 4, 5, 6]\n",
    "print(a, b, c) #1 2 [3, 4, 5], note that c is now [3, 4, 5]\n",
    "a, b, *_, d = [1, 2, 3, 4, 5, 6] #ignore [3, 4, 5]\n",
    "\n"
   ]
  },
  {
   "cell_type": "code",
   "execution_count": 29,
   "metadata": {},
   "outputs": [
    {
     "name": "stdout",
     "output_type": "stream",
     "text": [
      "[('aa', 3), ('bb', 3), ('cc', 2), ('dd', 2), ('ee', 2), ('ff', 2), ('gg', 1)]\n",
      "aa 3\n",
      "bb 3\n",
      "cc 2\n",
      "dd 2\n",
      "ee 2\n"
     ]
    }
   ],
   "source": [
    "#sort list using sorted()\n",
    "\n",
    "ids = ['id1', 'id2', 'id30', 'id3', 'id22', 'id100'] \n",
    "sorted_ids1 = sorted(ids) # Lexicographic sort #['id1', 'id100', 'id2', 'id22', 'id3', 'id30']\n",
    "sorted_ids2 = sorted(ids, key=lambda x: int(x[2:])) # Integer sort #['id1', 'id2', 'id3', 'id22', 'id30', 'id100']\n",
    "\n",
    "# sort the list by absolute value from largest to smallest\n",
    "x = sorted([-4,1,-2,3], key=abs, reverse=True) # is [-4,3,-2,1]\n",
    "\n",
    "# sort the words and counts from highest count to lowest\n",
    "words= ['aa', 'bb', 'cc', 'dd', 'ee', 'ff', 'gg', 'aa', 'bb', 'cc', 'dd', 'ee', 'ff', 'aa', 'bb'] #'abcdefgh abc' #[1,2,3,4,4,4]\n",
    "word_counts = Counter(words)\n",
    "#note below: it appears that we cannot use \"key=lambda word, count\" anymore in Python3\n",
    "word_counts_sorted = sorted(word_counts.items(), key=lambda w: w[1], reverse=True) #[('aa', 3), ('bb', 3), ('cc', 2), ('dd', 2), ('ee', 2), ('ff', 2), ('gg', 1)]\n",
    "print(word_counts_sorted)\n",
    "\n",
    "#A Counter instance has a most_common method that is frequently useful:\n",
    "# print the 10 most common words and their counts\n",
    "for word, count in word_counts.most_common(5):\n",
    "    print (word, count)"
   ]
  },
  {
   "cell_type": "code",
   "execution_count": 34,
   "metadata": {},
   "outputs": [
    {
     "data": {
      "text/plain": [
       "[4, 3, 2, 1]"
      ]
     },
     "execution_count": 34,
     "metadata": {},
     "output_type": "execute_result"
    }
   ],
   "source": [
    "#sort list using sort() - inplace\n",
    "\n",
    "x = [4,1,2,3]\n",
    "y = sorted(x) # is [1,2,3,4], x is unchanged\n",
    "x.sort() #x is changed\n",
    "\n",
    "# sort the list by absolute value from largest to smallest\n",
    "x.sort(key=abs, reverse=True) #inplace, returns None, so explicitly print x below\n",
    "x"
   ]
  },
  {
   "cell_type": "code",
   "execution_count": 41,
   "metadata": {},
   "outputs": [
    {
     "name": "stdout",
     "output_type": "stream",
     "text": [
      "1 aa\n",
      "2 bb\n",
      "3 cc\n",
      "3\n"
     ]
    }
   ],
   "source": [
    "#enumerate\n",
    "#used for iterating over a list and use both index and value. it produces tuples (index, element):\n",
    "words = ['aa', 'bb', 'cc']\n",
    "for i, word in enumerate(words, start=1): #can optionally add start argument, otherwise index starts from 0\n",
    "    print(i, word)\n",
    "    \n",
    "#if you want to use only index:\n",
    "x=0\n",
    "for i, _ in enumerate(words):\n",
    "    x += i\n",
    "print(x)\n",
    "\n",
    "    "
   ]
  },
  {
   "cell_type": "markdown",
   "metadata": {},
   "source": [
    "# <font color=blue><b>Lesson 4: using slice to rotate, reverse list (all amazing stunts)</b></font>"
   ]
  },
  {
   "cell_type": "code",
   "execution_count": 19,
   "metadata": {},
   "outputs": [
    {
     "data": {
      "text/plain": [
       "[4, 5, 6, 7, 1, 2, 3]"
      ]
     },
     "execution_count": 19,
     "metadata": {},
     "output_type": "execute_result"
    }
   ],
   "source": [
    "#rotate left - amazing\n",
    "d=3\n",
    "a=[1,2,3,4,5, 6, 7]\n",
    "b = a[d:] + a[:d]\n",
    "b #[4, 5, 6, 7, 1, 2, 3]\n"
   ]
  },
  {
   "cell_type": "code",
   "execution_count": 20,
   "metadata": {},
   "outputs": [
    {
     "name": "stdout",
     "output_type": "stream",
     "text": [
      "654321"
     ]
    },
    {
     "data": {
      "text/plain": [
       "[None, None, None, None, None, None]"
      ]
     },
     "execution_count": 20,
     "metadata": {},
     "output_type": "execute_result"
    }
   ],
   "source": [
    "#Reverse a list (using step)\n",
    "a=[1,2,3,4,5,6]\n",
    "b=a[::-1] #All (start to stop), but step -1 - [6, 5, 4, 3, 2, 1]\n",
    "b=a[::2] #All (start to stop), but step 2 - [1, 3, 5]\n",
    "#b=a.reverse() #not working???\n",
    "b=reversed(a)\n",
    "b\n",
    "[print(i, end='') for i in b]"
   ]
  },
  {
   "cell_type": "code",
   "execution_count": 45,
   "metadata": {},
   "outputs": [
    {
     "name": "stdout",
     "output_type": "stream",
     "text": [
      "2, 3, 5, 7, 11, 13, 17, 19, 23, 29, 31, 37, 41, 43, 47, 53, 59, 61, 67, 71, 73, 79, 83, 89, 97, 101, 103, 107, 109, 113, 127, 131, 137, 139, 149, 151, 157, 163, 167, 173, 179, 181, 191, 193, 197, 199, \n",
      "\n",
      " [2, 3, 5, 7, 11, 13, 17, 19, 23, 29, 31, 37, 41, 43, 47, 53, 59, 61, 67, 71, 73, 79, 83, 89, 97, 101, 103, 107, 109, 113, 127, 131, 137, 139, 149, 151, 157, 163, 167, 173, 179, 181, 191, 193, 197, 199]\n"
     ]
    }
   ],
   "source": [
    "#some nice exercise \n",
    "#prime numbers between 100 and 200\n",
    "\n",
    "numbers = range(2, 200)\n",
    "for num in numbers:\n",
    "    if all([num%i != 0 for i in range(2, num)]):\n",
    "        print(num, end=', ')\n",
    "\n",
    "#list comprehension way\n",
    "primes = [num for num in numbers if all([num%i != 0 for i in range(2, num)])]\n",
    "print('\\n\\n', primes)\n"
   ]
  }
 ],
 "metadata": {
  "kernelspec": {
   "display_name": "Python 3",
   "language": "python",
   "name": "python3"
  },
  "language_info": {
   "codemirror_mode": {
    "name": "ipython",
    "version": 3
   },
   "file_extension": ".py",
   "mimetype": "text/x-python",
   "name": "python",
   "nbconvert_exporter": "python",
   "pygments_lexer": "ipython3",
   "version": "3.7.1"
  }
 },
 "nbformat": 4,
 "nbformat_minor": 2
}
