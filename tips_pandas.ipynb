{
 "cells": [
  {
   "cell_type": "code",
   "execution_count": 107,
   "metadata": {},
   "outputs": [],
   "source": [
    "#imports\n",
    "\n",
    "from datetime import datetime\n",
    "\n",
    "import pandas as pd\n",
    "import numpy as np\n",
    "import matplotlib.pyplot as plt\n",
    "from IPython.core.display import display, HTML #for displaying HTML strings\n"
   ]
  },
  {
   "cell_type": "code",
   "execution_count": 108,
   "metadata": {},
   "outputs": [],
   "source": [
    "def format_df(df, caption=''):\n",
    "    \"\"\"\n",
    "    Format a dataframe nicely\n",
    "    \"\"\"\n",
    "    \n",
    "    import inspect\n",
    "\n",
    "    #to allow full style export to Excel, user apply or applymap (using subset).\n",
    "    #So I try as much as possible to avoid using html selectors: set_table_styles, set_properties, etc\n",
    "    mask_numeric_columns = df.select_dtypes(include=np.number).columns.tolist()  # works like a charm\n",
    "\n",
    "    #more_search_strings = ['Max', 'Min']\n",
    "    if isinstance(df.index, pd.MultiIndex):  # multi index\n",
    "        # if number_levels > 1: #multi index\n",
    "        msk = df.iloc[:, 0].astype(str).str.contains('Total|Max|Min') | df.index.get_level_values(0).astype(str).str.contains('Total|Max|Min')\n",
    "    else:\n",
    "        msk = df.iloc[:, 0].astype(str).str.contains('Total|Max|Min') | df.index.astype(str).str.contains('Total|Max|Min')\n",
    "\n",
    "    # get instances of 'Total' in first column, but after converting column to string in case it is non-str\n",
    "    mask_totals = df.index[msk].tolist()\n",
    "    mask_totals_inverse = df.index[~msk].tolist()\n",
    "\n",
    "    df = df.style\n",
    "\n",
    "    df.format({'Column Total':'${0:,.0f}'})\n",
    "    df.format(precision=0, decimal='.', thousands=',', subset=mask_numeric_columns)\n",
    "    df.set_table_styles([{'selector':'td','props':[('text-align','right'), ('padding-right', '0.5em')]}], overwrite=False)\n",
    "\n",
    "    df.set_table_styles([{'selector':'','props':[('border','4px solid grey !important')]}], overwrite=False) #outer border\n",
    "    df.set_table_styles([{'selector':'td, th','props':[('vertical-align', 'top'), ('width', '100px')]}], overwrite=False)\n",
    "    df.set_table_styles([{'selector':'th, .col_heading, .row_heading, .index_name', 'props':[('background-color', '#E0F5F8'), ('text-align', 'center'), ('padding-right', '0em')]}], overwrite=False)\n",
    "    df.set_table_styles([{'selector':'caption','props':[('font-size', '18px'), ('color', 'red'), ('caption-side', 'top')]}], overwrite=False)\n",
    "\n",
    "    def zeros(val):\n",
    "        return 'opacity: 50%; color: rgb(233, 231, 231);' if val <= 0 else 'opacity: 100%; color: black;'\n",
    "    df.applymap(zeros, subset=mask_numeric_columns)\n",
    "\n",
    "    def highlight_max(s, props=''):\n",
    "        # and s is not a subtotal (not in mask_totals)\n",
    "        return np.where(s == np.nanmax(s.values), props, '')\n",
    "    df.apply(highlight_max, props='color:white;background-color:darkblue', axis=0, subset=pd.IndexSlice[mask_totals_inverse, mask_numeric_columns])  # exclude Totals rows\n",
    "\n",
    "    def highlight_totals(s):\n",
    "        # and s is not a subtotal (not in mask_totals)\n",
    "        return  'background-color: #E0F5F8; border-top: 1px solid black; border-bottom: 1px solid black; font-size: 14px; font-weight: bold; opacity: 100%;'\n",
    "    df.applymap(highlight_totals, subset=pd.IndexSlice[mask_totals, :])\n",
    "\n",
    "    return df"
   ]
  },
  {
   "cell_type": "code",
   "execution_count": 109,
   "metadata": {},
   "outputs": [],
   "source": [
    "def set_plot_layout(report, reports_width, reports_height=700):\n",
    "    \"\"\"\n",
    "    set plot layout for the charts\n",
    "    \"\"\"\n",
    "    \n",
    "    import plotly.graph_objects as go\n",
    "    \n",
    "    # layout setup\n",
    "    report.update_yaxes(automargin=True, visible=True,\n",
    "                        ticks=\"\", showticklabels=True)\n",
    "    report.update_xaxes(automargin=True, visible=True,\n",
    "                        ticks=\"\", showticklabels=True)\n",
    "\n",
    "    report.update_layout(template=\"simple_white\", modebar=dict(\n",
    "        orientation='h'))  # , paper_bgcolor=\"LightSteelBlue\"\n",
    "    report.update_layout(showlegend=False, coloraxis_showscale=False,\n",
    "                         uniformtext_minsize=14, uniformtext_mode='hide')\n",
    "    report.update_annotations(font_size=20, font_color=\"blue\")\n",
    "    report.update_layout(autosize=True, height=reports_height, width=reports_width-50,\n",
    "                         margin=dict(t=30, b=0, pad=0, autoexpand=False))  # , l=0, r=0\n",
    "    report.update_layout(\n",
    "        font=dict(\n",
    "            family=\"Courier New, monospace\",\n",
    "            size=9,\n",
    "            color=\"RebeccaPurple\"\n",
    "        ),\n",
    "        shapes=[\n",
    "            go.layout.Shape(\n",
    "                type='line',\n",
    "                xref='paper',\n",
    "                yref='paper',\n",
    "                x0=0.5,\n",
    "                y0=-0.1,\n",
    "                x1=0.5,\n",
    "                y1=1,\n",
    "                line={'width': 1, 'color': 'black'}\n",
    "            ),\n",
    "        ]\n",
    "    )\n"
   ]
  },
  {
   "cell_type": "code",
   "execution_count": 110,
   "metadata": {},
   "outputs": [],
   "source": [
    "def get_subplots(data):\n",
    "    \"\"\"\n",
    "    get the subplots individually\n",
    "    \"\"\"\n",
    "    \n",
    "    from plotly.subplots import make_subplots\n",
    "    import plotly.graph_objects as go\n",
    "\n",
    "    # int fails to convert a sting if it has a float inside. Solution is to first convert to float\n",
    "    reports_width = 700 #int(float(request.args.get('reportsWidth')))\n",
    "\n",
    "    columns=['AUD', 'GBP', 'EUR', 'NZD', 'USD']\n",
    "\n",
    "    report = make_subplots(rows=1, cols=4,\n",
    "        specs=[ [{\"type\": \"bar\"}, None, {\"type\": \"pie\"},  {\"type\": \"scatter\"}], ],\n",
    "        subplot_titles=(\"Plot1\", \"Plot2\", \"Plot3\" , \"Plot4\", ),\n",
    "        column_widths=[0.5, 0, 0.25, 0.25],\n",
    "        print_grid=False,\n",
    "        shared_xaxes=False,\n",
    "        shared_yaxes=False,\n",
    "        vertical_spacing=0.3,\n",
    "        #horizontal_spacing=0.05,\n",
    "        )\n",
    "\n",
    "    for col in columns:\n",
    "        report.add_trace(\n",
    "            go.Bar(\n",
    "                name='qqq',\n",
    "                y=data[col],\n",
    "                x=data.index.get_level_values(0),\n",
    "                text=\"Click to drill down\",\n",
    "                customdata=['groupedBar'],\n",
    "            ),\n",
    "            row=1, col=1\n",
    "        )\n",
    "\n",
    "    colors = ['green', 'red', 'blue', 'yellow',\n",
    "              'black', 'maroon']  # set colors for slices\n",
    "\n",
    "    report.add_trace(go.Pie(\n",
    "        values=data.mean(axis=0),\n",
    "        labels=data.columns,\n",
    "        hole=0.4,\n",
    "        domain=dict(x=[0, 0.5]),\n",
    "        name=\"\",\n",
    "        textinfo='label',\n",
    "        sort=False,\n",
    "        rotation=-90,\n",
    "        marker=dict(colors=colors),\n",
    "        hoverinfo=\"label+percent+value+text\",\n",
    "        text=[\"Click to drill down\"]*len(data.index),\n",
    "        insidetextorientation='radial',\n",
    "        customdata=['pieDonut1'],\n",
    "    ),\n",
    "        row=1, col=3\n",
    "    )\n",
    "\n",
    "    for col in columns:\n",
    "        report.add_trace(\n",
    "            go.Scatter(\n",
    "                x=data.index,\n",
    "                y=data[col],\n",
    "                mode=\"markers+lines+text\",\n",
    "                showlegend=True,\n",
    "                customdata=['groupedLine'],\n",
    "            ),\n",
    "            row=1, col=4\n",
    "        )\n",
    "\n",
    "    set_plot_layout(report, reports_width, reports_height=100)\n",
    "\n",
    "    return report"
   ]
  },
  {
   "cell_type": "code",
   "execution_count": 111,
   "metadata": {},
   "outputs": [
    {
     "data": {
      "image/png": "[encoded data removed]",
      "text/plain": [
       "<Figure size 432x288 with 1 Axes>"
      ]
     },
     "metadata": {
      "needs_background": "light"
     },
     "output_type": "display_data"
    },
    {
     "data": {
      "image/png": "[encoded data removed]",
      "text/plain": [
       "<Figure size 432x288 with 1 Axes>"
      ]
     },
     "metadata": {
      "needs_background": "light"
     },
     "output_type": "display_data"
    },
    {
     "data": {
      "application/vnd.plotly.v1+json": {
       "config": {
        "plotlyServerURL": "https://plot.ly"
       },
       "data": [
        {
         "customdata": [
          "groupedBar"
         ],
         "name": "qqq",
         "text": "Click to drill down",
         "type": "bar",
         "x": [
          "Mon",
          "Tue",
          "Wed",
          "Thu",
          "Fri",
          "Sat",
          "Sun"
         ],
         "xaxis": "x",
         "y": [
          2464.0362475,
          2479.05546,
          2494.9137283333334,
          5826.97867,
          2475.248678,
          12467.23263,
          2449.9260225
         ],
         "yaxis": "y"
        },
        {
         "customdata": [
          "groupedBar"
         ],
         "name": "qqq",
         "text": "Click to drill down",
         "type": "bar",
         "x": [
          "Mon",
          "Tue",
          "Wed",
          "Thu",
          "Fri",
          "Sat",
          "Sun"
         ],
         "xaxis": "x",
         "y": [
          4699.945305,
          4721.4384725,
          4736.693678333334,
          4725.260153333334,
          4730.0435259999995,
          4732.66542,
          4699.7120700000005
         ],
         "yaxis": "y"
        },
        {
         "customdata": [
          "groupedBar"
         ],
         "name": "qqq",
         "text": "Click to drill down",
         "type": "bar",
         "x": [
          "Mon",
          "Tue",
          "Wed",
          "Thu",
          "Fri",
          "Sat",
          "Sun"
         ],
         "xaxis": "x",
         "y": [
          3910.5757575,
          3941.6336025,
          3949.063063333333,
          3944.269353333333,
          3934.321196,
          3936.32027,
          3908.1464625
         ],
         "yaxis": "y"
        },
        {
         "customdata": [
          "groupedBar"
         ],
         "name": "qqq",
         "text": "Click to drill down",
         "type": "bar",
         "x": [
          "Mon",
          "Tue",
          "Wed",
          "Thu",
          "Fri",
          "Sat",
          "Sun"
         ],
         "xaxis": "x",
         "y": [
          2302.1839325,
          2313.4099,
          2321.8883716666664,
          2331.9191133333334,
          2317.0740140000003,
          2310.4703,
          2292.5633125000004
         ],
         "yaxis": "y"
        },
        {
         "customdata": [
          "groupedBar"
         ],
         "name": "qqq",
         "text": "Click to drill down",
         "type": "bar",
         "x": [
          "Mon",
          "Tue",
          "Wed",
          "Thu",
          "Fri",
          "Sat",
          "Sun"
         ],
         "xaxis": "x",
         "y": [
          3502.452605,
          3513.0388425,
          3501.122691666667,
          3525.6254033333335,
          3530.2833980000005,
          3530.52107,
          3506.4076225
         ],
         "yaxis": "y"
        },
        {
         "customdata": [
          "pieDonut1"
         ],
         "domain": {
          "x": [
           0.525,
           0.7375
          ],
          "y": [
           0,
           1
          ]
         },
         "hole": 0.4,
         "hoverinfo": "label+percent+value+text",
         "insidetextorientation": "radial",
         "labels": [
          "AUD",
          "GBP",
          "EUR",
          "NZD",
          "USD"
         ],
         "marker": {
          "colors": [
           "green",
           "red",
           "blue",
           "yellow",
           "black",
           "maroon"
          ]
         },
         "name": "",
         "rotation": -90,
         "sort": false,
         "text": [
          "Click to drill down",
          "Click to drill down",
          "Click to drill down",
          "Click to drill down",
          "Click to drill down",
          "Click to drill down",
          "Click to drill down"
         ],
         "textinfo": "label",
         "type": "pie",
         "values": [
          4379.627348047619,
          4720.822660738095,
          3932.047100738095,
          2312.786992,
          3515.6359475714285
         ]
        },
        {
         "customdata": [
          "groupedLine"
         ],
         "mode": "markers+lines+text",
         "showlegend": true,
         "type": "scatter",
         "x": [
          "Mon",
          "Tue",
          "Wed",
          "Thu",
          "Fri",
          "Sat",
          "Sun"
         ],
         "xaxis": "x2",
         "y": [
          2464.0362475,
          2479.05546,
          2494.9137283333334,
          5826.97867,
          2475.248678,
          12467.23263,
          2449.9260225
         ],
         "yaxis": "y2"
        },
        {
         "customdata": [
          "groupedLine"
         ],
         "mode": "markers+lines+text",
         "showlegend": true,
         "type": "scatter",
         "x": [
          "Mon",
          "Tue",
          "Wed",
          "Thu",
          "Fri",
          "Sat",
          "Sun"
         ],
         "xaxis": "x2",
         "y": [
          4699.945305,
          4721.4384725,
          4736.693678333334,
          4725.260153333334,
          4730.0435259999995,
          4732.66542,
          4699.7120700000005
         ],
         "yaxis": "y2"
        },
        {
         "customdata": [
          "groupedLine"
         ],
         "mode": "markers+lines+text",
         "showlegend": true,
         "type": "scatter",
         "x": [
          "Mon",
          "Tue",
          "Wed",
          "Thu",
          "Fri",
          "Sat",
          "Sun"
         ],
         "xaxis": "x2",
         "y": [
          3910.5757575,
          3941.6336025,
          3949.063063333333,
          3944.269353333333,
          3934.321196,
          3936.32027,
          3908.1464625
         ],
         "yaxis": "y2"
        },
        {
         "customdata": [
          "groupedLine"
         ],
         "mode": "markers+lines+text",
         "showlegend": true,
         "type": "scatter",
         "x": [
          "Mon",
          "Tue",
          "Wed",
          "Thu",
          "Fri",
          "Sat",
          "Sun"
         ],
         "xaxis": "x2",
         "y": [
          2302.1839325,
          2313.4099,
          2321.8883716666664,
          2331.9191133333334,
          2317.0740140000003,
          2310.4703,
          2292.5633125000004
         ],
         "yaxis": "y2"
        },
        {
         "customdata": [
          "groupedLine"
         ],
         "mode": "markers+lines+text",
         "showlegend": true,
         "type": "scatter",
         "x": [
          "Mon",
          "Tue",
          "Wed",
          "Thu",
          "Fri",
          "Sat",
          "Sun"
         ],
         "xaxis": "x2",
         "y": [
          3502.452605,
          3513.0388425,
          3501.122691666667,
          3525.6254033333335,
          3530.2833980000005,
          3530.52107,
          3506.4076225
         ],
         "yaxis": "y2"
        }
       ],
       "layout": {
        "annotations": [
         {
          "font": {
           "color": "blue",
           "size": 20
          },
          "showarrow": false,
          "text": "Plot1",
          "x": 0.2125,
          "xanchor": "center",
          "xref": "paper",
          "y": 1,
          "yanchor": "bottom",
          "yref": "paper"
         },
         {
          "font": {
           "color": "blue",
           "size": 20
          },
          "showarrow": false,
          "text": "Plot2",
          "x": 0.6312500000000001,
          "xanchor": "center",
          "xref": "paper",
          "y": 1,
          "yanchor": "bottom",
          "yref": "paper"
         },
         {
          "font": {
           "color": "blue",
           "size": 20
          },
          "showarrow": false,
          "text": "Plot3",
          "x": 0.89375,
          "xanchor": "center",
          "xref": "paper",
          "y": 1,
          "yanchor": "bottom",
          "yref": "paper"
         }
        ],
        "autosize": true,
        "coloraxis": {
         "showscale": false
        },
        "font": {
         "color": "RebeccaPurple",
         "family": "Courier New, monospace",
         "size": 9
        },
        "height": 100,
        "margin": {
         "autoexpand": false,
         "b": 0,
         "pad": 0,
         "t": 30
        },
        "modebar": {
         "orientation": "h"
        },
        "shapes": [
         {
          "line": {
           "color": "black",
           "width": 1
          },
          "type": "line",
          "x0": 0.5,
          "x1": 0.5,
          "xref": "paper",
          "y0": -0.1,
          "y1": 1,
          "yref": "paper"
         }
        ],
        "showlegend": false,
        "template": {
         "data": {
          "bar": [
           {
            "error_x": {
             "color": "rgb(36,36,36)"
            },
            "error_y": {
             "color": "rgb(36,36,36)"
            },
            "marker": {
             "line": {
              "color": "white",
              "width": 0.5
             }
            },
            "type": "bar"
           }
          ],
          "barpolar": [
           {
            "marker": {
             "line": {
              "color": "white",
              "width": 0.5
             }
            },
            "type": "barpolar"
           }
          ],
          "carpet": [
           {
            "aaxis": {
             "endlinecolor": "rgb(36,36,36)",
             "gridcolor": "white",
             "linecolor": "white",
             "minorgridcolor": "white",
             "startlinecolor": "rgb(36,36,36)"
            },
            "baxis": {
             "endlinecolor": "rgb(36,36,36)",
             "gridcolor": "white",
             "linecolor": "white",
             "minorgridcolor": "white",
             "startlinecolor": "rgb(36,36,36)"
            },
            "type": "carpet"
           }
          ],
          "choropleth": [
           {
            "colorbar": {
             "outlinewidth": 1,
             "tickcolor": "rgb(36,36,36)",
             "ticks": "outside"
            },
            "type": "choropleth"
           }
          ],
          "contour": [
           {
            "colorbar": {
             "outlinewidth": 1,
             "tickcolor": "rgb(36,36,36)",
             "ticks": "outside"
            },
            "colorscale": [
             [
              0,
              "#440154"
             ],
             [
              0.1111111111111111,
              "#482878"
             ],
             [
              0.2222222222222222,
              "#3e4989"
             ],
             [
              0.3333333333333333,
              "#31688e"
             ],
             [
              0.4444444444444444,
              "#26828e"
             ],
             [
              0.5555555555555556,
              "#1f9e89"
             ],
             [
              0.6666666666666666,
              "#35b779"
             ],
             [
              0.7777777777777778,
              "#6ece58"
             ],
             [
              0.8888888888888888,
              "#b5de2b"
             ],
             [
              1,
              "#fde725"
             ]
            ],
            "type": "contour"
           }
          ],
          "contourcarpet": [
           {
            "colorbar": {
             "outlinewidth": 1,
             "tickcolor": "rgb(36,36,36)",
             "ticks": "outside"
            },
            "type": "contourcarpet"
           }
          ],
          "heatmap": [
           {
            "colorbar": {
             "outlinewidth": 1,
             "tickcolor": "rgb(36,36,36)",
             "ticks": "outside"
            },
            "colorscale": [
             [
              0,
              "#440154"
             ],
             [
              0.1111111111111111,
              "#482878"
             ],
             [
              0.2222222222222222,
              "#3e4989"
             ],
             [
              0.3333333333333333,
              "#31688e"
             ],
             [
              0.4444444444444444,
              "#26828e"
             ],
             [
              0.5555555555555556,
              "#1f9e89"
             ],
             [
              0.6666666666666666,
              "#35b779"
             ],
             [
              0.7777777777777778,
              "#6ece58"
             ],
             [
              0.8888888888888888,
              "#b5de2b"
             ],
             [
              1,
              "#fde725"
             ]
            ],
            "type": "heatmap"
           }
          ],
          "heatmapgl": [
           {
            "colorbar": {
             "outlinewidth": 1,
             "tickcolor": "rgb(36,36,36)",
             "ticks": "outside"
            },
            "colorscale": [
             [
              0,
              "#440154"
             ],
             [
              0.1111111111111111,
              "#482878"
             ],
             [
              0.2222222222222222,
              "#3e4989"
             ],
             [
              0.3333333333333333,
              "#31688e"
             ],
             [
              0.4444444444444444,
              "#26828e"
             ],
             [
              0.5555555555555556,
              "#1f9e89"
             ],
             [
              0.6666666666666666,
              "#35b779"
             ],
             [
              0.7777777777777778,
              "#6ece58"
             ],
             [
              0.8888888888888888,
              "#b5de2b"
             ],
             [
              1,
              "#fde725"
             ]
            ],
            "type": "heatmapgl"
           }
          ],
          "histogram": [
           {
            "marker": {
             "line": {
              "color": "white",
              "width": 0.6
             }
            },
            "type": "histogram"
           }
          ],
          "histogram2d": [
           {
            "colorbar": {
             "outlinewidth": 1,
             "tickcolor": "rgb(36,36,36)",
             "ticks": "outside"
            },
            "colorscale": [
             [
              0,
              "#440154"
             ],
             [
              0.1111111111111111,
              "#482878"
             ],
             [
              0.2222222222222222,
              "#3e4989"
             ],
             [
              0.3333333333333333,
              "#31688e"
             ],
             [
              0.4444444444444444,
              "#26828e"
             ],
             [
              0.5555555555555556,
              "#1f9e89"
             ],
             [
              0.6666666666666666,
              "#35b779"
             ],
             [
              0.7777777777777778,
              "#6ece58"
             ],
             [
              0.8888888888888888,
              "#b5de2b"
             ],
             [
              1,
              "#fde725"
             ]
            ],
            "type": "histogram2d"
           }
          ],
          "histogram2dcontour": [
           {
            "colorbar": {
             "outlinewidth": 1,
             "tickcolor": "rgb(36,36,36)",
             "ticks": "outside"
            },
            "colorscale": [
             [
              0,
              "#440154"
             ],
             [
              0.1111111111111111,
              "#482878"
             ],
             [
              0.2222222222222222,
              "#3e4989"
             ],
             [
              0.3333333333333333,
              "#31688e"
             ],
             [
              0.4444444444444444,
              "#26828e"
             ],
             [
              0.5555555555555556,
              "#1f9e89"
             ],
             [
              0.6666666666666666,
              "#35b779"
             ],
             [
              0.7777777777777778,
              "#6ece58"
             ],
             [
              0.8888888888888888,
              "#b5de2b"
             ],
             [
              1,
              "#fde725"
             ]
            ],
            "type": "histogram2dcontour"
           }
          ],
          "mesh3d": [
           {
            "colorbar": {
             "outlinewidth": 1,
             "tickcolor": "rgb(36,36,36)",
             "ticks": "outside"
            },
            "type": "mesh3d"
           }
          ],
          "parcoords": [
           {
            "line": {
             "colorbar": {
              "outlinewidth": 1,
              "tickcolor": "rgb(36,36,36)",
              "ticks": "outside"
             }
            },
            "type": "parcoords"
           }
          ],
          "pie": [
           {
            "automargin": true,
            "type": "pie"
           }
          ],
          "scatter": [
           {
            "marker": {
             "colorbar": {
              "outlinewidth": 1,
              "tickcolor": "rgb(36,36,36)",
              "ticks": "outside"
             }
            },
            "type": "scatter"
           }
          ],
          "scatter3d": [
           {
            "line": {
             "colorbar": {
              "outlinewidth": 1,
              "tickcolor": "rgb(36,36,36)",
              "ticks": "outside"
             }
            },
            "marker": {
             "colorbar": {
              "outlinewidth": 1,
              "tickcolor": "rgb(36,36,36)",
              "ticks": "outside"
             }
            },
            "type": "scatter3d"
           }
          ],
          "scattercarpet": [
           {
            "marker": {
             "colorbar": {
              "outlinewidth": 1,
              "tickcolor": "rgb(36,36,36)",
              "ticks": "outside"
             }
            },
            "type": "scattercarpet"
           }
          ],
          "scattergeo": [
           {
            "marker": {
             "colorbar": {
              "outlinewidth": 1,
              "tickcolor": "rgb(36,36,36)",
              "ticks": "outside"
             }
            },
            "type": "scattergeo"
           }
          ],
          "scattergl": [
           {
            "marker": {
             "colorbar": {
              "outlinewidth": 1,
              "tickcolor": "rgb(36,36,36)",
              "ticks": "outside"
             }
            },
            "type": "scattergl"
           }
          ],
          "scattermapbox": [
           {
            "marker": {
             "colorbar": {
              "outlinewidth": 1,
              "tickcolor": "rgb(36,36,36)",
              "ticks": "outside"
             }
            },
            "type": "scattermapbox"
           }
          ],
          "scatterpolar": [
           {
            "marker": {
             "colorbar": {
              "outlinewidth": 1,
              "tickcolor": "rgb(36,36,36)",
              "ticks": "outside"
             }
            },
            "type": "scatterpolar"
           }
          ],
          "scatterpolargl": [
           {
            "marker": {
             "colorbar": {
              "outlinewidth": 1,
              "tickcolor": "rgb(36,36,36)",
              "ticks": "outside"
             }
            },
            "type": "scatterpolargl"
           }
          ],
          "scatterternary": [
           {
            "marker": {
             "colorbar": {
              "outlinewidth": 1,
              "tickcolor": "rgb(36,36,36)",
              "ticks": "outside"
             }
            },
            "type": "scatterternary"
           }
          ],
          "surface": [
           {
            "colorbar": {
             "outlinewidth": 1,
             "tickcolor": "rgb(36,36,36)",
             "ticks": "outside"
            },
            "colorscale": [
             [
              0,
              "#440154"
             ],
             [
              0.1111111111111111,
              "#482878"
             ],
             [
              0.2222222222222222,
              "#3e4989"
             ],
             [
              0.3333333333333333,
              "#31688e"
             ],
             [
              0.4444444444444444,
              "#26828e"
             ],
             [
              0.5555555555555556,
              "#1f9e89"
             ],
             [
              0.6666666666666666,
              "#35b779"
             ],
             [
              0.7777777777777778,
              "#6ece58"
             ],
             [
              0.8888888888888888,
              "#b5de2b"
             ],
             [
              1,
              "#fde725"
             ]
            ],
            "type": "surface"
           }
          ],
          "table": [
           {
            "cells": {
             "fill": {
              "color": "rgb(237,237,237)"
             },
             "line": {
              "color": "white"
             }
            },
            "header": {
             "fill": {
              "color": "rgb(217,217,217)"
             },
             "line": {
              "color": "white"
             }
            },
            "type": "table"
           }
          ]
         },
         "layout": {
          "annotationdefaults": {
           "arrowhead": 0,
           "arrowwidth": 1
          },
          "autotypenumbers": "strict",
          "coloraxis": {
           "colorbar": {
            "outlinewidth": 1,
            "tickcolor": "rgb(36,36,36)",
            "ticks": "outside"
           }
          },
          "colorscale": {
           "diverging": [
            [
             0,
             "rgb(103,0,31)"
            ],
            [
             0.1,
             "rgb(178,24,43)"
            ],
            [
             0.2,
             "rgb(214,96,77)"
            ],
            [
             0.3,
             "rgb(244,165,130)"
            ],
            [
             0.4,
             "rgb(253,219,199)"
            ],
            [
             0.5,
             "rgb(247,247,247)"
            ],
            [
             0.6,
             "rgb(209,229,240)"
            ],
            [
             0.7,
             "rgb(146,197,222)"
            ],
            [
             0.8,
             "rgb(67,147,195)"
            ],
            [
             0.9,
             "rgb(33,102,172)"
            ],
            [
             1,
             "rgb(5,48,97)"
            ]
           ],
           "sequential": [
            [
             0,
             "#440154"
            ],
            [
             0.1111111111111111,
             "#482878"
            ],
            [
             0.2222222222222222,
             "#3e4989"
            ],
            [
             0.3333333333333333,
             "#31688e"
            ],
            [
             0.4444444444444444,
             "#26828e"
            ],
            [
             0.5555555555555556,
             "#1f9e89"
            ],
            [
             0.6666666666666666,
             "#35b779"
            ],
            [
             0.7777777777777778,
             "#6ece58"
            ],
            [
             0.8888888888888888,
             "#b5de2b"
            ],
            [
             1,
             "#fde725"
            ]
           ],
           "sequentialminus": [
            [
             0,
             "#440154"
            ],
            [
             0.1111111111111111,
             "#482878"
            ],
            [
             0.2222222222222222,
             "#3e4989"
            ],
            [
             0.3333333333333333,
             "#31688e"
            ],
            [
             0.4444444444444444,
             "#26828e"
            ],
            [
             0.5555555555555556,
             "#1f9e89"
            ],
            [
             0.6666666666666666,
             "#35b779"
            ],
            [
             0.7777777777777778,
             "#6ece58"
            ],
            [
             0.8888888888888888,
             "#b5de2b"
            ],
            [
             1,
             "#fde725"
            ]
           ]
          },
          "colorway": [
           "#1F77B4",
           "#FF7F0E",
           "#2CA02C",
           "#D62728",
           "#9467BD",
           "#8C564B",
           "#E377C2",
           "#7F7F7F",
           "#BCBD22",
           "#17BECF"
          ],
          "font": {
           "color": "rgb(36,36,36)"
          },
          "geo": {
           "bgcolor": "white",
           "lakecolor": "white",
           "landcolor": "white",
           "showlakes": true,
           "showland": true,
           "subunitcolor": "white"
          },
          "hoverlabel": {
           "align": "left"
          },
          "hovermode": "closest",
          "mapbox": {
           "style": "light"
          },
          "paper_bgcolor": "white",
          "plot_bgcolor": "white",
          "polar": {
           "angularaxis": {
            "gridcolor": "rgb(232,232,232)",
            "linecolor": "rgb(36,36,36)",
            "showgrid": false,
            "showline": true,
            "ticks": "outside"
           },
           "bgcolor": "white",
           "radialaxis": {
            "gridcolor": "rgb(232,232,232)",
            "linecolor": "rgb(36,36,36)",
            "showgrid": false,
            "showline": true,
            "ticks": "outside"
           }
          },
          "scene": {
           "xaxis": {
            "backgroundcolor": "white",
            "gridcolor": "rgb(232,232,232)",
            "gridwidth": 2,
            "linecolor": "rgb(36,36,36)",
            "showbackground": true,
            "showgrid": false,
            "showline": true,
            "ticks": "outside",
            "zeroline": false,
            "zerolinecolor": "rgb(36,36,36)"
           },
           "yaxis": {
            "backgroundcolor": "white",
            "gridcolor": "rgb(232,232,232)",
            "gridwidth": 2,
            "linecolor": "rgb(36,36,36)",
            "showbackground": true,
            "showgrid": false,
            "showline": true,
            "ticks": "outside",
            "zeroline": false,
            "zerolinecolor": "rgb(36,36,36)"
           },
           "zaxis": {
            "backgroundcolor": "white",
            "gridcolor": "rgb(232,232,232)",
            "gridwidth": 2,
            "linecolor": "rgb(36,36,36)",
            "showbackground": true,
            "showgrid": false,
            "showline": true,
            "ticks": "outside",
            "zeroline": false,
            "zerolinecolor": "rgb(36,36,36)"
           }
          },
          "shapedefaults": {
           "fillcolor": "black",
           "line": {
            "width": 0
           },
           "opacity": 0.3
          },
          "ternary": {
           "aaxis": {
            "gridcolor": "rgb(232,232,232)",
            "linecolor": "rgb(36,36,36)",
            "showgrid": false,
            "showline": true,
            "ticks": "outside"
           },
           "baxis": {
            "gridcolor": "rgb(232,232,232)",
            "linecolor": "rgb(36,36,36)",
            "showgrid": false,
            "showline": true,
            "ticks": "outside"
           },
           "bgcolor": "white",
           "caxis": {
            "gridcolor": "rgb(232,232,232)",
            "linecolor": "rgb(36,36,36)",
            "showgrid": false,
            "showline": true,
            "ticks": "outside"
           }
          },
          "title": {
           "x": 0.05
          },
          "xaxis": {
           "automargin": true,
           "gridcolor": "rgb(232,232,232)",
           "linecolor": "rgb(36,36,36)",
           "showgrid": false,
           "showline": true,
           "ticks": "outside",
           "title": {
            "standoff": 15
           },
           "zeroline": false,
           "zerolinecolor": "rgb(36,36,36)"
          },
          "yaxis": {
           "automargin": true,
           "gridcolor": "rgb(232,232,232)",
           "linecolor": "rgb(36,36,36)",
           "showgrid": false,
           "showline": true,
           "ticks": "outside",
           "title": {
            "standoff": 15
           },
           "zeroline": false,
           "zerolinecolor": "rgb(36,36,36)"
          }
         }
        },
        "uniformtext": {
         "minsize": 14,
         "mode": "hide"
        },
        "width": 650,
        "xaxis": {
         "anchor": "y",
         "automargin": true,
         "domain": [
          0,
          0.425
         ],
         "showticklabels": true,
         "ticks": "",
         "visible": true
        },
        "xaxis2": {
         "anchor": "y2",
         "automargin": true,
         "domain": [
          0.7875,
          1
         ],
         "showticklabels": true,
         "ticks": "",
         "visible": true
        },
        "yaxis": {
         "anchor": "x",
         "automargin": true,
         "domain": [
          0,
          1
         ],
         "showticklabels": true,
         "ticks": "",
         "visible": true
        },
        "yaxis2": {
         "anchor": "x2",
         "automargin": true,
         "domain": [
          0,
          1
         ],
         "showticklabels": true,
         "ticks": "",
         "visible": true
        }
       }
      }
     },
     "metadata": {},
     "output_type": "display_data"
    },
    {
     "data": {
      "text/plain": [
       "<Figure size 432x288 with 0 Axes>"
      ]
     },
     "metadata": {},
     "output_type": "display_data"
    }
   ],
   "source": [
    "def exchange_rate():\n",
    "    \"\"\"\n",
    "    Analye Exchange Rate Logs as a report.\n",
    "    This data is got from scraping the web on a schedule by Celery (using my Flask application), and saving it in a text file.\n",
    "    In this function, I simply read from the text file. In my main Flask app, the reports/charts are additionally displayed in an iFrame on the web page.\n",
    "    \"\"\"\n",
    "\n",
    "    now = datetime.now()\n",
    "    \n",
    "    data = pd.read_csv('static/downloads/exchange-rates.txt', header=None)\n",
    "    data.columns=['AUD', 'GBP', 'EUR', 'NZD', 'USD']\n",
    "\n",
    "    data['Dates'] = data['AUD'] #.apply(lambda s: s.split(':')[0])\n",
    "    data.set_index('Dates', inplace=True, drop=True)\n",
    "    data = data.applymap(lambda s: s.split('(')[1].split(')')[0]) #(lambda s: s.str.upper().split(':')[0])\n",
    "\n",
    "    raw_data = data.copy().reset_index()\n",
    "    raw_data['Dates'] =  raw_data['Dates'].map(lambda s: s.split(':')[0])\n",
    "    raw_data = format_df(raw_data.sort_values(by=['Dates']), caption='Raw Data')\n",
    "\n",
    "    data.index = data.index.map(lambda s: s.split(':')[0]) #the -5 removes time element\n",
    "    data.index = pd.to_datetime(data.index)\n",
    "    data = data.apply(pd.to_numeric)\n",
    "    #data.describe()\n",
    "    data.index.dtype\n",
    "\n",
    "    start_date = datetime(2021, 1, 28)\n",
    "    end_date = datetime(2023, 1, 28)\n",
    "    data = data.loc[(data.index >= start_date) & (data.index <= end_date)]\n",
    "    data=data.drop_duplicates(['AUD', 'GBP'], keep='last')\n",
    "\n",
    "    #drop rows with duplicated index (dates)\n",
    "    data = data[~data.index.duplicated(keep='first')]\n",
    "\n",
    "    #get weekday index - change index to weekday\n",
    "    data.sort_index(key=lambda x: x.weekday, ascending=True, inplace=True)\n",
    "    data.index = data.index.strftime('%a')  # weekday - A or a,  month - B or b,\n",
    "\n",
    "    #group by index column\n",
    "    data = data.groupby(['Dates'], sort = False).mean()\n",
    "\n",
    "    sub_plots = get_subplots(data) #using plotly go (graph objects)\n",
    "\n",
    "    fig1 = data.plot(kind='line')\n",
    "    fig2 = data.plot(kind='bar')\n",
    "\n",
    "    plt.show()\n",
    "\n",
    "    data = format_df(data, caption='Processed Data') #doesnt work if there are duplicates, i.e. if rows with duplicated index (dates) were not dropped above\n",
    "\n",
    "    #display(HTML(aHtml))\n",
    "    sub_plots.show()\n",
    "    plt.clf() #clear\n",
    "    #plt.cla() #clear\n",
    "\n",
    "exchange_rate() \n"
   ]
  },
  {
   "cell_type": "code",
   "execution_count": 112,
   "metadata": {},
   "outputs": [],
   "source": [
    "def read_telephone_logs():\n",
    "\n",
    "    import pandas as pd\n",
    "    na_values = ['None']\n",
    "    df_kampala = pd.read_csv('D:/Temp/kampala_calls.csv', na_values=na_values, dtype={'pin_code': str, 'src': str, 'dest': str})\n",
    "    df_nairobi = pd.read_csv('D:/Temp/nairobi_calls.csv', na_values=na_values, dtype={'pin_code': str, 'src': str, 'dest': str})\n",
    "\n",
    "    df_kampala['site'] = 'KAMPALA'\n",
    "    df_nairobi['site'] = 'NAIROBI'\n",
    "\n",
    "    df_calls = pd.concat([df_kampala, df_nairobi], keys=['KAMPALA', 'NAIROBI'])\n",
    "\n",
    "    df_users = pd.read_csv('D:/Temp/people.csv', usecols=['pin_code', 'department', 'call_limit'], na_values=na_values, dtype={'pin_code': str})\n",
    "    df_users.loc[df_users['department'] != 'Training', 'department'] = 'Sales'\n",
    "    df_users.describe(include='all')\n",
    "\n",
    "    df_raw = pd.merge(df_calls, df_users, on='pin_code')\n",
    "\n",
    "    #filtration\n",
    "    not_null_pin_code = df_raw['pin_code'].notna()\n",
    "    status_answered = df_raw['status']=='ANSWERED'\n",
    "    df_raw = df_raw.loc[not_null_pin_code & status_answered]\n",
    "\n",
    "    df_raw.loc[:4, ['calldate', 'duration']]\n",
    "\n",
    "    return df_raw"
   ]
  },
  {
   "cell_type": "code",
   "execution_count": 113,
   "metadata": {},
   "outputs": [
    {
     "data": {
      "image/png": "[encoded data removed]",
      "text/plain": [
       "<Figure size 432x288 with 1 Axes>"
      ]
     },
     "metadata": {
      "needs_background": "light"
     },
     "output_type": "display_data"
    },
    {
     "data": {
      "text/html": [
       "<style type=\"text/css\">\n",
       "#T_45e2d_ td {\n",
       "  text-align: right;\n",
       "  padding-right: 0.5em;\n",
       "}\n",
       "#T_45e2d_  {\n",
       "  border: 4px solid grey !important;\n",
       "}\n",
       "#T_45e2d_ td {\n",
       "  vertical-align: top;\n",
       "  width: 100px;\n",
       "}\n",
       "#T_45e2d_  th {\n",
       "  vertical-align: top;\n",
       "  width: 100px;\n",
       "}\n",
       "#T_45e2d_ th {\n",
       "  background-color: #E0F5F8;\n",
       "  text-align: center;\n",
       "  padding-right: 0em;\n",
       "}\n",
       "#T_45e2d_  .col_heading {\n",
       "  background-color: #E0F5F8;\n",
       "  text-align: center;\n",
       "  padding-right: 0em;\n",
       "}\n",
       "#T_45e2d_  .row_heading {\n",
       "  background-color: #E0F5F8;\n",
       "  text-align: center;\n",
       "  padding-right: 0em;\n",
       "}\n",
       "#T_45e2d_  .index_name {\n",
       "  background-color: #E0F5F8;\n",
       "  text-align: center;\n",
       "  padding-right: 0em;\n",
       "}\n",
       "#T_45e2d_ caption {\n",
       "  font-size: 18px;\n",
       "  color: red;\n",
       "  caption-side: top;\n",
       "}\n",
       "#T_45e2d_row0_col0, #T_45e2d_row0_col1, #T_45e2d_row0_col2, #T_45e2d_row0_col3 {\n",
       "  opacity: 100%;\n",
       "  color: black;\n",
       "  color: white;\n",
       "  background-color: darkblue;\n",
       "}\n",
       "#T_45e2d_row1_col0, #T_45e2d_row1_col1 {\n",
       "  opacity: 50%;\n",
       "  color: rgb(233, 231, 231);\n",
       "}\n",
       "#T_45e2d_row1_col2, #T_45e2d_row1_col3 {\n",
       "  opacity: 100%;\n",
       "  color: black;\n",
       "}\n",
       "</style>\n",
       "<table id=\"T_45e2d_\">\n",
       "  <thead>\n",
       "    <tr>\n",
       "      <th class=\"index_name level0\" >weekdayname</th>\n",
       "      <th class=\"col_heading level0 col0\" >Sat</th>\n",
       "      <th class=\"col_heading level0 col1\" >Sun</th>\n",
       "      <th class=\"col_heading level0 col2\" >Sat</th>\n",
       "      <th class=\"col_heading level0 col3\" >Sun</th>\n",
       "    </tr>\n",
       "    <tr>\n",
       "      <th class=\"index_name level1\" >site</th>\n",
       "      <th class=\"col_heading level1 col0\" >KAMPALA</th>\n",
       "      <th class=\"col_heading level1 col1\" >KAMPALA</th>\n",
       "      <th class=\"col_heading level1 col2\" >NAIROBI</th>\n",
       "      <th class=\"col_heading level1 col3\" >NAIROBI</th>\n",
       "    </tr>\n",
       "    <tr>\n",
       "      <th class=\"index_name level0\" >department</th>\n",
       "      <th class=\"blank col0\" >&nbsp;</th>\n",
       "      <th class=\"blank col1\" >&nbsp;</th>\n",
       "      <th class=\"blank col2\" >&nbsp;</th>\n",
       "      <th class=\"blank col3\" >&nbsp;</th>\n",
       "    </tr>\n",
       "  </thead>\n",
       "  <tbody>\n",
       "    <tr>\n",
       "      <th id=\"T_45e2d_level0_row0\" class=\"row_heading level0 row0\" >Sales</th>\n",
       "      <td id=\"T_45e2d_row0_col0\" class=\"data row0 col0\" >143,285</td>\n",
       "      <td id=\"T_45e2d_row0_col1\" class=\"data row0 col1\" >47,259</td>\n",
       "      <td id=\"T_45e2d_row0_col2\" class=\"data row0 col2\" >389,009</td>\n",
       "      <td id=\"T_45e2d_row0_col3\" class=\"data row0 col3\" >46,656</td>\n",
       "    </tr>\n",
       "    <tr>\n",
       "      <th id=\"T_45e2d_level0_row1\" class=\"row_heading level0 row1\" >Training</th>\n",
       "      <td id=\"T_45e2d_row1_col0\" class=\"data row1 col0\" >0</td>\n",
       "      <td id=\"T_45e2d_row1_col1\" class=\"data row1 col1\" >0</td>\n",
       "      <td id=\"T_45e2d_row1_col2\" class=\"data row1 col2\" >175,668</td>\n",
       "      <td id=\"T_45e2d_row1_col3\" class=\"data row1 col3\" >37,132</td>\n",
       "    </tr>\n",
       "  </tbody>\n",
       "</table>\n"
      ],
      "text/plain": [
       "<IPython.core.display.HTML object>"
      ]
     },
     "metadata": {},
     "output_type": "display_data"
    },
    {
     "data": {
      "text/html": [
       "<style type=\"text/css\">\n",
       "#T_10d75_ td {\n",
       "  text-align: right;\n",
       "  padding-right: 0.5em;\n",
       "}\n",
       "#T_10d75_  {\n",
       "  border: 4px solid grey !important;\n",
       "}\n",
       "#T_10d75_ td {\n",
       "  vertical-align: top;\n",
       "  width: 100px;\n",
       "}\n",
       "#T_10d75_  th {\n",
       "  vertical-align: top;\n",
       "  width: 100px;\n",
       "}\n",
       "#T_10d75_ th {\n",
       "  background-color: #E0F5F8;\n",
       "  text-align: center;\n",
       "  padding-right: 0em;\n",
       "}\n",
       "#T_10d75_  .col_heading {\n",
       "  background-color: #E0F5F8;\n",
       "  text-align: center;\n",
       "  padding-right: 0em;\n",
       "}\n",
       "#T_10d75_  .row_heading {\n",
       "  background-color: #E0F5F8;\n",
       "  text-align: center;\n",
       "  padding-right: 0em;\n",
       "}\n",
       "#T_10d75_  .index_name {\n",
       "  background-color: #E0F5F8;\n",
       "  text-align: center;\n",
       "  padding-right: 0em;\n",
       "}\n",
       "#T_10d75_ caption {\n",
       "  font-size: 18px;\n",
       "  color: red;\n",
       "  caption-side: top;\n",
       "}\n",
       "#T_10d75_row0_col0, #T_10d75_row0_col2, #T_10d75_row0_col4, #T_10d75_row0_col5, #T_10d75_row1_col0, #T_10d75_row1_col2, #T_10d75_row1_col4, #T_10d75_row1_col5, #T_10d75_row2_col0, #T_10d75_row2_col2, #T_10d75_row2_col4, #T_10d75_row3_col0, #T_10d75_row3_col4, #T_10d75_row4_col0, #T_10d75_row4_col2, #T_10d75_row4_col4, #T_10d75_row4_col5, #T_10d75_row5_col0, #T_10d75_row5_col2, #T_10d75_row5_col4, #T_10d75_row5_col5, #T_10d75_row6_col0, #T_10d75_row6_col2, #T_10d75_row6_col4, #T_10d75_row6_col5, #T_10d75_row7_col0, #T_10d75_row7_col2, #T_10d75_row7_col4, #T_10d75_row7_col5, #T_10d75_row8_col0, #T_10d75_row8_col2, #T_10d75_row9_col2, #T_10d75_row9_col4, #T_10d75_row9_col5 {\n",
       "  opacity: 100%;\n",
       "  color: black;\n",
       "}\n",
       "#T_10d75_row0_col9, #T_10d75_row1_col9, #T_10d75_row2_col5, #T_10d75_row2_col9, #T_10d75_row3_col2, #T_10d75_row3_col5, #T_10d75_row3_col9, #T_10d75_row4_col9, #T_10d75_row5_col9, #T_10d75_row6_col9, #T_10d75_row7_col9, #T_10d75_row8_col4, #T_10d75_row8_col9, #T_10d75_row9_col0, #T_10d75_row9_col9 {\n",
       "  opacity: 100%;\n",
       "  color: black;\n",
       "  color: white;\n",
       "  background-color: darkblue;\n",
       "}\n",
       "#T_10d75_row8_col5 {\n",
       "  opacity: 50%;\n",
       "  color: rgb(233, 231, 231);\n",
       "}\n",
       "</style>\n",
       "<table id=\"T_10d75_\">\n",
       "  <thead>\n",
       "    <tr>\n",
       "      <th class=\"blank level0\" >&nbsp;</th>\n",
       "      <th class=\"col_heading level0 col0\" >id</th>\n",
       "      <th class=\"col_heading level0 col1\" >calldate</th>\n",
       "      <th class=\"col_heading level0 col2\" >duration</th>\n",
       "      <th class=\"col_heading level0 col3\" >telco</th>\n",
       "      <th class=\"col_heading level0 col4\" >country_tel_code</th>\n",
       "      <th class=\"col_heading level0 col5\" >rate</th>\n",
       "      <th class=\"col_heading level0 col6\" >status</th>\n",
       "      <th class=\"col_heading level0 col7\" >site</th>\n",
       "      <th class=\"col_heading level0 col8\" >department</th>\n",
       "      <th class=\"col_heading level0 col9\" >call_limit</th>\n",
       "    </tr>\n",
       "  </thead>\n",
       "  <tbody>\n",
       "    <tr>\n",
       "      <th id=\"T_10d75_level0_row0\" class=\"row_heading level0 row0\" >0</th>\n",
       "      <td id=\"T_10d75_row0_col0\" class=\"data row0 col0\" >1,513,924</td>\n",
       "      <td id=\"T_10d75_row0_col1\" class=\"data row0 col1\" >2016-03-17 11:04:16</td>\n",
       "      <td id=\"T_10d75_row0_col2\" class=\"data row0 col2\" >60</td>\n",
       "      <td id=\"T_10d75_row0_col3\" class=\"data row0 col3\" ></td>\n",
       "      <td id=\"T_10d75_row0_col4\" class=\"data row0 col4\" >78</td>\n",
       "      <td id=\"T_10d75_row0_col5\" class=\"data row0 col5\" >264</td>\n",
       "      <td id=\"T_10d75_row0_col6\" class=\"data row0 col6\" >ANSWERED</td>\n",
       "      <td id=\"T_10d75_row0_col7\" class=\"data row0 col7\" >KAMPALA</td>\n",
       "      <td id=\"T_10d75_row0_col8\" class=\"data row0 col8\" >Sales</td>\n",
       "      <td id=\"T_10d75_row0_col9\" class=\"data row0 col9\" >20,000</td>\n",
       "    </tr>\n",
       "    <tr>\n",
       "      <th id=\"T_10d75_level0_row1\" class=\"row_heading level0 row1\" >2</th>\n",
       "      <td id=\"T_10d75_row1_col0\" class=\"data row1 col0\" >1,513,941</td>\n",
       "      <td id=\"T_10d75_row1_col1\" class=\"data row1 col1\" >2016-03-17 12:30:16</td>\n",
       "      <td id=\"T_10d75_row1_col2\" class=\"data row1 col2\" >13</td>\n",
       "      <td id=\"T_10d75_row1_col3\" class=\"data row1 col3\" ></td>\n",
       "      <td id=\"T_10d75_row1_col4\" class=\"data row1 col4\" >77</td>\n",
       "      <td id=\"T_10d75_row1_col5\" class=\"data row1 col5\" >264</td>\n",
       "      <td id=\"T_10d75_row1_col6\" class=\"data row1 col6\" >ANSWERED</td>\n",
       "      <td id=\"T_10d75_row1_col7\" class=\"data row1 col7\" >KAMPALA</td>\n",
       "      <td id=\"T_10d75_row1_col8\" class=\"data row1 col8\" >Sales</td>\n",
       "      <td id=\"T_10d75_row1_col9\" class=\"data row1 col9\" >20,000</td>\n",
       "    </tr>\n",
       "    <tr>\n",
       "      <th id=\"T_10d75_level0_row2\" class=\"row_heading level0 row2\" >4</th>\n",
       "      <td id=\"T_10d75_row2_col0\" class=\"data row2 col0\" >1,513,944</td>\n",
       "      <td id=\"T_10d75_row2_col1\" class=\"data row2 col1\" >2016-03-17 12:38:38</td>\n",
       "      <td id=\"T_10d75_row2_col2\" class=\"data row2 col2\" >11</td>\n",
       "      <td id=\"T_10d75_row2_col3\" class=\"data row2 col3\" ></td>\n",
       "      <td id=\"T_10d75_row2_col4\" class=\"data row2 col4\" >70</td>\n",
       "      <td id=\"T_10d75_row2_col5\" class=\"data row2 col5\" >298</td>\n",
       "      <td id=\"T_10d75_row2_col6\" class=\"data row2 col6\" >ANSWERED</td>\n",
       "      <td id=\"T_10d75_row2_col7\" class=\"data row2 col7\" >KAMPALA</td>\n",
       "      <td id=\"T_10d75_row2_col8\" class=\"data row2 col8\" >Sales</td>\n",
       "      <td id=\"T_10d75_row2_col9\" class=\"data row2 col9\" >20,000</td>\n",
       "    </tr>\n",
       "    <tr>\n",
       "      <th id=\"T_10d75_level0_row3\" class=\"row_heading level0 row3\" >5</th>\n",
       "      <td id=\"T_10d75_row3_col0\" class=\"data row3 col0\" >1,513,945</td>\n",
       "      <td id=\"T_10d75_row3_col1\" class=\"data row3 col1\" >2016-03-17 12:44:40</td>\n",
       "      <td id=\"T_10d75_row3_col2\" class=\"data row3 col2\" >329</td>\n",
       "      <td id=\"T_10d75_row3_col3\" class=\"data row3 col3\" ></td>\n",
       "      <td id=\"T_10d75_row3_col4\" class=\"data row3 col4\" >70</td>\n",
       "      <td id=\"T_10d75_row3_col5\" class=\"data row3 col5\" >298</td>\n",
       "      <td id=\"T_10d75_row3_col6\" class=\"data row3 col6\" >ANSWERED</td>\n",
       "      <td id=\"T_10d75_row3_col7\" class=\"data row3 col7\" >KAMPALA</td>\n",
       "      <td id=\"T_10d75_row3_col8\" class=\"data row3 col8\" >Sales</td>\n",
       "      <td id=\"T_10d75_row3_col9\" class=\"data row3 col9\" >20,000</td>\n",
       "    </tr>\n",
       "    <tr>\n",
       "      <th id=\"T_10d75_level0_row4\" class=\"row_heading level0 row4\" >6</th>\n",
       "      <td id=\"T_10d75_row4_col0\" class=\"data row4 col0\" >1,513,983</td>\n",
       "      <td id=\"T_10d75_row4_col1\" class=\"data row4 col1\" >2016-03-18 05:16:27</td>\n",
       "      <td id=\"T_10d75_row4_col2\" class=\"data row4 col2\" >12</td>\n",
       "      <td id=\"T_10d75_row4_col3\" class=\"data row4 col3\" ></td>\n",
       "      <td id=\"T_10d75_row4_col4\" class=\"data row4 col4\" >41</td>\n",
       "      <td id=\"T_10d75_row4_col5\" class=\"data row4 col5\" >175</td>\n",
       "      <td id=\"T_10d75_row4_col6\" class=\"data row4 col6\" >ANSWERED</td>\n",
       "      <td id=\"T_10d75_row4_col7\" class=\"data row4 col7\" >KAMPALA</td>\n",
       "      <td id=\"T_10d75_row4_col8\" class=\"data row4 col8\" >Sales</td>\n",
       "      <td id=\"T_10d75_row4_col9\" class=\"data row4 col9\" >20,000</td>\n",
       "    </tr>\n",
       "    <tr>\n",
       "      <th id=\"T_10d75_level0_row5\" class=\"row_heading level0 row5\" >7</th>\n",
       "      <td id=\"T_10d75_row5_col0\" class=\"data row5 col0\" >1,514,036</td>\n",
       "      <td id=\"T_10d75_row5_col1\" class=\"data row5 col1\" >2016-03-18 08:33:38</td>\n",
       "      <td id=\"T_10d75_row5_col2\" class=\"data row5 col2\" >11</td>\n",
       "      <td id=\"T_10d75_row5_col3\" class=\"data row5 col3\" ></td>\n",
       "      <td id=\"T_10d75_row5_col4\" class=\"data row5 col4\" >41</td>\n",
       "      <td id=\"T_10d75_row5_col5\" class=\"data row5 col5\" >175</td>\n",
       "      <td id=\"T_10d75_row5_col6\" class=\"data row5 col6\" >ANSWERED</td>\n",
       "      <td id=\"T_10d75_row5_col7\" class=\"data row5 col7\" >KAMPALA</td>\n",
       "      <td id=\"T_10d75_row5_col8\" class=\"data row5 col8\" >Sales</td>\n",
       "      <td id=\"T_10d75_row5_col9\" class=\"data row5 col9\" >20,000</td>\n",
       "    </tr>\n",
       "    <tr>\n",
       "      <th id=\"T_10d75_level0_row6\" class=\"row_heading level0 row6\" >11</th>\n",
       "      <td id=\"T_10d75_row6_col0\" class=\"data row6 col0\" >1,514,180</td>\n",
       "      <td id=\"T_10d75_row6_col1\" class=\"data row6 col1\" >2016-03-21 07:18:20</td>\n",
       "      <td id=\"T_10d75_row6_col2\" class=\"data row6 col2\" >19</td>\n",
       "      <td id=\"T_10d75_row6_col3\" class=\"data row6 col3\" ></td>\n",
       "      <td id=\"T_10d75_row6_col4\" class=\"data row6 col4\" >41</td>\n",
       "      <td id=\"T_10d75_row6_col5\" class=\"data row6 col5\" >175</td>\n",
       "      <td id=\"T_10d75_row6_col6\" class=\"data row6 col6\" >ANSWERED</td>\n",
       "      <td id=\"T_10d75_row6_col7\" class=\"data row6 col7\" >KAMPALA</td>\n",
       "      <td id=\"T_10d75_row6_col8\" class=\"data row6 col8\" >Sales</td>\n",
       "      <td id=\"T_10d75_row6_col9\" class=\"data row6 col9\" >20,000</td>\n",
       "    </tr>\n",
       "    <tr>\n",
       "      <th id=\"T_10d75_level0_row7\" class=\"row_heading level0 row7\" >12</th>\n",
       "      <td id=\"T_10d75_row7_col0\" class=\"data row7 col0\" >1,514,190</td>\n",
       "      <td id=\"T_10d75_row7_col1\" class=\"data row7 col1\" >2016-03-21 08:31:54</td>\n",
       "      <td id=\"T_10d75_row7_col2\" class=\"data row7 col2\" >166</td>\n",
       "      <td id=\"T_10d75_row7_col3\" class=\"data row7 col3\" ></td>\n",
       "      <td id=\"T_10d75_row7_col4\" class=\"data row7 col4\" >77</td>\n",
       "      <td id=\"T_10d75_row7_col5\" class=\"data row7 col5\" >264</td>\n",
       "      <td id=\"T_10d75_row7_col6\" class=\"data row7 col6\" >ANSWERED</td>\n",
       "      <td id=\"T_10d75_row7_col7\" class=\"data row7 col7\" >KAMPALA</td>\n",
       "      <td id=\"T_10d75_row7_col8\" class=\"data row7 col8\" >Sales</td>\n",
       "      <td id=\"T_10d75_row7_col9\" class=\"data row7 col9\" >20,000</td>\n",
       "    </tr>\n",
       "    <tr>\n",
       "      <th id=\"T_10d75_level0_row8\" class=\"row_heading level0 row8\" >15</th>\n",
       "      <td id=\"T_10d75_row8_col0\" class=\"data row8 col0\" >1,514,199</td>\n",
       "      <td id=\"T_10d75_row8_col1\" class=\"data row8 col1\" >2016-03-21 08:51:17</td>\n",
       "      <td id=\"T_10d75_row8_col2\" class=\"data row8 col2\" >270</td>\n",
       "      <td id=\"T_10d75_row8_col3\" class=\"data row8 col3\" ></td>\n",
       "      <td id=\"T_10d75_row8_col4\" class=\"data row8 col4\" >80</td>\n",
       "      <td id=\"T_10d75_row8_col5\" class=\"data row8 col5\" >0</td>\n",
       "      <td id=\"T_10d75_row8_col6\" class=\"data row8 col6\" >ANSWERED</td>\n",
       "      <td id=\"T_10d75_row8_col7\" class=\"data row8 col7\" >KAMPALA</td>\n",
       "      <td id=\"T_10d75_row8_col8\" class=\"data row8 col8\" >Sales</td>\n",
       "      <td id=\"T_10d75_row8_col9\" class=\"data row8 col9\" >20,000</td>\n",
       "    </tr>\n",
       "    <tr>\n",
       "      <th id=\"T_10d75_level0_row9\" class=\"row_heading level0 row9\" >16</th>\n",
       "      <td id=\"T_10d75_row9_col0\" class=\"data row9 col0\" >1,514,286</td>\n",
       "      <td id=\"T_10d75_row9_col1\" class=\"data row9 col1\" >2016-03-21 12:04:24</td>\n",
       "      <td id=\"T_10d75_row9_col2\" class=\"data row9 col2\" >14</td>\n",
       "      <td id=\"T_10d75_row9_col3\" class=\"data row9 col3\" ></td>\n",
       "      <td id=\"T_10d75_row9_col4\" class=\"data row9 col4\" >41</td>\n",
       "      <td id=\"T_10d75_row9_col5\" class=\"data row9 col5\" >175</td>\n",
       "      <td id=\"T_10d75_row9_col6\" class=\"data row9 col6\" >ANSWERED</td>\n",
       "      <td id=\"T_10d75_row9_col7\" class=\"data row9 col7\" >KAMPALA</td>\n",
       "      <td id=\"T_10d75_row9_col8\" class=\"data row9 col8\" >Sales</td>\n",
       "      <td id=\"T_10d75_row9_col9\" class=\"data row9 col9\" >20,000</td>\n",
       "    </tr>\n",
       "  </tbody>\n",
       "</table>\n"
      ],
      "text/plain": [
       "<IPython.core.display.HTML object>"
      ]
     },
     "metadata": {},
     "output_type": "display_data"
    },
    {
     "data": {
      "text/plain": [
       "<Figure size 432x288 with 0 Axes>"
      ]
     },
     "metadata": {},
     "output_type": "display_data"
    }
   ],
   "source": [
    "def report_telephone_logs():\n",
    "    \n",
    "    #probe the data\n",
    "    df = read_telephone_logs()\n",
    "    df_raw = df.copy()\n",
    "    df.head(10)\n",
    "    df.tail(10)\n",
    "    df['telco'].unique()\n",
    "\n",
    "    #convert column data types\n",
    "    df['calldate'] = pd.to_datetime(df['calldate'], format='%Y-%m-%d %H:%M:%S')\n",
    "    df['country_tel_code'] = df['country_tel_code'].apply(str)\n",
    "\n",
    "    df['weekdayname'] = df.apply(lambda row: row['calldate'].strftime('%a'), axis = 1)\n",
    "\n",
    "    #process data\n",
    "    weekends = df['calldate'].apply(lambda x: x.weekday()).isin([5,6])\n",
    "    df = df.loc[weekends] #calls made over weekends\n",
    "    df.set_index('calldate', drop=True, inplace=True)\n",
    "\n",
    "    df.index = df.index.weekday #day of week\n",
    "\n",
    "    df = df.groupby(['weekdayname', 'site', 'department'], sort=False)['duration'].sum().unstack(['weekdayname', 'site']) #.loc[:, 'duration']\n",
    "    df.plot(kind='bar', subplots=False)\n",
    "    plt.show()\n",
    "    plt.clf() #clear\n",
    "    #plt.cla() #clear\n",
    "    display(HTML(format_df(df.fillna(0)).render()))\n",
    "    df_raw_formatted = format_df(df_raw.drop(columns=['pin_code', 'src', 'dest']).fillna('').iloc[:10]) #minus 'pin_code', 'src', 'dest'\n",
    "    display(HTML(df_raw_formatted.render())) #important for Styler, otherwise you cannot just print\n",
    "    #display(HTML(df_raw_formatted))\n",
    "\n",
    "report_telephone_logs()"
   ]
  },
  {
   "cell_type": "code",
   "execution_count": 114,
   "metadata": {},
   "outputs": [
    {
     "data": {
      "text/html": [
       "<style type=\"text/css\">\n",
       "#T_56e58_ td {\n",
       "  text-align: right;\n",
       "  padding-right: 0.5em;\n",
       "}\n",
       "#T_56e58_  {\n",
       "  border: 4px solid grey !important;\n",
       "}\n",
       "#T_56e58_ td {\n",
       "  vertical-align: top;\n",
       "  width: 100px;\n",
       "}\n",
       "#T_56e58_  th {\n",
       "  vertical-align: top;\n",
       "  width: 100px;\n",
       "}\n",
       "#T_56e58_ th {\n",
       "  background-color: #E0F5F8;\n",
       "  text-align: center;\n",
       "  padding-right: 0em;\n",
       "}\n",
       "#T_56e58_  .col_heading {\n",
       "  background-color: #E0F5F8;\n",
       "  text-align: center;\n",
       "  padding-right: 0em;\n",
       "}\n",
       "#T_56e58_  .row_heading {\n",
       "  background-color: #E0F5F8;\n",
       "  text-align: center;\n",
       "  padding-right: 0em;\n",
       "}\n",
       "#T_56e58_  .index_name {\n",
       "  background-color: #E0F5F8;\n",
       "  text-align: center;\n",
       "  padding-right: 0em;\n",
       "}\n",
       "#T_56e58_ caption {\n",
       "  font-size: 18px;\n",
       "  color: red;\n",
       "  caption-side: top;\n",
       "}\n",
       "#T_56e58_row0_col1, #T_56e58_row0_col2, #T_56e58_row1_col1, #T_56e58_row1_col2, #T_56e58_row2_col1, #T_56e58_row2_col2, #T_56e58_row4_col1, #T_56e58_row4_col2, #T_56e58_row5_col1, #T_56e58_row5_col2, #T_56e58_row6_col1, #T_56e58_row6_col2 {\n",
       "  opacity: 100%;\n",
       "  color: black;\n",
       "}\n",
       "#T_56e58_row3_col1, #T_56e58_row3_col2, #T_56e58_row7_col1, #T_56e58_row7_col2 {\n",
       "  opacity: 100%;\n",
       "  color: black;\n",
       "  color: white;\n",
       "  background-color: darkblue;\n",
       "}\n",
       "</style>\n",
       "<table id=\"T_56e58_\">\n",
       "  <thead>\n",
       "    <tr>\n",
       "      <th class=\"blank\" >&nbsp;</th>\n",
       "      <th class=\"blank level0\" >&nbsp;</th>\n",
       "      <th class=\"col_heading level0 col0\" >A</th>\n",
       "      <th class=\"col_heading level0 col1\" >B</th>\n",
       "      <th class=\"col_heading level0 col2\" >C</th>\n",
       "    </tr>\n",
       "  </thead>\n",
       "  <tbody>\n",
       "    <tr>\n",
       "      <th id=\"T_56e58_level0_row0\" class=\"row_heading level0 row0\" rowspan=\"4\">df0</th>\n",
       "      <th id=\"T_56e58_level1_row0\" class=\"row_heading level1 row0\" >0</th>\n",
       "      <td id=\"T_56e58_row0_col0\" class=\"data row0 col0\" >sA1</td>\n",
       "      <td id=\"T_56e58_row0_col1\" class=\"data row0 col1\" >11</td>\n",
       "      <td id=\"T_56e58_row0_col2\" class=\"data row0 col2\" >111</td>\n",
       "    </tr>\n",
       "    <tr>\n",
       "      <th id=\"T_56e58_level1_row1\" class=\"row_heading level1 row1\" >1</th>\n",
       "      <td id=\"T_56e58_row1_col0\" class=\"data row1 col0\" >sA2</td>\n",
       "      <td id=\"T_56e58_row1_col1\" class=\"data row1 col1\" >11</td>\n",
       "      <td id=\"T_56e58_row1_col2\" class=\"data row1 col2\" >222</td>\n",
       "    </tr>\n",
       "    <tr>\n",
       "      <th id=\"T_56e58_level1_row2\" class=\"row_heading level1 row2\" >2</th>\n",
       "      <td id=\"T_56e58_row2_col0\" class=\"data row2 col0\" >sA3</td>\n",
       "      <td id=\"T_56e58_row2_col1\" class=\"data row2 col1\" >22</td>\n",
       "      <td id=\"T_56e58_row2_col2\" class=\"data row2 col2\" >333</td>\n",
       "    </tr>\n",
       "    <tr>\n",
       "      <th id=\"T_56e58_level1_row3\" class=\"row_heading level1 row3\" >3</th>\n",
       "      <td id=\"T_56e58_row3_col0\" class=\"data row3 col0\" >sA4</td>\n",
       "      <td id=\"T_56e58_row3_col1\" class=\"data row3 col1\" >44</td>\n",
       "      <td id=\"T_56e58_row3_col2\" class=\"data row3 col2\" >444</td>\n",
       "    </tr>\n",
       "    <tr>\n",
       "      <th id=\"T_56e58_level0_row4\" class=\"row_heading level0 row4\" rowspan=\"4\">df1</th>\n",
       "      <th id=\"T_56e58_level1_row4\" class=\"row_heading level1 row4\" >0</th>\n",
       "      <td id=\"T_56e58_row4_col0\" class=\"data row4 col0\" >A1</td>\n",
       "      <td id=\"T_56e58_row4_col1\" class=\"data row4 col1\" >11</td>\n",
       "      <td id=\"T_56e58_row4_col2\" class=\"data row4 col2\" >111</td>\n",
       "    </tr>\n",
       "    <tr>\n",
       "      <th id=\"T_56e58_level1_row5\" class=\"row_heading level1 row5\" >1</th>\n",
       "      <td id=\"T_56e58_row5_col0\" class=\"data row5 col0\" >A2</td>\n",
       "      <td id=\"T_56e58_row5_col1\" class=\"data row5 col1\" >11</td>\n",
       "      <td id=\"T_56e58_row5_col2\" class=\"data row5 col2\" >222</td>\n",
       "    </tr>\n",
       "    <tr>\n",
       "      <th id=\"T_56e58_level1_row6\" class=\"row_heading level1 row6\" >2</th>\n",
       "      <td id=\"T_56e58_row6_col0\" class=\"data row6 col0\" >A3</td>\n",
       "      <td id=\"T_56e58_row6_col1\" class=\"data row6 col1\" >22</td>\n",
       "      <td id=\"T_56e58_row6_col2\" class=\"data row6 col2\" >333</td>\n",
       "    </tr>\n",
       "    <tr>\n",
       "      <th id=\"T_56e58_level1_row7\" class=\"row_heading level1 row7\" >3</th>\n",
       "      <td id=\"T_56e58_row7_col0\" class=\"data row7 col0\" >A4</td>\n",
       "      <td id=\"T_56e58_row7_col1\" class=\"data row7 col1\" >44</td>\n",
       "      <td id=\"T_56e58_row7_col2\" class=\"data row7 col2\" >444</td>\n",
       "    </tr>\n",
       "  </tbody>\n",
       "</table>\n"
      ],
      "text/plain": [
       "<IPython.core.display.HTML object>"
      ]
     },
     "metadata": {},
     "output_type": "display_data"
    }
   ],
   "source": [
    "# merge dfs\n",
    "# join dfs\n",
    "# concat dfs\n",
    "# stack and unstack dfs\n",
    "\n",
    "data0 = {'A': ['sA1','sA2','sA3','sA4'], 'B': [11,11,22,44], 'C': [111,222,333,444]}\n",
    "df0 = pd.DataFrame(data0)\n",
    "\n",
    "data1 = {'A': ['A1','A2','A3','A4'], 'B': [11,11,22,44], 'C': [111,222,333,444]}\n",
    "df1 = pd.DataFrame(data1)\n",
    "\n",
    "data2 = {'A': ['A1','A2','A3'], 'b': [11,11,22], 'c': [111,222,333]}\n",
    "df2 = pd.DataFrame(data2)\n",
    "\n",
    "df3 = pd.merge(df1, df2, on='A', how='outer')\n",
    "#df3 = pd.merge(df1, df2, left_on='A', right_on='A', how='outer')\n",
    "#df3 = pd.merge(df1, df2, on='A', how='inner') #inner join produces only rows that match in both dfs; right join produces complete set of records from df2 with any(??) matching records in df1\n",
    "df3\n",
    "\n",
    "#df4 = pd.concat([df0, df1], keys=['df0', 'df1'])\n",
    "df4 = pd.concat({'df0': df0, 'df1': df1}) #another way to pass keys\n",
    "#df4.loc['df0'] #retrieve only df0 records\n",
    "display(HTML(format_df(df4).render()))"
   ]
  },
  {
   "cell_type": "code",
   "execution_count": 115,
   "metadata": {},
   "outputs": [
    {
     "data": {
      "text/plain": [
       "10"
      ]
     },
     "execution_count": 115,
     "metadata": {},
     "output_type": "execute_result"
    }
   ],
   "source": [
    "import numpy as np\n",
    "ls1 = [[1,2,3],[4,5,6]]\n",
    "ls2 = [[1,20,3],[4,50,6]]\n",
    "\n",
    "arr1 = np.array(ls1)\n",
    "# array([[1, 2, 3],\n",
    "#        [4, 5, 6]])\n",
    "\n",
    "arr2 = np.array(ls2)\n",
    "# array([[ 1, 20,  3],\n",
    "#        [ 4, 50,  6]])\n",
    "\n",
    "arr3 = arr1*arr2\n",
    "# array([[  1,  40,   9],\n",
    "#        [ 16, 250,  36]])\n",
    "\n",
    "type(arr3) # numpy.ndarray\n",
    "arr3.ndim # 2 - the number of axes (dimensions) of the array\n",
    "arr3.shape # (2, 3) - dimensions\n",
    "arr3.size # 6 - total number of elements\n",
    "\n",
    "np.zeros((3, 4)) #3 by 4 array of 0s\n",
    "np.ones((3, 4)) #3 by 4 array of 1s\n",
    "np.zeros(4) # one-dimensional array of 4 0s - better use np.arange\n",
    "\n",
    "np.arange(10, 30, 5) #analogous to the Python built-in range\n",
    "\n",
    "a = np.arange(10, 30, 5) # 1d array\n",
    "\n",
    "b = np.arange(12).reshape(4, 3)     # 2d array - array of arrays\n",
    "b\n",
    "np.ones(10, dtype=np.int32).sum()"
   ]
  }
 ],
 "metadata": {
  "interpreter": {
   "hash": "6b6b6f50dbd12861d825c46c9c57add235a796b3469b89c62f59ea2bbbb2f647"
  },
  "kernelspec": {
   "display_name": "Python 3.8.8 64-bit ('venv': venv)",
   "name": "python3"
  },
  "language_info": {
   "codemirror_mode": {
    "name": "ipython",
    "version": 3
   },
   "file_extension": ".py",
   "mimetype": "text/x-python",
   "name": "python",
   "nbconvert_exporter": "python",
   "pygments_lexer": "ipython3",
   "version": "3.8.8"
  },
  "orig_nbformat": 4
 },
 "nbformat": 4,
 "nbformat_minor": 2
}
