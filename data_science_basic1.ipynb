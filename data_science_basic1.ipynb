{
 "cells": [
  {
   "cell_type": "markdown",
   "metadata": {},
   "source": [
    "# <font color=blue><b>Lesson 1: Data Structures</b></font>\n",
    "\n",
    "Data structures in Python: \n",
    "- Integer, Float, String, Tuple (immutable - cannot change once assigned)\n",
    "- List, Dictionary, Set (mutable)"
   ]
  },
  {
   "cell_type": "markdown",
   "metadata": {},
   "source": [
    "## <font color=blue>1.1: Integer, Float, String</font>"
   ]
  },
  {
   "cell_type": "code",
   "execution_count": 209,
   "metadata": {},
   "outputs": [],
   "source": [
    "#Immutable - cannot change once assigned"
   ]
  },
  {
   "cell_type": "markdown",
   "metadata": {},
   "source": [
    "## <font color=blue>1.2: Lists</font>"
   ]
  },
  {
   "cell_type": "code",
   "execution_count": 147,
   "metadata": {},
   "outputs": [],
   "source": [
    "\n",
    "\"\"\"\n",
    "Lists (mutable)\n",
    "Probably the most fundamental data structure in Python is the list. A list is simply an\n",
    "ordered collection. (It is similar to what in other languages might be called an array, but\n",
    "with some added functionality.)\n",
    "\"\"\"\n",
    "\n",
    "integer_list = [1, 2, 3]\n",
    "heterogeneous_list = [\"string\", 0.1, True]\n",
    "list_of_lists = [ integer_list, heterogeneous_list, [] ]\n",
    "list_length = len(integer_list) # equals 3\n",
    "list_sum = sum(integer_list) # equals 6\n",
    "\n",
    "\n"
   ]
  },
  {
   "cell_type": "markdown",
   "metadata": {},
   "source": [
    "## <font color=blue>1.3: Tuples</font>"
   ]
  },
  {
   "cell_type": "code",
   "execution_count": 148,
   "metadata": {},
   "outputs": [
    {
     "name": "stdout",
     "output_type": "stream",
     "text": [
      "cannot modify a tuple\n"
     ]
    }
   ],
   "source": [
    "\"\"\"\n",
    "Tuples (immutable)\n",
    "Tuples are lists’ immutable cousins. Pretty much anything you can do to a list that doesn’t\n",
    "involve modifying it, you can do to a tuple. You specify a tuple by using parentheses (or\n",
    "nothing) instead of square brackets: e.g. (3,2,4,2,6)\n",
    "\"\"\"\n",
    "\n",
    "my_list = [1, 2]\n",
    "my_tuple = (1, 2)\n",
    "other_tuple = 3, 4\n",
    "my_list[1] = 3 # my_list is now [1, 3]\n",
    "try:\n",
    "    my_tuple[1] = 3\n",
    "except TypeError:\n",
    "    print (\"cannot modify a tuple\")"
   ]
  },
  {
   "cell_type": "markdown",
   "metadata": {},
   "source": [
    "## <font color=blue>1.4: Dictionaries</font>"
   ]
  },
  {
   "cell_type": "code",
   "execution_count": 149,
   "metadata": {},
   "outputs": [],
   "source": [
    "\"\"\"\n",
    "Dictionaries (mutable)\n",
    "Another fundamental data structure is a dictionary, which associates values with keys and\n",
    "allows you to quickly retrieve the value corresponding to a given key:\n",
    "\"\"\"\n",
    "\n",
    "empty_dict = {} # Pythonic\n",
    "empty_dict2 = dict() # less Pythonic\n",
    "grades = { \"Joel\" : 80, \"Tim\" : 95 } # dictionary literal\n",
    "#You can look up the value for a key using square brackets:\n",
    "joels_grade = grades[\"Joel\"] # equals 80"
   ]
  },
  {
   "cell_type": "markdown",
   "metadata": {},
   "source": [
    "## <font color=blue>1.5: Sets</font>"
   ]
  },
  {
   "cell_type": "code",
   "execution_count": 150,
   "metadata": {},
   "outputs": [],
   "source": [
    "#Sets (mutable)\n",
    "#Another data structure is set, which represents a collection of distinct elements:\n",
    "s = set()\n",
    "s.add(1) # s is now { 1 }\n",
    "s.add(2) # s is now { 1, 2 }\n",
    "s.add(2) # s is still { 1, 2 }\n",
    "x = len(s) # equals 2\n",
    "y = 2 in s # equals True\n",
    "z = 3 in s # equals False\n",
    "\n",
    "\"\"\"\n",
    "We’ll use sets for two main reasons. The first is that in is a very fast operation on sets. If\n",
    "we have a large collection of items that we want to use for a membership test, a set is more\n",
    "appropriate than a list:\n",
    "\"\"\"\n",
    "\n",
    "stopwords_list = [\"a\",\"an\",\"at\"] + [\"hundreds_of_other_words\"] + [\"yet\", \"you\"]\n",
    "\"zip\" in stopwords_list # False, but have to check every element\n",
    "stopwords_set = set(stopwords_list)\n",
    "\"zip\" in stopwords_set # very fast to check\n",
    "\n",
    "#The second reason is to find the distinct items in a collection:\n",
    "item_list = [1, 2, 3, 1, 2, 3]\n",
    "num_items = len(item_list) # 6\n",
    "item_set = set(item_list) # {1, 2, 3}\n",
    "num_distinct_items = len(item_set) # 3\n",
    "distinct_item_list = list(item_set) # [1, 2, 3]\n",
    "#We’ll use sets much less frequently than dicts and lists."
   ]
  },
  {
   "cell_type": "markdown",
   "metadata": {},
   "source": [
    "# <font color=blue><b>Lesson 2: Some applications - users and friendships</b></font>"
   ]
  },
  {
   "cell_type": "code",
   "execution_count": 151,
   "metadata": {},
   "outputs": [
    {
     "data": {
      "text/plain": [
       "[{'id': 0, 'name': 'Hero'},\n",
       " {'id': 1, 'name': 'Dunn'},\n",
       " {'id': 2, 'name': 'Sue'},\n",
       " {'id': 3, 'name': 'Chi'},\n",
       " {'id': 4, 'name': 'Thor'},\n",
       " {'id': 5, 'name': 'Clive'},\n",
       " {'id': 6, 'name': 'Hicks'},\n",
       " {'id': 7, 'name': 'Devin'},\n",
       " {'id': 8, 'name': 'Kate'},\n",
       " {'id': 9, 'name': 'Klein'}]"
      ]
     },
     "execution_count": 151,
     "metadata": {},
     "output_type": "execute_result"
    }
   ],
   "source": [
    "users = [\n",
    "{ \"id\": 0, \"name\": \"Hero\" },\n",
    "{ \"id\": 1, \"name\": \"Dunn\" },\n",
    "{ \"id\": 2, \"name\": \"Sue\" },\n",
    "{ \"id\": 3, \"name\": \"Chi\" },\n",
    "{ \"id\": 4, \"name\": \"Thor\" },\n",
    "{ \"id\": 5, \"name\": \"Clive\" },\n",
    "{ \"id\": 6, \"name\": \"Hicks\" },\n",
    "{ \"id\": 7, \"name\": \"Devin\" },\n",
    "{ \"id\": 8, \"name\": \"Kate\" },\n",
    "{ \"id\": 9, \"name\": \"Klein\" }\n",
    "]\n",
    "\n",
    "users\n"
   ]
  },
  {
   "cell_type": "code",
   "execution_count": 152,
   "metadata": {},
   "outputs": [
    {
     "data": {
      "text/plain": [
       "[(0, 1),\n",
       " (0, 2),\n",
       " (1, 2),\n",
       " (1, 3),\n",
       " (2, 3),\n",
       " (3, 4),\n",
       " (4, 5),\n",
       " (5, 6),\n",
       " (5, 7),\n",
       " (6, 8),\n",
       " (7, 8),\n",
       " (8, 9)]"
      ]
     },
     "execution_count": 152,
     "metadata": {},
     "output_type": "execute_result"
    }
   ],
   "source": [
    "friendships = [(0, 1), (0, 2), (1, 2), (1, 3), (2, 3), (3, 4),\n",
    "(4, 5), (5, 6), (5, 7), (6, 8), (7, 8), (8, 9)]\n",
    "\n",
    "friendships"
   ]
  },
  {
   "cell_type": "code",
   "execution_count": 153,
   "metadata": {},
   "outputs": [
    {
     "data": {
      "text/plain": [
       "[{'id': 0, 'name': 'Hero', 'friends': []},\n",
       " {'id': 1, 'name': 'Dunn', 'friends': []},\n",
       " {'id': 2, 'name': 'Sue', 'friends': []},\n",
       " {'id': 3, 'name': 'Chi', 'friends': []},\n",
       " {'id': 4, 'name': 'Thor', 'friends': []},\n",
       " {'id': 5, 'name': 'Clive', 'friends': []},\n",
       " {'id': 6, 'name': 'Hicks', 'friends': []},\n",
       " {'id': 7, 'name': 'Devin', 'friends': []},\n",
       " {'id': 8, 'name': 'Kate', 'friends': []},\n",
       " {'id': 9, 'name': 'Klein', 'friends': []}]"
      ]
     },
     "execution_count": 153,
     "metadata": {},
     "output_type": "execute_result"
    }
   ],
   "source": [
    "for user in users:\n",
    "    user[\"friends\"] = []\n",
    "    \n",
    "users    "
   ]
  },
  {
   "cell_type": "code",
   "execution_count": 211,
   "metadata": {},
   "outputs": [],
   "source": [
    "for i, j in friendships:\n",
    "    # this works because users[i] is the user whose id is i\n",
    "    users[i][\"friends\"].append(users[j]) # add i as a friend of j\n",
    "    users[j][\"friends\"].append(users[i]) # add j as a friend of i\n",
    "    \n",
    "#users    "
   ]
  },
  {
   "cell_type": "code",
   "execution_count": 155,
   "metadata": {},
   "outputs": [
    {
     "data": {
      "text/plain": [
       "'Dunn'"
      ]
     },
     "execution_count": 155,
     "metadata": {},
     "output_type": "execute_result"
    }
   ],
   "source": [
    "def number_of_friends(user):\n",
    "    \"\"\"how many friends does _user_ have?\"\"\"\n",
    "    return len(user[\"friends\"]) # length of friend_ids list\n",
    "\n",
    "total_connections = sum(number_of_friends(user)\n",
    "                        for user in users)\n",
    "\n",
    "total_connections\n",
    "\n",
    "number_of_friends(users[1])\n",
    "users[1]['name']"
   ]
  },
  {
   "cell_type": "code",
   "execution_count": 156,
   "metadata": {},
   "outputs": [
    {
     "data": {
      "text/plain": [
       "2.4"
      ]
     },
     "execution_count": 156,
     "metadata": {},
     "output_type": "execute_result"
    }
   ],
   "source": [
    "from __future__ import division # integer division is lame\n",
    "num_users = len(users) # length of the users list\n",
    "avg_connections = total_connections / num_users # 2.4\n",
    "avg_connections"
   ]
  },
  {
   "cell_type": "code",
   "execution_count": 212,
   "metadata": {},
   "outputs": [
    {
     "data": {
      "text/plain": [
       "[(9, 8),\n",
       " (9, 5),\n",
       " (9, 3),\n",
       " (9, 2),\n",
       " (9, 1),\n",
       " (6, 7),\n",
       " (6, 6),\n",
       " (6, 4),\n",
       " (6, 0),\n",
       " (3, 9)]"
      ]
     },
     "execution_count": 212,
     "metadata": {},
     "output_type": "execute_result"
    }
   ],
   "source": [
    "# create a list (user_id, number_of_friends)\n",
    "num_friends_by_id = [(number_of_friends(user), user[\"id\"]) for user in users] #list-comprehension, concise way to create new lists\n",
    "\n",
    "\n",
    "sorted(num_friends_by_id\n",
    "           , key = lambda num_friends: num_friends, reverse=True) #lambda is not accepting bracketed inputs (>1 input)\n",
    "           "
   ]
  },
  {
   "cell_type": "markdown",
   "metadata": {},
   "source": [
    "# <font color=blue><b>Lesson 3: Lambda, Counter, Unpack lists, Sort, Enumerate</b></font>"
   ]
  },
  {
   "cell_type": "code",
   "execution_count": 158,
   "metadata": {},
   "outputs": [
    {
     "name": "stdout",
     "output_type": "stream",
     "text": [
      "0 is less than 3\n",
      "1 is less than 3\n",
      "2 is less than 3\n"
     ]
    },
    {
     "data": {
      "text/plain": [
       "5"
      ]
     },
     "execution_count": 158,
     "metadata": {},
     "output_type": "execute_result"
    }
   ],
   "source": [
    "for x in range(3):\n",
    "    print (x, \"is less than 3\")\n",
    "    \n",
    "#dont assign lambdas to variables like below. instead use a function def or pass parameters immediately at the end  \n",
    "full_name = lambda first, last: f'Full name: {first.upper()} {last.title()}' #lambda is an anonymus function. This one takes 2 parameters (first, last) and returns one\n",
    "full_name('guido', 'van rossum') #'Full name: GUIDO Van Rossum'\n",
    "\n",
    "#pass parameters immediately at the end - notice parenthesis on both\n",
    "(lambda first, last: f'Full name: {first.upper()} {last.title()}') ('aaaa', 'bbbb')\n",
    "(lambda x, y: x + y)(2, 3)\n"
   ]
  },
  {
   "cell_type": "code",
   "execution_count": 159,
   "metadata": {},
   "outputs": [
    {
     "name": "stdout",
     "output_type": "stream",
     "text": [
      "The occurrance of Python is:  4\n"
     ]
    },
    {
     "data": {
      "text/plain": [
       "3"
      ]
     },
     "execution_count": 159,
     "metadata": {},
     "output_type": "execute_result"
    }
   ],
   "source": [
    "#Python Counter takes in input a list, tuple, dictionary, string, which are all iterable objects, and it will give you output that will have the count of each element.\n",
    "\n",
    "from collections import Counter\n",
    "lang_list = ['Python', 'C++', 'C', 'Java', 'Python', 'C', 'Python', 'C++', 'Python', 'C']\n",
    "C = Counter(lang_list)\n",
    "print(\"The occurrance of Python is: \" ,C['Python'])\n",
    "\n",
    "aa=[1,2,3,4,4,4]\n",
    "Counter(aa) #Counter({1: 1, 2: 1, 3: 1, 4: 3})\n",
    "Counter(aa)[4] #3"
   ]
  },
  {
   "cell_type": "code",
   "execution_count": 160,
   "metadata": {},
   "outputs": [],
   "source": [
    "#unpack lists\n",
    "x, y = [1, 2] # now x is 1, y is 2\n",
    "_, y = [1, 2] # now y == 2, didn't care about the first element, ignore it\n",
    "\n",
    "ids = ['id1', 'id2', 'id30', 'id3', 'id22', 'id100'] # Lexicographic sort #['id1', 'id100', 'id2', 'id22', 'id3', 'id30']\n",
    "sorted_ids = sorted(ids, key=lambda x: int(x[2:])) # Integer sort #['id1', 'id2', 'id3', 'id22', 'id30', 'id100']\n"
   ]
  },
  {
   "cell_type": "code",
   "execution_count": 161,
   "metadata": {},
   "outputs": [
    {
     "name": "stdout",
     "output_type": "stream",
     "text": [
      "aa 3\n",
      "bb 3\n",
      "cc 2\n",
      "dd 2\n",
      "ee 2\n"
     ]
    }
   ],
   "source": [
    "# sort the list by absolute value from largest to smallest\n",
    "x = sorted([-4,1,-2,3], key=abs, reverse=True) # is [-4,3,-2,1]\n",
    "\n",
    "# sort the words and counts from highest count to lowest\n",
    "aa= ['aa', 'bb', 'cc', 'dd', 'ee', 'ff', 'gg', 'aa', 'bb', 'cc', 'dd', 'ee', 'ff', 'aa', 'bb'] #'abcdefgh abc' #[1,2,3,4,4,4]\n",
    "word_counts = Counter(aa)\n",
    "#wc = sorted(word_counts.items(), key=lambda (word, count): count, reverse=True)\n",
    "\n",
    "#A Counter instance has a most_common method that is frequently useful:\n",
    "# print the 10 most common words and their counts\n",
    "for word, count in word_counts.most_common(5):\n",
    "    print (word, count)"
   ]
  },
  {
   "cell_type": "code",
   "execution_count": 162,
   "metadata": {},
   "outputs": [
    {
     "data": {
      "text/plain": [
       "[-4, 3, -2, 1]"
      ]
     },
     "execution_count": 162,
     "metadata": {},
     "output_type": "execute_result"
    }
   ],
   "source": [
    "x = [4,1,2,3]\n",
    "y = sorted(x) # is [1,2,3,4], x is unchanged\n",
    "x.sort() #x is changed\n",
    "\n",
    "# sort the list by absolute value from largest to smallest\n",
    "x = sorted([-4,1,-2,3], key=abs, reverse=True) # is [-4,3,-2,1]\n",
    "x"
   ]
  },
  {
   "cell_type": "code",
   "execution_count": 217,
   "metadata": {},
   "outputs": [
    {
     "name": "stdout",
     "output_type": "stream",
     "text": [
      "0 aa\n",
      "1 bb\n",
      "2 cc\n",
      "0\n",
      "1\n",
      "2\n"
     ]
    }
   ],
   "source": [
    "#enumerate\n",
    "#Not infrequently, you’ll want to iterate over a list and use both its elements and their indexes:\n",
    "#The Pythonic solution is enumerate, which produces tuples (index, element):\n",
    "documents = ['aa', 'bb', 'cc']\n",
    "for i, document in enumerate(documents):\n",
    "    print(i, document)\n",
    "    \n",
    "#if you want to use only index:\n",
    "for i, _ in enumerate(documents):\n",
    "    print(i)\n"
   ]
  }
 ],
 "metadata": {
  "kernelspec": {
   "display_name": "Python 3",
   "language": "python",
   "name": "python3"
  },
  "language_info": {
   "codemirror_mode": {
    "name": "ipython",
    "version": 3
   },
   "file_extension": ".py",
   "mimetype": "text/x-python",
   "name": "python",
   "nbconvert_exporter": "python",
   "pygments_lexer": "ipython3",
   "version": "3.7.1"
  }
 },
 "nbformat": 4,
 "nbformat_minor": 2
}
